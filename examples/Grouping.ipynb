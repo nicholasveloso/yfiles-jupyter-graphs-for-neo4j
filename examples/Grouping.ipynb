{
 "cells": [
  {
   "cell_type": "markdown",
   "id": "b838710e-f47e-4252-83b6-1ede89296740",
   "metadata": {},
   "source": [
    "# Grouping Nodes\n",
    "\n",
    "This notebook showcases the ```add_parent_configuration``` method."
   ]
  },
  {
   "cell_type": "code",
   "execution_count": null,
   "id": "92545967-f317-4c2e-a80f-6fcd29e8d911",
   "metadata": {},
   "outputs": [],
   "source": [
    "from neo4j import GraphDatabase\n",
    "\n",
    "NEO4J_URI      = \"neo4j+ssc://demo.neo4jlabs.com\" \n",
    "NEO4J_USERNAME = \"fincen\"\n",
    "NEO4J_PASSWORD = \"fincen\"\n",
    "driver = GraphDatabase.driver(uri = NEO4J_URI, auth = (NEO4J_USERNAME, NEO4J_PASSWORD), database = 'fincen')"
   ]
  },
  {
   "cell_type": "code",
   "execution_count": null,
   "id": "38cbb7e1-01da-43b1-9f66-b3853b441eee",
   "metadata": {},
   "outputs": [],
   "source": [
    "from yfiles_jupyter_graphs_for_neo4j import Neo4jGraphWidget\n",
    "\n",
    "# pass the Neo4j database driver to resolve the queries\n",
    "g = Neo4jGraphWidget(driver)"
   ]
  },
  {
   "cell_type": "code",
   "execution_count": null,
   "id": "821d7c71-6c15-4959-9b84-5e6dea4a2b39",
   "metadata": {},
   "outputs": [],
   "source": [
    "g.set_autocomplete_relationships(True)\n",
    "\n",
    "cypher = \"\"\"MATCH (entity:Entity)-[r:COUNTRY]->(country:Country) \n",
    "            WHERE country.name IN ['China', 'Denmark', 'Ecuador', 'France', 'Germany'] WITH country, collect(entity) AS entities \n",
    "            WHERE size(entities) >= 5 WITH country, entities[0..5] AS limitedEntities RETURN country, limitedEntities LIMIT 5\"\"\"\n",
    "g.add_parent_configuration('COUNTRY')\n",
    "g.show_cypher(cypher)"
   ]
  },
  {
   "cell_type": "markdown",
   "id": "ee9b0f2d-a90f-43c2-a0d8-c19bc4e77228",
   "metadata": {},
   "source": [
    "## Multi-level nesting\n",
    "\n",
    "Each node only has one parent node. \n",
    "\n",
    "However, if you set a parent node for this node as well, you can achieve multi-level nesting"
   ]
  },
  {
   "cell_type": "code",
   "execution_count": null,
   "id": "6a819318-e6e5-43be-aeaa-54b725cdc247",
   "metadata": {},
   "outputs": [],
   "source": [
    "g.set_autocomplete_relationships(True)\n",
    "g.add_parent_configuration(\"CONCERNS\")\n",
    "g.add_parent_configuration(\"COUNTRY\")\n",
    "g.show_cypher(\"MATCH (n) WHERE id(n) IN [307,4048,5985] RETURN n\")"
   ]
  },
  {
   "cell_type": "code",
   "execution_count": null,
   "id": "c9c2fc00-52f8-47c3-97de-076aaef23c3d",
   "metadata": {},
   "outputs": [],
   "source": [
    "g.del_parent_configuration(\"COUNTRY\")\n",
    "g.show_cypher(\"MATCH (n) WHERE id(n) IN [307,4048,5985] RETURN n\")"
   ]
  }
 ],
 "metadata": {
  "kernelspec": {
   "display_name": "Python 3 (ipykernel)",
   "language": "python",
   "name": "python3"
  },
  "language_info": {
   "codemirror_mode": {
    "name": "ipython",
    "version": 3
   },
   "file_extension": ".py",
   "mimetype": "text/x-python",
   "name": "python",
   "nbconvert_exporter": "python",
   "pygments_lexer": "ipython3",
   "version": "3.12.2"
  }
 },
 "nbformat": 4,
 "nbformat_minor": 5
}
