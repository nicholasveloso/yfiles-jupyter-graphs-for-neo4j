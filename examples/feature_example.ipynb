{
 "cells": [
  {
   "cell_type": "markdown",
   "id": "58d934df-dddf-4596-aef0-8fc9772a364c",
   "metadata": {},
   "source": [
    "# Features\n",
    "\n",
    "This notebook is supposed to showcase some of the various features supported by the widget. \n",
    "\n",
    "For a detailed description for the different mappings, check out the widget [documentation](https://yworks.github.io/yfiles-jupyter-graphs/)\n"
   ]
  },
  {
   "cell_type": "code",
   "execution_count": 1,
   "id": "547d100c-0e8c-4600-875d-33877fbea626",
   "metadata": {},
   "outputs": [
    {
     "name": "stdout",
     "output_type": "stream",
     "text": [
      "Note: you may need to restart the kernel to use updated packages.\n",
      "Note: you may need to restart the kernel to use updated packages.\n"
     ]
    }
   ],
   "source": [
    "%pip install yfiles_jupyter_graphs_for_neo4j --quiet\n",
    "%pip install neo4j --quiet\n",
    "from yfiles_jupyter_graphs_for_neo4j import Neo4jGraphWidget\n",
    "from neo4j import GraphDatabase\n",
    "\n",
    "NEO4J_URI      = \"neo4j+ssc://demo.neo4jlabs.com\" \n",
    "NEO4J_USERNAME = \"fincen\"\n",
    "NEO4J_PASSWORD = \"fincen\"\n",
    "driver = GraphDatabase.driver(uri = NEO4J_URI, auth = (NEO4J_USERNAME, NEO4J_PASSWORD), database = 'fincen')\n",
    "\n",
    "g = Neo4jGraphWidget(driver)"
   ]
  },
  {
   "cell_type": "markdown",
   "id": "2c8fb293-c638-4a5a-b321-eeb4907b6432",
   "metadata": {},
   "source": [
    "## Heat Mapping"
   ]
  },
  {
   "cell_type": "code",
   "execution_count": 2,
   "id": "ebdabe1b-6503-49a7-8039-8d469b4caeea",
   "metadata": {},
   "outputs": [
    {
     "data": {
      "application/vnd.jupyter.widget-view+json": {
       "model_id": "35d973986cc1402c80cb73aa0d4e9ae9",
       "version_major": 2,
       "version_minor": 0
      },
      "text/plain": [
       "GraphWidget(layout=Layout(height='690px', width='100%'))"
      ]
     },
     "metadata": {},
     "output_type": "display_data"
    }
   ],
   "source": [
    "max_amount = 120000000\n",
    "min_amount = 50000\n",
    "\n",
    "def heat_mapping(element):\n",
    "    if 'amount' in element['properties']:\n",
    "        amount = element['properties']['amount']\n",
    "        normalized_value = (amount - min_amount) / (max_amount - min_amount)\n",
    "        transformed_value = -1 * (1 - normalized_value) ** 2 + 1\n",
    "        return max(0, min(1, transformed_value))\n",
    "        \n",
    "    \n",
    "\n",
    "g.add_node_configuration('Filing', heat=heat_mapping)\n",
    "\n",
    "\n",
    "g.show_cypher(\"MATCH (s)-[r]->(t) RETURN s,r,t LIMIT 25\")"
   ]
  },
  {
   "cell_type": "markdown",
   "id": "41002892-a638-4544-842b-1881287d04e0",
   "metadata": {},
   "source": [
    "## Leaflet Integration"
   ]
  },
  {
   "cell_type": "code",
   "execution_count": 3,
   "id": "3f9de7f7-bacc-4c5b-989e-ed4211584725",
   "metadata": {},
   "outputs": [
    {
     "data": {
      "application/vnd.jupyter.widget-view+json": {
       "model_id": "af445248985547478aca9bfb60de3617",
       "version_major": 2,
       "version_minor": 0
      },
      "text/plain": [
       "GraphWidget(layout=Layout(height='800px', width='100%'))"
      ]
     },
     "metadata": {},
     "output_type": "display_data"
    }
   ],
   "source": [
    "def node_coordinate_mapping(node):\n",
    "    return (node['properties']['location']['y'], node['properties']['location']['x']) if 'location' in node['properties'].keys() else None\n",
    "\n",
    "def filing_coordinate_mapping(node):\n",
    "    return (node['properties']['beneficiary_lat'], (node['properties']['beneficiary_lng'])) if 'beneficiary_lat' in node['properties'].keys() else None\n",
    "\n",
    "g.add_node_configuration('Country', coordinate=node_coordinate_mapping)\n",
    "g.add_node_configuration('Entity', coordinate=node_coordinate_mapping)\n",
    "g.add_node_configuration('Filing', coordinate=filing_coordinate_mapping)\n",
    "\n",
    "g.show_cypher(\"MATCH (s)-[r]->(t) RETURN s,r,t LIMIT 50\")"
   ]
  },
  {
   "cell_type": "markdown",
   "id": "3fac2327-1f33-4188-8176-5a1323b8888e",
   "metadata": {},
   "source": [
    "## Node Grouping"
   ]
  },
  {
   "cell_type": "code",
   "execution_count": 12,
   "id": "8038a468-f14c-42cc-b97a-2df779b53740",
   "metadata": {},
   "outputs": [
    {
     "data": {
      "application/vnd.jupyter.widget-view+json": {
       "model_id": "3828071d5c6c40e3ab0573082fc1471d",
       "version_major": 2,
       "version_minor": 0
      },
      "text/plain": [
       "GraphWidget(layout=Layout(height='660px', width='100%'))"
      ]
     },
     "metadata": {},
     "output_type": "display_data"
    }
   ],
   "source": [
    "def node_grouping_mapping(node):\n",
    "    if 'country' in node['properties'].keys():\n",
    "        match node['properties']['country']:\n",
    "            case 'KHM': return 330\n",
    "            case 'NZL': return 454\n",
    "            case 'CHN': return 338\n",
    "            case 'CYP': return 350\n",
    "            case 'SGP': return  497\n",
    "\n",
    "g.add_node_configuration('Entity', parent=node_grouping_mapping)\n",
    "\n",
    "\n",
    "\n",
    "g.show_cypher(\"MATCH (s)-[r]->(t) RETURN s,r,t LIMIT 22\")"
   ]
  },
  {
   "cell_type": "markdown",
   "id": "3879ccf9-4223-41bd-ae38-d4b726097413",
   "metadata": {},
   "source": [
    "## Node Size & Edge Thickness Mapping"
   ]
  },
  {
   "cell_type": "code",
   "execution_count": 27,
   "id": "de1ca154-7735-476e-920b-d5b45b61a5ac",
   "metadata": {},
   "outputs": [
    {
     "data": {
      "application/vnd.jupyter.widget-view+json": {
       "model_id": "c7ad6bc39e4649ddb4c736dd7061950b",
       "version_major": 2,
       "version_minor": 0
      },
      "text/plain": [
       "GraphWidget(layout=Layout(height='690px', width='100%'))"
      ]
     },
     "metadata": {},
     "output_type": "display_data"
    }
   ],
   "source": [
    "\n",
    "g.add_relationship_configuration('CONCERNS', thickness_factor= 0.5)\n",
    "g.add_relationship_configuration('FILED', thickness_factor= 2)\n",
    "g.del_node_configuration('Entity')\n",
    "g.add_node_configuration('Filing', size= lambda node:  (55 * (1 + heat_mapping(node)), 55 * (1 + heat_mapping(node)))) \n",
    "\n",
    "g.show_cypher(\"MATCH (s)-[r]->(t) RETURN s,r,t LIMIT 25\")"
   ]
  }
 ],
 "metadata": {
  "kernelspec": {
   "display_name": "Python 3 (ipykernel)",
   "language": "python",
   "name": "python3"
  },
  "language_info": {
   "codemirror_mode": {
    "name": "ipython",
    "version": 3
   },
   "file_extension": ".py",
   "mimetype": "text/x-python",
   "name": "python",
   "nbconvert_exporter": "python",
   "pygments_lexer": "ipython3",
   "version": "3.12.2"
  }
 },
 "nbformat": 4,
 "nbformat_minor": 5
}
