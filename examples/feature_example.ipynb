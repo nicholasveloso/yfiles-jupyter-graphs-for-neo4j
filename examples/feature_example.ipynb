{
 "cells": [
  {
   "cell_type": "markdown",
   "id": "58d934df-dddf-4596-aef0-8fc9772a364c",
   "metadata": {},
   "source": [
    "# Features <a target=\"_blank\" href=\"https://colab.research.google.com/github/yWorks/yfiles-jupyter-graphs-for-neo4j/blob/main/examples/feature_example.ipynb\"><img src=\"https://colab.research.google.com/assets/colab-badge.svg\" alt=\"Open In Colab\"/></a>\n",
    "\n",
    "This notebook showcases some of the various features of `yfiles-jupyte-graphs-for-neo4j`. \n",
    "\n",
    "For a detailed description for the different mappings, check out the widget [documentation](https://yworks.github.io/yfiles-jupyter-graphs/)\n"
   ]
  },
  {
   "cell_type": "code",
   "execution_count": null,
   "id": "547d100c-0e8c-4600-875d-33877fbea626",
   "metadata": {},
   "outputs": [],
   "source": [
    "%pip install yfiles_jupyter_graphs_for_neo4j --quiet\n",
    "%pip install neo4j --quiet"
   ]
  },
  {
   "cell_type": "markdown",
   "id": "698b0bf0-118e-4f23-95b5-a8f1c7b2774f",
   "metadata": {},
   "source": [
    "You can also open this notebook in Google Colab when Google Colab's custom widget manager is enabled:"
   ]
  },
  {
   "cell_type": "code",
   "execution_count": null,
   "id": "91c4e84f-a1b5-43c2-ad7f-80581e3ae26a",
   "metadata": {},
   "outputs": [],
   "source": [
    "try:\n",
    "  import google.colab\n",
    "  from google.colab import output\n",
    "  output.enable_custom_widget_manager()\n",
    "except:\n",
    "  pass"
   ]
  },
  {
   "cell_type": "markdown",
   "id": "da7913db-4807-4631-a82c-a09ab6999383",
   "metadata": {},
   "source": [
    "<a target=\"_blank\" href=\"https://colab.research.google.com/github/yWorks/yfiles-jupyter-graphs-for-neo4j/blob/main/examples/feature_example.ipynb\"><img src=\"https://colab.research.google.com/assets/colab-badge.svg\" alt=\"Open In Colab\"/></a>"
   ]
  },
  {
   "cell_type": "markdown",
   "id": "4f84e6a7-616d-400c-a297-c9d6c67932b9",
   "metadata": {},
   "source": [
    "## Connect to the database"
   ]
  },
  {
   "cell_type": "code",
   "execution_count": null,
   "id": "1b30c433-5541-4bb5-8dc6-631987280e5f",
   "metadata": {},
   "outputs": [],
   "source": [
    "from yfiles_jupyter_graphs_for_neo4j import Neo4jGraphWidget\n",
    "from neo4j import GraphDatabase\n",
    "\n",
    "NEO4J_URI      = \"neo4j+ssc://demo.neo4jlabs.com\" \n",
    "NEO4J_USERNAME = \"fincen\"\n",
    "NEO4J_PASSWORD = \"fincen\"\n",
    "driver = GraphDatabase.driver(uri = NEO4J_URI, auth = (NEO4J_USERNAME, NEO4J_PASSWORD), database = 'fincen')\n",
    "\n",
    "g = Neo4jGraphWidget(driver)"
   ]
  },
  {
   "cell_type": "markdown",
   "id": "2c8fb293-c638-4a5a-b321-eeb4907b6432",
   "metadata": {},
   "source": [
    "## Use heat mapping"
   ]
  },
  {
   "cell_type": "code",
   "execution_count": null,
   "id": "ebdabe1b-6503-49a7-8039-8d469b4caeea",
   "metadata": {},
   "outputs": [],
   "source": [
    "max_amount = 120000000\n",
    "min_amount = 50000\n",
    "\n",
    "def heat_mapping(element):\n",
    "    if 'amount' in element['properties']:\n",
    "        amount = element['properties']['amount']\n",
    "        normalized_value = (amount - min_amount) / (max_amount - min_amount)\n",
    "        transformed_value = -1 * (1 - normalized_value) ** 2 + 1\n",
    "        return max(0, min(1, transformed_value))\n",
    "\n",
    "g.add_node_configuration('Filing', heat=heat_mapping)\n",
    "\n",
    "g.show_cypher(\"MATCH (s)-[r]->(t) RETURN s,r,t LIMIT 25\")"
   ]
  },
  {
   "cell_type": "markdown",
   "id": "41002892-a638-4544-842b-1881287d04e0",
   "metadata": {},
   "source": [
    "## Visualize geospatial data"
   ]
  },
  {
   "cell_type": "code",
   "execution_count": null,
   "id": "3f9de7f7-bacc-4c5b-989e-ed4211584725",
   "metadata": {},
   "outputs": [],
   "source": [
    "def node_coordinate_mapping(node):\n",
    "    return (node['properties']['location']['y'], node['properties']['location']['x']) if 'location' in node['properties'].keys() else None\n",
    "\n",
    "def filing_coordinate_mapping(node):\n",
    "    return (node['properties']['beneficiary_lat'], (node['properties']['beneficiary_lng'])) if 'beneficiary_lat' in node['properties'].keys() else None\n",
    "\n",
    "g.add_node_configuration('Country', coordinate=node_coordinate_mapping)\n",
    "g.add_node_configuration('Entity', coordinate=node_coordinate_mapping)\n",
    "g.add_node_configuration('Filing', coordinate=filing_coordinate_mapping)\n",
    "\n",
    "g.show_cypher(\"MATCH (s)-[r]->(t) RETURN s,r,t LIMIT 50\")"
   ]
  },
  {
   "cell_type": "markdown",
   "id": "3879ccf9-4223-41bd-ae38-d4b726097413",
   "metadata": {},
   "source": [
    "## Configure item visualization"
   ]
  },
  {
   "cell_type": "code",
   "execution_count": null,
   "id": "de1ca154-7735-476e-920b-d5b45b61a5ac",
   "metadata": {},
   "outputs": [],
   "source": [
    "\n",
    "g.add_relationship_configuration('CONCERNS', thickness_factor= 0.5)\n",
    "g.add_relationship_configuration('FILED', thickness_factor= 2)\n",
    "g.del_node_configuration('Entity')\n",
    "g.add_node_configuration('Filing', size= lambda node:  (55 * (1 + heat_mapping(node)), 55 * (1 + heat_mapping(node)))) \n",
    "\n",
    "g.show_cypher(\"MATCH (s)-[r]->(t) RETURN s,r,t LIMIT 25\")"
   ]
  }
 ],
 "metadata": {
  "kernelspec": {
   "display_name": "Python 3 (ipykernel)",
   "language": "python",
   "name": "python3"
  },
  "language_info": {
   "codemirror_mode": {
    "name": "ipython",
    "version": 3
   },
   "file_extension": ".py",
   "mimetype": "text/x-python",
   "name": "python",
   "nbconvert_exporter": "python",
   "pygments_lexer": "ipython3",
   "version": "3.12.3"
  }
 },
 "nbformat": 4,
 "nbformat_minor": 5
}
