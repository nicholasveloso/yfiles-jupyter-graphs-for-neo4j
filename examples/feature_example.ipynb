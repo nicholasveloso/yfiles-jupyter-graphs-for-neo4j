{
  "cells": [
    {
      "cell_type": "markdown",
      "id": "58d934df-dddf-4596-aef0-8fc9772a364c",
      "metadata": {
        "id": "58d934df-dddf-4596-aef0-8fc9772a364c"
      },
      "source": [
        "# Features <a target=\"_blank\" href=\"https://colab.research.google.com/github/yWorks/yfiles-jupyter-graphs-for-neo4j/blob/main/examples/feature_example.ipynb\"><img src=\"https://colab.research.google.com/assets/colab-badge.svg\" alt=\"Open In Colab\"/></a>\n",
        "\n",
        "This notebook showcases some of the various features of `yfiles-jupyter-graphs-for-neo4j`.\n",
        "\n",
        "For a detailed description for the different mappings, check out the widget [documentation](https://yworks.github.io/yfiles-jupyter-graphs/)\n"
      ]
    },
    {
      "cell_type": "code",
      "execution_count": 1,
      "id": "547d100c-0e8c-4600-875d-33877fbea626",
      "metadata": {
        "colab": {
          "base_uri": "https://localhost:8080/"
        },
        "id": "547d100c-0e8c-4600-875d-33877fbea626",
        "outputId": "17f296bb-5299-4c55-c686-28a45eaaafca"
      },
      "outputs": [
        {
          "output_type": "stream",
          "name": "stdout",
          "text": [
            "\u001b[2K   \u001b[90m━━━━━━━━━━━━━━━━━━━━━━━━━━━━━━━━━━━━━━━━\u001b[0m \u001b[32m15.5/15.5 MB\u001b[0m \u001b[31m31.8 MB/s\u001b[0m eta \u001b[36m0:00:00\u001b[0m\n",
            "\u001b[2K   \u001b[90m━━━━━━━━━━━━━━━━━━━━━━━━━━━━━━━━━━━━━━━━\u001b[0m \u001b[32m139.8/139.8 kB\u001b[0m \u001b[31m5.1 MB/s\u001b[0m eta \u001b[36m0:00:00\u001b[0m\n",
            "\u001b[2K   \u001b[90m━━━━━━━━━━━━━━━━━━━━━━━━━━━━━━━━━━━━━━━━\u001b[0m \u001b[32m2.3/2.3 MB\u001b[0m \u001b[31m21.2 MB/s\u001b[0m eta \u001b[36m0:00:00\u001b[0m\n",
            "\u001b[2K   \u001b[90m━━━━━━━━━━━━━━━━━━━━━━━━━━━━━━━━━━━━━━━━\u001b[0m \u001b[32m1.6/1.6 MB\u001b[0m \u001b[31m19.8 MB/s\u001b[0m eta \u001b[36m0:00:00\u001b[0m\n",
            "\u001b[2K   \u001b[90m━━━━━━━━━━━━━━━━━━━━━━━━━━━━━━━━━━━━━━━━\u001b[0m \u001b[32m302.0/302.0 kB\u001b[0m \u001b[31m4.4 MB/s\u001b[0m eta \u001b[36m0:00:00\u001b[0m\n",
            "\u001b[?25h"
          ]
        }
      ],
      "source": [
        "%pip install yfiles_jupyter_graphs_for_neo4j --quiet\n",
        "%pip install neo4j --quiet"
      ]
    },
    {
      "cell_type": "markdown",
      "id": "698b0bf0-118e-4f23-95b5-a8f1c7b2774f",
      "metadata": {
        "id": "698b0bf0-118e-4f23-95b5-a8f1c7b2774f"
      },
      "source": [
        "You can also open this notebook in Google Colab when Google Colab's custom widget manager is enabled:"
      ]
    },
    {
      "cell_type": "code",
      "execution_count": 2,
      "id": "91c4e84f-a1b5-43c2-ad7f-80581e3ae26a",
      "metadata": {
        "id": "91c4e84f-a1b5-43c2-ad7f-80581e3ae26a"
      },
      "outputs": [],
      "source": [
        "try:\n",
        "  import google.colab\n",
        "  from google.colab import output\n",
        "  output.enable_custom_widget_manager()\n",
        "except:\n",
        "  pass"
      ]
    },
    {
      "cell_type": "markdown",
      "id": "da7913db-4807-4631-a82c-a09ab6999383",
      "metadata": {
        "id": "da7913db-4807-4631-a82c-a09ab6999383"
      },
      "source": [
        "<a target=\"_blank\" href=\"https://colab.research.google.com/github/yWorks/yfiles-jupyter-graphs-for-neo4j/blob/main/examples/feature_example.ipynb\"><img src=\"https://colab.research.google.com/assets/colab-badge.svg\" alt=\"Open In Colab\"/></a>"
      ]
    },
    {
      "cell_type": "markdown",
      "id": "4f84e6a7-616d-400c-a297-c9d6c67932b9",
      "metadata": {
        "id": "4f84e6a7-616d-400c-a297-c9d6c67932b9"
      },
      "source": [
        "## Connect to the database"
      ]
    },
    {
      "cell_type": "code",
      "execution_count": 3,
      "id": "1b30c433-5541-4bb5-8dc6-631987280e5f",
      "metadata": {
        "id": "1b30c433-5541-4bb5-8dc6-631987280e5f"
      },
      "outputs": [],
      "source": [
        "from yfiles_jupyter_graphs_for_neo4j import Neo4jGraphWidget\n",
        "from neo4j import GraphDatabase\n",
        "\n",
        "NEO4J_URI      = \"neo4j+ssc://demo.neo4jlabs.com\"\n",
        "NEO4J_USERNAME = \"fincen\"\n",
        "NEO4J_PASSWORD = \"fincen\"\n",
        "driver = GraphDatabase.driver(uri = NEO4J_URI, auth = (NEO4J_USERNAME, NEO4J_PASSWORD), database = 'fincen')\n",
        "\n",
        "g = Neo4jGraphWidget(driver)"
      ]
    },
    {
      "cell_type": "markdown",
      "id": "2c8fb293-c638-4a5a-b321-eeb4907b6432",
      "metadata": {
        "id": "2c8fb293-c638-4a5a-b321-eeb4907b6432"
      },
      "source": [
        "## Use heat mapping"
      ]
    },
    {
      "cell_type": "code",
      "execution_count": 4,
      "id": "ebdabe1b-6503-49a7-8039-8d469b4caeea",
      "metadata": {
        "colab": {
          "base_uri": "https://localhost:8080/",
          "height": 707,
          "referenced_widgets": [
            "7183a05fe51b4414a512ec7cd5a039f9",
            "d3877c288a8e45bcb0dc268296dcbee2"
          ]
        },
        "id": "ebdabe1b-6503-49a7-8039-8d469b4caeea",
        "outputId": "aed86e18-de50-4533-c69f-e414b978c037"
      },
      "outputs": [
        {
          "output_type": "display_data",
          "data": {
            "text/plain": [
              "GraphWidget(layout=Layout(height='690px', width='100%'))"
            ],
            "application/vnd.jupyter.widget-view+json": {
              "version_major": 2,
              "version_minor": 0,
              "model_id": "7183a05fe51b4414a512ec7cd5a039f9"
            }
          },
          "metadata": {
            "application/vnd.jupyter.widget-view+json": {
              "colab": {
                "custom_widget_manager": {
                  "url": "https://ssl.gstatic.com/colaboratory-static/widgets/colab-cdn-widget-manager/2b70e893a8ba7c0f/manager.min.js"
                }
              }
            }
          }
        }
      ],
      "source": [
        "max_amount = 120000000\n",
        "min_amount = 50000\n",
        "\n",
        "def heat_mapping(element):\n",
        "    if 'amount' in element['properties']:\n",
        "        amount = element['properties']['amount']\n",
        "        normalized_value = (amount - min_amount) / (max_amount - min_amount)\n",
        "        transformed_value = -1 * (1 - normalized_value) ** 2 + 1\n",
        "        return max(0, min(1, transformed_value))\n",
        "\n",
        "g.add_node_configuration('Filing', heat=heat_mapping)\n",
        "\n",
        "g.show_cypher(\"MATCH (s)-[r]->(t) RETURN s,r,t LIMIT 25\")"
      ]
    },
    {
      "cell_type": "markdown",
      "id": "41002892-a638-4544-842b-1881287d04e0",
      "metadata": {
        "id": "41002892-a638-4544-842b-1881287d04e0"
      },
      "source": [
        "## Visualize geospatial data"
      ]
    },
    {
      "cell_type": "code",
      "execution_count": 5,
      "id": "3f9de7f7-bacc-4c5b-989e-ed4211584725",
      "metadata": {
        "colab": {
          "base_uri": "https://localhost:8080/",
          "height": 817,
          "referenced_widgets": [
            "064cb8eefe974c1a9a04edb3a9a35ff3",
            "a3c748a4f284463dbafb53f134d13d4f"
          ]
        },
        "id": "3f9de7f7-bacc-4c5b-989e-ed4211584725",
        "outputId": "adcaa4d3-8746-4829-d13b-61421e7fcb77"
      },
      "outputs": [
        {
          "output_type": "display_data",
          "data": {
            "text/plain": [
              "GraphWidget(layout=Layout(height='800px', width='100%'))"
            ],
            "application/vnd.jupyter.widget-view+json": {
              "version_major": 2,
              "version_minor": 0,
              "model_id": "064cb8eefe974c1a9a04edb3a9a35ff3"
            }
          },
          "metadata": {
            "application/vnd.jupyter.widget-view+json": {
              "colab": {
                "custom_widget_manager": {
                  "url": "https://ssl.gstatic.com/colaboratory-static/widgets/colab-cdn-widget-manager/2b70e893a8ba7c0f/manager.min.js"
                }
              }
            }
          }
        }
      ],
      "source": [
        "def node_coordinate_mapping(node):\n",
        "    return (node['properties']['location']['y'], node['properties']['location']['x']) if 'location' in node['properties'].keys() else None\n",
        "\n",
        "def filing_coordinate_mapping(node):\n",
        "    return (node['properties']['beneficiary_lat'], (node['properties']['beneficiary_lng'])) if 'beneficiary_lat' in node['properties'].keys() else None\n",
        "\n",
        "g.add_node_configuration('Country', coordinate=node_coordinate_mapping)\n",
        "g.add_node_configuration('Entity', coordinate=node_coordinate_mapping)\n",
        "g.add_node_configuration('Filing', coordinate=filing_coordinate_mapping)\n",
        "\n",
        "g.show_cypher(\"MATCH (s)-[r]->(t) RETURN s,r,t LIMIT 50\")"
      ]
    },
    {
      "cell_type": "markdown",
      "id": "3879ccf9-4223-41bd-ae38-d4b726097413",
      "metadata": {
        "id": "3879ccf9-4223-41bd-ae38-d4b726097413"
      },
      "source": [
        "## Configure item visualization"
      ]
    },
    {
      "cell_type": "code",
      "execution_count": 6,
      "id": "de1ca154-7735-476e-920b-d5b45b61a5ac",
      "metadata": {
        "colab": {
          "base_uri": "https://localhost:8080/",
          "height": 707,
          "referenced_widgets": [
            "19e8ff23174e4899851cb81e52c606bc",
            "3425ef7d35664d6194571f3f35b06813"
          ]
        },
        "id": "de1ca154-7735-476e-920b-d5b45b61a5ac",
        "outputId": "bf31af42-0794-4042-96fa-91be4920fca8"
      },
      "outputs": [
        {
          "output_type": "display_data",
          "data": {
            "text/plain": [
              "GraphWidget(layout=Layout(height='690px', width='100%'))"
            ],
            "application/vnd.jupyter.widget-view+json": {
              "version_major": 2,
              "version_minor": 0,
              "model_id": "19e8ff23174e4899851cb81e52c606bc"
            }
          },
          "metadata": {
            "application/vnd.jupyter.widget-view+json": {
              "colab": {
                "custom_widget_manager": {
                  "url": "https://ssl.gstatic.com/colaboratory-static/widgets/colab-cdn-widget-manager/2b70e893a8ba7c0f/manager.min.js"
                }
              }
            }
          }
        }
      ],
      "source": [
        "\n",
        "g.add_relationship_configuration('CONCERNS', thickness_factor= 0.5)\n",
        "g.add_relationship_configuration('FILED', thickness_factor= 2)\n",
        "g.del_node_configuration('Entity')\n",
        "g.add_node_configuration('Filing', size= lambda node:  (55 * (1 + heat_mapping(node)), 55 * (1 + heat_mapping(node))))\n",
        "\n",
        "g.show_cypher(\"MATCH (s)-[r]->(t) RETURN s,r,t LIMIT 25\")"
      ]
    },
    {
      "cell_type": "markdown",
      "id": "7484387b-5b1e-429d-afa2-7df01bd3b4e2",
      "metadata": {
        "id": "7484387b-5b1e-429d-afa2-7df01bd3b4e2"
      },
      "source": [
        "## Configure grouping\n",
        "\n",
        "The widget supports various grouping options, see [grouping.ipynb](./grouping.ipynb) for more details."
      ]
    },
    {
      "cell_type": "code",
      "execution_count": 7,
      "id": "c70e5897-c369-4132-8c30-5e7a2c712ed9",
      "metadata": {
        "colab": {
          "base_uri": "https://localhost:8080/",
          "height": 707,
          "referenced_widgets": [
            "ee765ce7d42f481aaf29c1f5aa66f708",
            "c1b68016d2db4fb38759ab49ceb27f46"
          ]
        },
        "id": "c70e5897-c369-4132-8c30-5e7a2c712ed9",
        "outputId": "3a046805-844c-43f8-853f-c71ac117b2d7"
      },
      "outputs": [
        {
          "output_type": "display_data",
          "data": {
            "text/plain": [
              "GraphWidget(layout=Layout(height='690px', width='100%'))"
            ],
            "application/vnd.jupyter.widget-view+json": {
              "version_major": 2,
              "version_minor": 0,
              "model_id": "ee765ce7d42f481aaf29c1f5aa66f708"
            }
          },
          "metadata": {
            "application/vnd.jupyter.widget-view+json": {
              "colab": {
                "custom_widget_manager": {
                  "url": "https://ssl.gstatic.com/colaboratory-static/widgets/colab-cdn-widget-manager/2b70e893a8ba7c0f/manager.min.js"
                }
              }
            }
          }
        }
      ],
      "source": [
        "# replaces \"COUNTRY\" relationships with a grouped hierarchy\n",
        "g.add_parent_relationship_configuration(\"COUNTRY\")\n",
        "\n",
        "g.show_cypher(\"MATCH (s)-[r]->(t) RETURN s,r,t LIMIT 25\")"
      ]
    },
    {
      "cell_type": "markdown",
      "id": "749d167e-ee57-4034-8486-13bab3fa650a",
      "metadata": {
        "id": "749d167e-ee57-4034-8486-13bab3fa650a"
      },
      "source": [
        "## Configure node-to-cell mapping\n",
        "\n",
        "The node-to-cell mapping allows to fine-tune layout results by assigning preferred cell constraints for specific nodes.\n",
        "\n",
        "This is particularly useful to highlight specific items structurally aside from visual features like color or size."
      ]
    },
    {
      "cell_type": "code",
      "execution_count": 8,
      "id": "85da977f-8ab9-4059-be63-832987958b2f",
      "metadata": {
        "colab": {
          "base_uri": "https://localhost:8080/",
          "height": 707,
          "referenced_widgets": [
            "3ffc36d649b240e584a28d5054ea80d6",
            "fe0598b629a2426eab8868e17787668e"
          ]
        },
        "id": "85da977f-8ab9-4059-be63-832987958b2f",
        "outputId": "525a2ef9-182d-4b0d-87c8-494da5f01e9c"
      },
      "outputs": [
        {
          "output_type": "display_data",
          "data": {
            "text/plain": [
              "GraphWidget(layout=Layout(height='690px', width='100%'))"
            ],
            "application/vnd.jupyter.widget-view+json": {
              "version_major": 2,
              "version_minor": 0,
              "model_id": "3ffc36d649b240e584a28d5054ea80d6"
            }
          },
          "metadata": {
            "application/vnd.jupyter.widget-view+json": {
              "colab": {
                "custom_widget_manager": {
                  "url": "https://ssl.gstatic.com/colaboratory-static/widgets/colab-cdn-widget-manager/2b70e893a8ba7c0f/manager.min.js"
                }
              }
            }
          }
        }
      ],
      "source": [
        "g.del_parent_relationship_configuration(\"COUNTRY\")\n",
        "\n",
        "# highlight Bank of New York and China Construction Bank\n",
        "def get_cell_mapping(node):\n",
        "    name = node[\"properties\"].get(\"name\")\n",
        "    if name == \"The Bank of New York Mellon Corp.\" or name == \"China Construction Bank Corporation\":\n",
        "        return (0,0)\n",
        "    return (1,0)\n",
        "\n",
        "g.node_cell_mapping = get_cell_mapping\n",
        "\n",
        "# layouts interpret node-to-cell mapping differently\n",
        "g.show_cypher(\"MATCH (s)-[r]->(t) RETURN s,r,t LIMIT 25\", layout='hierarchic')"
      ]
    }
  ],
  "metadata": {
    "kernelspec": {
      "display_name": "Python 3 (ipykernel)",
      "language": "python",
      "name": "python3"
    },
    "language_info": {
      "codemirror_mode": {
        "name": "ipython",
        "version": 3
      },
      "file_extension": ".py",
      "mimetype": "text/x-python",
      "name": "python",
      "nbconvert_exporter": "python",
      "pygments_lexer": "ipython3",
      "version": "3.9.19"
    },
    "colab": {
      "provenance": []
    },
    "widgets": {
      "application/vnd.jupyter.widget-state+json": {
        "7183a05fe51b4414a512ec7cd5a039f9": {
          "model_module": "yfiles-jupyter-graphs",
          "model_name": "GraphModel",
          "model_module_version": "^1.9.0",
          "state": {
            "_context_pane_mapping": [
              {
                "id": "Neighborhood",
                "title": "Neighborhood"
              },
              {
                "id": "Data",
                "title": "Data"
              },
              {
                "id": "Search",
                "title": "Search"
              },
              {
                "id": "About",
                "title": "About"
              }
            ],
            "_data_importer": "neo4j",
            "_directed": true,
            "_dom_classes": [],
            "_edges": [
              {
                "id": 0,
                "start": 5056,
                "end": 2645,
                "properties": {
                  "label": "FILED"
                },
                "label": "FILED",
                "color": "#607D8B",
                "thickness_factor": 1,
                "directed": true
              },
              {
                "id": 1,
                "start": 2645,
                "end": 5068,
                "properties": {
                  "label": "CONCERNS"
                },
                "label": "CONCERNS",
                "color": "#673AB7",
                "thickness_factor": 1,
                "directed": true
              },
              {
                "id": 2,
                "start": 5068,
                "end": 338,
                "properties": {
                  "label": "COUNTRY"
                },
                "label": "COUNTRY",
                "color": "#CDDC39",
                "thickness_factor": 1,
                "directed": true
              },
              {
                "id": 3,
                "start": 5056,
                "end": 2646,
                "properties": {
                  "label": "FILED"
                },
                "label": "FILED",
                "color": "#607D8B",
                "thickness_factor": 1,
                "directed": true
              },
              {
                "id": 4,
                "start": 2646,
                "end": 5068,
                "properties": {
                  "label": "CONCERNS"
                },
                "label": "CONCERNS",
                "color": "#673AB7",
                "thickness_factor": 1,
                "directed": true
              },
              {
                "id": 5,
                "start": 5056,
                "end": 2647,
                "properties": {
                  "label": "FILED"
                },
                "label": "FILED",
                "color": "#607D8B",
                "thickness_factor": 1,
                "directed": true
              },
              {
                "id": 6,
                "start": 2647,
                "end": 5068,
                "properties": {
                  "label": "CONCERNS"
                },
                "label": "CONCERNS",
                "color": "#673AB7",
                "thickness_factor": 1,
                "directed": true
              },
              {
                "id": 7,
                "start": 5056,
                "end": 2648,
                "properties": {
                  "label": "FILED"
                },
                "label": "FILED",
                "color": "#607D8B",
                "thickness_factor": 1,
                "directed": true
              },
              {
                "id": 8,
                "start": 2648,
                "end": 5068,
                "properties": {
                  "label": "CONCERNS"
                },
                "label": "CONCERNS",
                "color": "#673AB7",
                "thickness_factor": 1,
                "directed": true
              },
              {
                "id": 9,
                "start": 5056,
                "end": 2649,
                "properties": {
                  "label": "FILED"
                },
                "label": "FILED",
                "color": "#607D8B",
                "thickness_factor": 1,
                "directed": true
              },
              {
                "id": 10,
                "start": 2649,
                "end": 5068,
                "properties": {
                  "label": "CONCERNS"
                },
                "label": "CONCERNS",
                "color": "#673AB7",
                "thickness_factor": 1,
                "directed": true
              },
              {
                "id": 11,
                "start": 5056,
                "end": 2650,
                "properties": {
                  "label": "FILED"
                },
                "label": "FILED",
                "color": "#607D8B",
                "thickness_factor": 1,
                "directed": true
              },
              {
                "id": 12,
                "start": 2650,
                "end": 5068,
                "properties": {
                  "label": "CONCERNS"
                },
                "label": "CONCERNS",
                "color": "#673AB7",
                "thickness_factor": 1,
                "directed": true
              },
              {
                "id": 13,
                "start": 5056,
                "end": 2651,
                "properties": {
                  "label": "FILED"
                },
                "label": "FILED",
                "color": "#607D8B",
                "thickness_factor": 1,
                "directed": true
              },
              {
                "id": 14,
                "start": 2651,
                "end": 5068,
                "properties": {
                  "label": "CONCERNS"
                },
                "label": "CONCERNS",
                "color": "#673AB7",
                "thickness_factor": 1,
                "directed": true
              },
              {
                "id": 15,
                "start": 5056,
                "end": 2652,
                "properties": {
                  "label": "FILED"
                },
                "label": "FILED",
                "color": "#607D8B",
                "thickness_factor": 1,
                "directed": true
              },
              {
                "id": 16,
                "start": 2652,
                "end": 5068,
                "properties": {
                  "label": "CONCERNS"
                },
                "label": "CONCERNS",
                "color": "#673AB7",
                "thickness_factor": 1,
                "directed": true
              },
              {
                "id": 17,
                "start": 5056,
                "end": 2653,
                "properties": {
                  "label": "FILED"
                },
                "label": "FILED",
                "color": "#607D8B",
                "thickness_factor": 1,
                "directed": true
              },
              {
                "id": 18,
                "start": 2653,
                "end": 5068,
                "properties": {
                  "label": "CONCERNS"
                },
                "label": "CONCERNS",
                "color": "#673AB7",
                "thickness_factor": 1,
                "directed": true
              },
              {
                "id": 19,
                "start": 5057,
                "end": 2263,
                "properties": {
                  "label": "FILED"
                },
                "label": "FILED",
                "color": "#607D8B",
                "thickness_factor": 1,
                "directed": true
              },
              {
                "id": 20,
                "start": 2263,
                "end": 5069,
                "properties": {
                  "label": "CONCERNS"
                },
                "label": "CONCERNS",
                "color": "#673AB7",
                "thickness_factor": 1,
                "directed": true
              },
              {
                "id": 21,
                "start": 5069,
                "end": 350,
                "properties": {
                  "label": "COUNTRY"
                },
                "label": "COUNTRY",
                "color": "#CDDC39",
                "thickness_factor": 1,
                "directed": true
              },
              {
                "id": 22,
                "start": 5056,
                "end": 549,
                "properties": {
                  "label": "FILED"
                },
                "label": "FILED",
                "color": "#607D8B",
                "thickness_factor": 1,
                "directed": true
              },
              {
                "id": 23,
                "start": 549,
                "end": 5070,
                "properties": {
                  "label": "CONCERNS"
                },
                "label": "CONCERNS",
                "color": "#673AB7",
                "thickness_factor": 1,
                "directed": true
              },
              {
                "id": 24,
                "start": 5070,
                "end": 454,
                "properties": {
                  "label": "COUNTRY"
                },
                "label": "COUNTRY",
                "color": "#CDDC39",
                "thickness_factor": 1,
                "directed": true
              }
            ],
            "_graph_layout": {
              "algorithm": "organic",
              "options": {}
            },
            "_highlight": [],
            "_license": {},
            "_model_module": "yfiles-jupyter-graphs",
            "_model_module_version": "^1.9.0",
            "_model_name": "GraphModel",
            "_neighborhood": {},
            "_nodes": [
              {
                "id": 5056,
                "properties": {
                  "name": "The Bank of New York Mellon Corp.",
                  "location": {
                    "x": -73.987862,
                    "y": 40.777571,
                    "z": 0
                  },
                  "id": "the-bank-of-new-york-mellon-corp",
                  "label": "Entity"
                },
                "color": "#2196F3",
                "styles": {},
                "label": "The Bank of New York Mellon Corp.",
                "scale_factor": 1,
                "type": "#2196F3",
                "size": [
                  55,
                  55
                ],
                "position": [
                  0,
                  0
                ]
              },
              {
                "id": 2645,
                "properties": {
                  "end_date": "Oct 13, 2015",
                  "amount": 2741500,
                  "beneficiary_iso": "SGP",
                  "beneficiary_lng": "103.8",
                  "begin_date": "Oct 2, 2015",
                  "originator_bank": "HSBC Hong Kong",
                  "beneficiary_lat": "1.3667",
                  "begin_date_format": "2015-10-02T00:00:00Z",
                  "originator_iso": "HKG",
                  "beneficiary_bank_id": "dbs-bank-ltd-singapore-sgp",
                  "end_date_format": "2015-10-13T00:00:00Z",
                  "origin_lat": "22.25",
                  "number": 4,
                  "filer_org_name": "The Bank of New York Mellon Corp.",
                  "originator_bank_country": "Hong Kong",
                  "beneficiary_bank": "DBS Bank Ltd",
                  "beneficiary_bank_country": "Singapore",
                  "filer_org_name_id": "the-bank-of-new-york-mellon-corp",
                  "end": "2015-10-13T00:00:00.000000",
                  "origin_lng": "114.1667",
                  "originator_bank_id": "hsbc-hong-kong",
                  "id": "234293",
                  "begin": "2015-10-02T00:00:00.000000",
                  "sar_id": "4293",
                  "label": "Filing"
                },
                "color": "#4CAF50",
                "styles": {},
                "label": "Filing",
                "scale_factor": 1,
                "type": "#4CAF50",
                "size": [
                  55,
                  55
                ],
                "position": [
                  0,
                  0
                ],
                "heat": 0.04437354509425473
              },
              {
                "id": 5068,
                "properties": {
                  "country": "CHN",
                  "name": "China Construction Bank Corporation",
                  "location": {
                    "x": 105,
                    "y": 35,
                    "z": 0
                  },
                  "id": "china-construction-bank-corporation-beijing-china-chn",
                  "label": "Entity"
                },
                "color": "#2196F3",
                "styles": {},
                "label": "China Construction Bank Corporation",
                "scale_factor": 1,
                "type": "#2196F3",
                "size": [
                  55,
                  55
                ],
                "position": [
                  0,
                  0
                ]
              },
              {
                "id": 338,
                "properties": {
                  "code": "CHN",
                  "name": "China",
                  "location": {
                    "x": 105,
                    "y": 35,
                    "z": 0
                  },
                  "tld": "CN",
                  "label": "Country"
                },
                "color": "#F44336",
                "styles": {},
                "label": "China",
                "scale_factor": 1,
                "type": "#F44336",
                "size": [
                  55,
                  55
                ],
                "position": [
                  0,
                  0
                ]
              },
              {
                "id": 2646,
                "properties": {
                  "end_date": "Oct 27, 2015",
                  "amount": 3240000,
                  "beneficiary_iso": "SGP",
                  "beneficiary_lng": "103.8",
                  "begin_date": "Oct 27, 2015",
                  "originator_bank": "Bank of Taiwan",
                  "beneficiary_lat": "1.3667",
                  "begin_date_format": "2015-10-27T00:00:00Z",
                  "beneficiary_bank_id": "dbs-bank-ltd-singapore-sgp",
                  "end_date_format": "2015-10-27T00:00:00Z",
                  "originator_iso": "TWN",
                  "origin_lat": "23.5",
                  "number": 1,
                  "filer_org_name": "The Bank of New York Mellon Corp.",
                  "originator_bank_country": "Taiwan",
                  "beneficiary_bank_country": "Singapore",
                  "filer_org_name_id": "the-bank-of-new-york-mellon-corp",
                  "beneficiary_bank": "DBS Bank Ltd",
                  "end": "2015-10-27T00:00:00.000000",
                  "origin_lng": "121",
                  "originator_bank_id": "bank-of-taiwan",
                  "id": "234294",
                  "begin": "2015-10-27T00:00:00.000000",
                  "sar_id": "4293",
                  "label": "Filing"
                },
                "color": "#4CAF50",
                "styles": {},
                "label": "Filing",
                "scale_factor": 1,
                "type": "#4CAF50",
                "size": [
                  55,
                  55
                ],
                "position": [
                  0,
                  0
                ],
                "heat": 0.05248156580456542
              },
              {
                "id": 2647,
                "properties": {
                  "end_date": "Oct 23, 2015",
                  "amount": 3397070,
                  "beneficiary_iso": "CZE",
                  "beneficiary_lng": "15.5",
                  "begin_date": "Oct 23, 2015",
                  "originator_bank": "J And T Bank And Trust",
                  "beneficiary_lat": "49.75",
                  "begin_date_format": "2015-10-23T00:00:00Z",
                  "beneficiary_bank_id": "ppf-banka-as-prague-czech-republic-cze",
                  "end_date_format": "2015-10-23T00:00:00Z",
                  "originator_iso": "BRB",
                  "origin_lat": "13.1667",
                  "number": 1,
                  "filer_org_name": "The Bank of New York Mellon Corp.",
                  "originator_bank_country": "Barbados",
                  "beneficiary_bank": "PPF Banka A.S.",
                  "beneficiary_bank_country": "Czech Republic",
                  "filer_org_name_id": "the-bank-of-new-york-mellon-corp",
                  "end": "2015-10-23T00:00:00.000000",
                  "origin_lng": "-59.5333",
                  "originator_bank_id": "j-and-t-bank-and-trust",
                  "id": "234295",
                  "begin": "2015-10-23T00:00:00.000000",
                  "sar_id": "4293",
                  "label": "Filing"
                },
                "color": "#4CAF50",
                "styles": {},
                "label": "Filing",
                "scale_factor": 1,
                "type": "#4CAF50",
                "size": [
                  55,
                  55
                ],
                "position": [
                  0,
                  0
                ],
                "heat": 0.05502912690035333
              },
              {
                "id": 2648,
                "properties": {
                  "end_date": "Oct 15, 2015",
                  "amount": 3500000,
                  "beneficiary_iso": "CHN",
                  "beneficiary_lng": "105",
                  "begin_date": "Oct 7, 2015",
                  "originator_bank": "Taishin International Bank",
                  "beneficiary_lat": "35",
                  "begin_date_format": "2015-10-07T00:00:00Z",
                  "end_date_format": "2015-10-15T00:00:00Z",
                  "originator_iso": "TWN",
                  "beneficiary_bank_id": "foshan-shunde-rural-commercial-bk-co-ltd-shunde-china-chn",
                  "origin_lat": "23.5",
                  "number": 3,
                  "filer_org_name": "The Bank of New York Mellon Corp.",
                  "originator_bank_country": "Taiwan",
                  "beneficiary_bank": "Foshan Shunde Rural Commercial Bk Co Ltd",
                  "beneficiary_bank_country": "China",
                  "filer_org_name_id": "the-bank-of-new-york-mellon-corp",
                  "end": "2015-10-15T00:00:00.000000",
                  "origin_lng": "121",
                  "originator_bank_id": "taishin-international-bank",
                  "id": "234296",
                  "begin": "2015-10-07T00:00:00.000000",
                  "sar_id": "4293",
                  "label": "Filing"
                },
                "color": "#4CAF50",
                "styles": {},
                "label": "Filing",
                "scale_factor": 1,
                "type": "#4CAF50",
                "size": [
                  55,
                  55
                ],
                "position": [
                  0,
                  0
                ],
                "heat": 0.05669671658730946
              },
              {
                "id": 2649,
                "properties": {
                  "end_date": "Oct 29, 2015",
                  "amount": 3561111.36,
                  "beneficiary_iso": "CHN",
                  "beneficiary_lng": "105",
                  "begin_date": "Oct 13, 2015",
                  "originator_bank": "CTBC Bank Co Ltd",
                  "beneficiary_lat": "35",
                  "begin_date_format": "2015-10-13T00:00:00Z",
                  "beneficiary_bank_id": "china-construction-bank-corporation-guangdong-china-chn",
                  "end_date_format": "2015-10-29T00:00:00Z",
                  "originator_iso": "HKG",
                  "origin_lat": "22.25",
                  "number": 3,
                  "filer_org_name": "The Bank of New York Mellon Corp.",
                  "originator_bank_country": "Hong Kong",
                  "beneficiary_bank": "China Construction Bank Corporation",
                  "filer_org_name_id": "the-bank-of-new-york-mellon-corp",
                  "beneficiary_bank_country": "China",
                  "end": "2015-10-29T00:00:00.000000",
                  "origin_lng": "114.1667",
                  "originator_bank_id": "ctbc-bank-co-ltd",
                  "id": "234297",
                  "begin": "2015-10-13T00:00:00.000000",
                  "sar_id": "4293",
                  "label": "Filing"
                },
                "color": "#4CAF50",
                "styles": {},
                "label": "Filing",
                "scale_factor": 1,
                "type": "#4CAF50",
                "size": [
                  55,
                  55
                ],
                "position": [
                  0,
                  0
                ],
                "heat": 0.05768609730792562
              },
              {
                "id": 2650,
                "properties": {
                  "end_date": "Oct 29, 2015",
                  "amount": 2993552.18,
                  "beneficiary_iso": "CHN",
                  "beneficiary_lng": "105",
                  "begin_date": "Oct 27, 2015",
                  "originator_bank": "SCSB Savings Department Branch",
                  "beneficiary_lat": "35",
                  "begin_date_format": "2015-10-27T00:00:00Z",
                  "beneficiary_bank_id": "ping-an-bank-co-ltd-east-shenzhen-china-chn",
                  "originator_iso": "TWN",
                  "end_date_format": "2015-10-29T00:00:00Z",
                  "origin_lat": "23.5",
                  "number": 3,
                  "filer_org_name": "The Bank of New York Mellon Corp.",
                  "originator_bank_country": "Taiwan",
                  "beneficiary_bank": "Ping An Bank Co Ltd",
                  "filer_org_name_id": "the-bank-of-new-york-mellon-corp",
                  "beneficiary_bank_country": "China",
                  "end": "2015-10-29T00:00:00.000000",
                  "origin_lng": "121",
                  "originator_bank_id": "scsb-savings-department-branch",
                  "id": "234298",
                  "begin": "2015-10-27T00:00:00.000000",
                  "sar_id": "4293",
                  "label": "Filing"
                },
                "color": "#4CAF50",
                "styles": {},
                "label": "Filing",
                "scale_factor": 1,
                "type": "#4CAF50",
                "size": [
                  55,
                  55
                ],
                "position": [
                  0,
                  0
                ],
                "heat": 0.04847744977425572
              },
              {
                "id": 2651,
                "properties": {
                  "end_date": "Oct 9, 2015",
                  "amount": 5870272.71,
                  "beneficiary_lng": "103.8",
                  "beneficiary_iso": "SGP",
                  "begin_date": "Oct 5, 2015",
                  "originator_bank": "HSBC Singapore General Account",
                  "beneficiary_lat": "1.3667",
                  "begin_date_format": "2015-10-05T00:00:00Z",
                  "beneficiary_bank_id": "dbs-bank-ltd-singapore-sgp",
                  "end_date_format": "2015-10-09T00:00:00Z",
                  "originator_iso": "SGP",
                  "origin_lat": "1.3667",
                  "number": 3,
                  "filer_org_name": "The Bank of New York Mellon Corp.",
                  "originator_bank_country": "Singapore",
                  "beneficiary_bank_country": "Singapore",
                  "filer_org_name_id": "the-bank-of-new-york-mellon-corp",
                  "beneficiary_bank": "DBS Bank Ltd",
                  "end": "2015-10-09T00:00:00.000000",
                  "origin_lng": "103.8",
                  "originator_bank_id": "hsbc-singapore-general-account",
                  "id": "234300",
                  "begin": "2015-10-05T00:00:00.000000",
                  "sar_id": "4293",
                  "label": "Filing"
                },
                "color": "#4CAF50",
                "styles": {},
                "label": "Filing",
                "scale_factor": 1,
                "type": "#4CAF50",
                "size": [
                  55,
                  55
                ],
                "position": [
                  0,
                  0
                ],
                "heat": 0.09469054851152747
              },
              {
                "id": 2652,
                "properties": {
                  "end_date": "Oct 23, 2015",
                  "amount": 4967922.12,
                  "beneficiary_iso": "NOR",
                  "beneficiary_lng": "10",
                  "begin_date": "Oct 23, 2015",
                  "originator_bank": "Bank of Communications",
                  "beneficiary_lat": "62",
                  "begin_date_format": "2015-10-23T00:00:00Z",
                  "beneficiary_bank_id": "skandinaviska-enskilda-banken-oslo-norway-nor",
                  "end_date_format": "2015-10-23T00:00:00Z",
                  "originator_iso": "HKG",
                  "origin_lat": "22.25",
                  "number": 2,
                  "filer_org_name": "The Bank of New York Mellon Corp.",
                  "originator_bank_country": "Hong Kong",
                  "beneficiary_bank": "Skandinaviska Enskilda Banken",
                  "filer_org_name_id": "the-bank-of-new-york-mellon-corp",
                  "beneficiary_bank_country": "Norway",
                  "end": "2015-10-23T00:00:00.000000",
                  "origin_lng": "114.1667",
                  "originator_bank_id": "bank-of-communications",
                  "id": "234301",
                  "begin": "2015-10-23T00:00:00.000000",
                  "sar_id": "4293",
                  "label": "Filing"
                },
                "color": "#4CAF50",
                "styles": {},
                "label": "Filing",
                "scale_factor": 1,
                "type": "#4CAF50",
                "size": [
                  55,
                  55
                ],
                "position": [
                  0,
                  0
                ],
                "heat": 0.08031855419886214
              },
              {
                "id": 2653,
                "properties": {
                  "end_date": "Oct 30, 2015",
                  "amount": 15457176.81,
                  "beneficiary_iso": "IDN",
                  "beneficiary_lng": "120",
                  "begin_date": "Oct 9, 2015",
                  "originator_bank": "Icici Bank Limited",
                  "beneficiary_lat": "-5",
                  "begin_date_format": "2015-10-09T00:00:00Z",
                  "end_date_format": "2015-10-30T00:00:00Z",
                  "beneficiary_bank_id": "bank-of-india-indonesia-jakarta-indonesia-idn",
                  "originator_iso": "SGP",
                  "origin_lat": "1.3667",
                  "number": 4,
                  "filer_org_name": "The Bank of New York Mellon Corp.",
                  "originator_bank_country": "Singapore",
                  "beneficiary_bank_country": "Indonesia",
                  "beneficiary_bank": "Bank of India Indonesia",
                  "filer_org_name_id": "the-bank-of-new-york-mellon-corp",
                  "end": "2015-10-30T00:00:00.000000",
                  "origin_lng": "103.8",
                  "originator_bank_id": "icici-bank-limited",
                  "id": "234302",
                  "begin": "2015-10-09T00:00:00.000000",
                  "sar_id": "4293",
                  "label": "Filing"
                },
                "color": "#4CAF50",
                "styles": {},
                "label": "Filing",
                "scale_factor": 1,
                "type": "#4CAF50",
                "size": [
                  55,
                  55
                ],
                "position": [
                  0,
                  0
                ],
                "heat": 0.24039477470652348
              },
              {
                "id": 5057,
                "properties": {
                  "name": "Société Générale SA",
                  "location": {
                    "x": -73.987862,
                    "y": 40.777571,
                    "z": 0
                  },
                  "id": "societe-generale-sa",
                  "label": "Entity"
                },
                "color": "#2196F3",
                "styles": {},
                "label": "Société Générale SA",
                "scale_factor": 1,
                "type": "#2196F3",
                "size": [
                  55,
                  55
                ],
                "position": [
                  0,
                  0
                ]
              },
              {
                "id": 2263,
                "properties": {
                  "end_date": "Jul 11, 2012",
                  "amount": 37733084,
                  "beneficiary_iso": "CYP",
                  "beneficiary_lng": "33",
                  "begin_date": "Jul 11, 2012",
                  "originator_bank": "SG Private Banking",
                  "beneficiary_lat": "35",
                  "begin_date_format": "2012-07-11T00:00:00Z",
                  "end_date_format": "2012-07-11T00:00:00Z",
                  "beneficiary_bank_id": "societe-generale-bank-cyprus-ltd-sg-cyprus-cyp",
                  "originator_iso": "CHE",
                  "origin_lat": "47",
                  "number": 1,
                  "filer_org_name": "Société Générale SA",
                  "originator_bank_country": "Switzerland",
                  "beneficiary_bank_country": "Cyprus",
                  "beneficiary_bank": "Societe Generale Bank Cyprus Ltd",
                  "filer_org_name_id": "societe-generale-sa",
                  "end": "2012-07-11T00:00:00.000000",
                  "origin_lng": "8",
                  "originator_bank_id": "sg-private-banking",
                  "id": "231963",
                  "begin": "2012-07-11T00:00:00.000000",
                  "sar_id": "2782",
                  "label": "Filing"
                },
                "color": "#4CAF50",
                "styles": {},
                "label": "Filing",
                "scale_factor": 1,
                "type": "#4CAF50",
                "size": [
                  55,
                  55
                ],
                "position": [
                  0,
                  0
                ],
                "heat": 0.5296188287324071
              },
              {
                "id": 5069,
                "properties": {
                  "country": "CYP",
                  "name": "Societe Generale Bank Cyprus Ltd",
                  "location": {
                    "x": 33,
                    "y": 35,
                    "z": 0
                  },
                  "id": "societe-generale-bank-cyprus-ltd-sg-cyprus-cyp",
                  "label": "Entity"
                },
                "color": "#2196F3",
                "styles": {},
                "label": "Societe Generale Bank Cyprus Ltd",
                "scale_factor": 1,
                "type": "#2196F3",
                "size": [
                  55,
                  55
                ],
                "position": [
                  0,
                  0
                ]
              },
              {
                "id": 350,
                "properties": {
                  "code": "CYP",
                  "name": "Cyprus",
                  "location": {
                    "x": 33,
                    "y": 35,
                    "z": 0
                  },
                  "tld": "CY",
                  "label": "Country"
                },
                "color": "#F44336",
                "styles": {},
                "label": "Cyprus",
                "scale_factor": 1,
                "type": "#F44336",
                "size": [
                  55,
                  55
                ],
                "position": [
                  0,
                  0
                ]
              },
              {
                "id": 549,
                "properties": {
                  "end_date": "Sep 25, 2015",
                  "amount": 56898523.47,
                  "beneficiary_iso": "GBR",
                  "beneficiary_lng": "-2",
                  "begin_date": "Mar 25, 2015",
                  "originator_bank": "CIMB Bank Berhad",
                  "beneficiary_lat": "54",
                  "begin_date_format": "2015-03-25T00:00:00Z",
                  "beneficiary_bank_id": "barclays-bank-plc-london-england-gbr",
                  "end_date_format": "2015-09-25T00:00:00Z",
                  "originator_iso": "SGP",
                  "origin_lat": "1.3667",
                  "number": 68,
                  "filer_org_name": "The Bank of New York Mellon Corp.",
                  "originator_bank_country": "Singapore",
                  "beneficiary_bank_country": "United Kingdom",
                  "beneficiary_bank": "Barclays Bank Plc",
                  "filer_org_name_id": "the-bank-of-new-york-mellon-corp",
                  "end": "2015-09-25T00:00:00.000000",
                  "origin_lng": "103.8",
                  "originator_bank_id": "cimb-bank-berhad",
                  "id": "223254",
                  "begin": "2015-03-25T00:00:00.000000",
                  "sar_id": "3297",
                  "label": "Filing"
                },
                "color": "#4CAF50",
                "styles": {},
                "label": "Filing",
                "scale_factor": 1,
                "type": "#4CAF50",
                "size": [
                  55,
                  55
                ],
                "position": [
                  0,
                  0
                ],
                "heat": 0.7232557931327757
              },
              {
                "id": 5070,
                "properties": {
                  "country": "NZL",
                  "name": "Asb Bank Limited",
                  "location": {
                    "x": 174,
                    "y": -41,
                    "z": 0
                  },
                  "id": "asb-bank-limited-auckland-new-zealand-nzl",
                  "label": "Entity"
                },
                "color": "#2196F3",
                "styles": {},
                "label": "Asb Bank Limited",
                "scale_factor": 1,
                "type": "#2196F3",
                "size": [
                  55,
                  55
                ],
                "position": [
                  0,
                  0
                ]
              },
              {
                "id": 454,
                "properties": {
                  "code": "NZL",
                  "name": "New Zealand",
                  "location": {
                    "x": 174,
                    "y": -41,
                    "z": 0
                  },
                  "tld": "NZ",
                  "label": "Country"
                },
                "color": "#F44336",
                "styles": {},
                "label": "New Zealand",
                "scale_factor": 1,
                "type": "#F44336",
                "size": [
                  55,
                  55
                ],
                "position": [
                  0,
                  0
                ]
              }
            ],
            "_overview": {
              "enabled": null,
              "overview_set": false
            },
            "_selected_graph": [
              [],
              []
            ],
            "_sidebar": {
              "enabled": false,
              "start_with": null
            },
            "_view_count": null,
            "_view_module": "yfiles-jupyter-graphs",
            "_view_module_version": "^1.9.0",
            "_view_name": "GraphView",
            "layout": "IPY_MODEL_d3877c288a8e45bcb0dc268296dcbee2",
            "tabbable": null,
            "tooltip": null
          }
        },
        "d3877c288a8e45bcb0dc268296dcbee2": {
          "model_module": "@jupyter-widgets/base",
          "model_name": "LayoutModel",
          "model_module_version": "2.0.0",
          "state": {
            "_model_module": "@jupyter-widgets/base",
            "_model_module_version": "2.0.0",
            "_model_name": "LayoutModel",
            "_view_count": null,
            "_view_module": "@jupyter-widgets/base",
            "_view_module_version": "2.0.0",
            "_view_name": "LayoutView",
            "align_content": null,
            "align_items": null,
            "align_self": null,
            "border_bottom": null,
            "border_left": null,
            "border_right": null,
            "border_top": null,
            "bottom": null,
            "display": null,
            "flex": null,
            "flex_flow": null,
            "grid_area": null,
            "grid_auto_columns": null,
            "grid_auto_flow": null,
            "grid_auto_rows": null,
            "grid_column": null,
            "grid_gap": null,
            "grid_row": null,
            "grid_template_areas": null,
            "grid_template_columns": null,
            "grid_template_rows": null,
            "height": "690px",
            "justify_content": null,
            "justify_items": null,
            "left": null,
            "margin": null,
            "max_height": null,
            "max_width": null,
            "min_height": null,
            "min_width": null,
            "object_fit": null,
            "object_position": null,
            "order": null,
            "overflow": null,
            "padding": null,
            "right": null,
            "top": null,
            "visibility": null,
            "width": "100%"
          }
        },
        "064cb8eefe974c1a9a04edb3a9a35ff3": {
          "model_module": "yfiles-jupyter-graphs",
          "model_name": "GraphModel",
          "model_module_version": "^1.9.0",
          "state": {
            "_context_pane_mapping": [
              {
                "id": "Neighborhood",
                "title": "Neighborhood"
              },
              {
                "id": "Data",
                "title": "Data"
              },
              {
                "id": "Search",
                "title": "Search"
              },
              {
                "id": "About",
                "title": "About"
              }
            ],
            "_data_importer": "neo4j",
            "_directed": true,
            "_dom_classes": [],
            "_edges": [
              {
                "id": 0,
                "start": 5056,
                "end": 2645,
                "properties": {
                  "label": "FILED"
                },
                "label": "FILED",
                "color": "#607D8B",
                "thickness_factor": 1,
                "directed": true
              },
              {
                "id": 1,
                "start": 2645,
                "end": 5068,
                "properties": {
                  "label": "CONCERNS"
                },
                "label": "CONCERNS",
                "color": "#673AB7",
                "thickness_factor": 1,
                "directed": true
              },
              {
                "id": 2,
                "start": 5068,
                "end": 338,
                "properties": {
                  "label": "COUNTRY"
                },
                "label": "COUNTRY",
                "color": "#CDDC39",
                "thickness_factor": 1,
                "directed": true
              },
              {
                "id": 3,
                "start": 5056,
                "end": 2646,
                "properties": {
                  "label": "FILED"
                },
                "label": "FILED",
                "color": "#607D8B",
                "thickness_factor": 1,
                "directed": true
              },
              {
                "id": 4,
                "start": 2646,
                "end": 5068,
                "properties": {
                  "label": "CONCERNS"
                },
                "label": "CONCERNS",
                "color": "#673AB7",
                "thickness_factor": 1,
                "directed": true
              },
              {
                "id": 5,
                "start": 5056,
                "end": 2647,
                "properties": {
                  "label": "FILED"
                },
                "label": "FILED",
                "color": "#607D8B",
                "thickness_factor": 1,
                "directed": true
              },
              {
                "id": 6,
                "start": 2647,
                "end": 5068,
                "properties": {
                  "label": "CONCERNS"
                },
                "label": "CONCERNS",
                "color": "#673AB7",
                "thickness_factor": 1,
                "directed": true
              },
              {
                "id": 7,
                "start": 5056,
                "end": 2648,
                "properties": {
                  "label": "FILED"
                },
                "label": "FILED",
                "color": "#607D8B",
                "thickness_factor": 1,
                "directed": true
              },
              {
                "id": 8,
                "start": 2648,
                "end": 5068,
                "properties": {
                  "label": "CONCERNS"
                },
                "label": "CONCERNS",
                "color": "#673AB7",
                "thickness_factor": 1,
                "directed": true
              },
              {
                "id": 9,
                "start": 5056,
                "end": 2649,
                "properties": {
                  "label": "FILED"
                },
                "label": "FILED",
                "color": "#607D8B",
                "thickness_factor": 1,
                "directed": true
              },
              {
                "id": 10,
                "start": 2649,
                "end": 5068,
                "properties": {
                  "label": "CONCERNS"
                },
                "label": "CONCERNS",
                "color": "#673AB7",
                "thickness_factor": 1,
                "directed": true
              },
              {
                "id": 11,
                "start": 5056,
                "end": 2650,
                "properties": {
                  "label": "FILED"
                },
                "label": "FILED",
                "color": "#607D8B",
                "thickness_factor": 1,
                "directed": true
              },
              {
                "id": 12,
                "start": 2650,
                "end": 5068,
                "properties": {
                  "label": "CONCERNS"
                },
                "label": "CONCERNS",
                "color": "#673AB7",
                "thickness_factor": 1,
                "directed": true
              },
              {
                "id": 13,
                "start": 5056,
                "end": 2651,
                "properties": {
                  "label": "FILED"
                },
                "label": "FILED",
                "color": "#607D8B",
                "thickness_factor": 1,
                "directed": true
              },
              {
                "id": 14,
                "start": 2651,
                "end": 5068,
                "properties": {
                  "label": "CONCERNS"
                },
                "label": "CONCERNS",
                "color": "#673AB7",
                "thickness_factor": 1,
                "directed": true
              },
              {
                "id": 15,
                "start": 5056,
                "end": 2652,
                "properties": {
                  "label": "FILED"
                },
                "label": "FILED",
                "color": "#607D8B",
                "thickness_factor": 1,
                "directed": true
              },
              {
                "id": 16,
                "start": 2652,
                "end": 5068,
                "properties": {
                  "label": "CONCERNS"
                },
                "label": "CONCERNS",
                "color": "#673AB7",
                "thickness_factor": 1,
                "directed": true
              },
              {
                "id": 17,
                "start": 5056,
                "end": 2653,
                "properties": {
                  "label": "FILED"
                },
                "label": "FILED",
                "color": "#607D8B",
                "thickness_factor": 1,
                "directed": true
              },
              {
                "id": 18,
                "start": 2653,
                "end": 5068,
                "properties": {
                  "label": "CONCERNS"
                },
                "label": "CONCERNS",
                "color": "#673AB7",
                "thickness_factor": 1,
                "directed": true
              },
              {
                "id": 19,
                "start": 5057,
                "end": 2263,
                "properties": {
                  "label": "FILED"
                },
                "label": "FILED",
                "color": "#607D8B",
                "thickness_factor": 1,
                "directed": true
              },
              {
                "id": 20,
                "start": 2263,
                "end": 5069,
                "properties": {
                  "label": "CONCERNS"
                },
                "label": "CONCERNS",
                "color": "#673AB7",
                "thickness_factor": 1,
                "directed": true
              },
              {
                "id": 21,
                "start": 5069,
                "end": 350,
                "properties": {
                  "label": "COUNTRY"
                },
                "label": "COUNTRY",
                "color": "#CDDC39",
                "thickness_factor": 1,
                "directed": true
              },
              {
                "id": 22,
                "start": 5056,
                "end": 549,
                "properties": {
                  "label": "FILED"
                },
                "label": "FILED",
                "color": "#607D8B",
                "thickness_factor": 1,
                "directed": true
              },
              {
                "id": 23,
                "start": 549,
                "end": 5070,
                "properties": {
                  "label": "CONCERNS"
                },
                "label": "CONCERNS",
                "color": "#673AB7",
                "thickness_factor": 1,
                "directed": true
              },
              {
                "id": 24,
                "start": 5070,
                "end": 454,
                "properties": {
                  "label": "COUNTRY"
                },
                "label": "COUNTRY",
                "color": "#CDDC39",
                "thickness_factor": 1,
                "directed": true
              },
              {
                "id": 25,
                "start": 5056,
                "end": 550,
                "properties": {
                  "label": "FILED"
                },
                "label": "FILED",
                "color": "#607D8B",
                "thickness_factor": 1,
                "directed": true
              },
              {
                "id": 26,
                "start": 550,
                "end": 5070,
                "properties": {
                  "label": "CONCERNS"
                },
                "label": "CONCERNS",
                "color": "#673AB7",
                "thickness_factor": 1,
                "directed": true
              },
              {
                "id": 27,
                "start": 5056,
                "end": 3915,
                "properties": {
                  "label": "FILED"
                },
                "label": "FILED",
                "color": "#607D8B",
                "thickness_factor": 1,
                "directed": true
              },
              {
                "id": 28,
                "start": 3915,
                "end": 5070,
                "properties": {
                  "label": "CONCERNS"
                },
                "label": "CONCERNS",
                "color": "#673AB7",
                "thickness_factor": 1,
                "directed": true
              },
              {
                "id": 29,
                "start": 5056,
                "end": 3916,
                "properties": {
                  "label": "FILED"
                },
                "label": "FILED",
                "color": "#607D8B",
                "thickness_factor": 1,
                "directed": true
              },
              {
                "id": 30,
                "start": 3916,
                "end": 5070,
                "properties": {
                  "label": "CONCERNS"
                },
                "label": "CONCERNS",
                "color": "#673AB7",
                "thickness_factor": 1,
                "directed": true
              },
              {
                "id": 31,
                "start": 5056,
                "end": 3917,
                "properties": {
                  "label": "FILED"
                },
                "label": "FILED",
                "color": "#607D8B",
                "thickness_factor": 1,
                "directed": true
              },
              {
                "id": 32,
                "start": 3917,
                "end": 5070,
                "properties": {
                  "label": "CONCERNS"
                },
                "label": "CONCERNS",
                "color": "#673AB7",
                "thickness_factor": 1,
                "directed": true
              },
              {
                "id": 33,
                "start": 5056,
                "end": 3918,
                "properties": {
                  "label": "FILED"
                },
                "label": "FILED",
                "color": "#607D8B",
                "thickness_factor": 1,
                "directed": true
              },
              {
                "id": 34,
                "start": 3918,
                "end": 5070,
                "properties": {
                  "label": "CONCERNS"
                },
                "label": "CONCERNS",
                "color": "#673AB7",
                "thickness_factor": 1,
                "directed": true
              },
              {
                "id": 35,
                "start": 5056,
                "end": 3017,
                "properties": {
                  "label": "FILED"
                },
                "label": "FILED",
                "color": "#607D8B",
                "thickness_factor": 1,
                "directed": true
              },
              {
                "id": 36,
                "start": 3017,
                "end": 5071,
                "properties": {
                  "label": "CONCERNS"
                },
                "label": "CONCERNS",
                "color": "#673AB7",
                "thickness_factor": 1,
                "directed": true
              },
              {
                "id": 37,
                "start": 5071,
                "end": 330,
                "properties": {
                  "label": "COUNTRY"
                },
                "label": "COUNTRY",
                "color": "#CDDC39",
                "thickness_factor": 1,
                "directed": true
              },
              {
                "id": 38,
                "start": 5056,
                "end": 3018,
                "properties": {
                  "label": "FILED"
                },
                "label": "FILED",
                "color": "#607D8B",
                "thickness_factor": 1,
                "directed": true
              },
              {
                "id": 39,
                "start": 3018,
                "end": 5071,
                "properties": {
                  "label": "CONCERNS"
                },
                "label": "CONCERNS",
                "color": "#673AB7",
                "thickness_factor": 1,
                "directed": true
              },
              {
                "id": 40,
                "start": 5056,
                "end": 3019,
                "properties": {
                  "label": "FILED"
                },
                "label": "FILED",
                "color": "#607D8B",
                "thickness_factor": 1,
                "directed": true
              },
              {
                "id": 41,
                "start": 3019,
                "end": 5071,
                "properties": {
                  "label": "CONCERNS"
                },
                "label": "CONCERNS",
                "color": "#673AB7",
                "thickness_factor": 1,
                "directed": true
              },
              {
                "id": 42,
                "start": 5056,
                "end": 3020,
                "properties": {
                  "label": "FILED"
                },
                "label": "FILED",
                "color": "#607D8B",
                "thickness_factor": 1,
                "directed": true
              },
              {
                "id": 43,
                "start": 3020,
                "end": 5071,
                "properties": {
                  "label": "CONCERNS"
                },
                "label": "CONCERNS",
                "color": "#673AB7",
                "thickness_factor": 1,
                "directed": true
              },
              {
                "id": 44,
                "start": 5056,
                "end": 3021,
                "properties": {
                  "label": "FILED"
                },
                "label": "FILED",
                "color": "#607D8B",
                "thickness_factor": 1,
                "directed": true
              },
              {
                "id": 45,
                "start": 3021,
                "end": 5071,
                "properties": {
                  "label": "CONCERNS"
                },
                "label": "CONCERNS",
                "color": "#673AB7",
                "thickness_factor": 1,
                "directed": true
              },
              {
                "id": 46,
                "start": 5056,
                "end": 3022,
                "properties": {
                  "label": "FILED"
                },
                "label": "FILED",
                "color": "#607D8B",
                "thickness_factor": 1,
                "directed": true
              },
              {
                "id": 47,
                "start": 3022,
                "end": 5071,
                "properties": {
                  "label": "CONCERNS"
                },
                "label": "CONCERNS",
                "color": "#673AB7",
                "thickness_factor": 1,
                "directed": true
              },
              {
                "id": 48,
                "start": 5056,
                "end": 3023,
                "properties": {
                  "label": "FILED"
                },
                "label": "FILED",
                "color": "#607D8B",
                "thickness_factor": 1,
                "directed": true
              },
              {
                "id": 49,
                "start": 3023,
                "end": 5071,
                "properties": {
                  "label": "CONCERNS"
                },
                "label": "CONCERNS",
                "color": "#673AB7",
                "thickness_factor": 1,
                "directed": true
              }
            ],
            "_graph_layout": {
              "algorithm": "organic",
              "options": {}
            },
            "_highlight": [],
            "_license": {},
            "_model_module": "yfiles-jupyter-graphs",
            "_model_module_version": "^1.9.0",
            "_model_name": "GraphModel",
            "_neighborhood": {},
            "_nodes": [
              {
                "id": 5056,
                "properties": {
                  "name": "The Bank of New York Mellon Corp.",
                  "location": {
                    "x": -73.987862,
                    "y": 40.777571,
                    "z": 0
                  },
                  "id": "the-bank-of-new-york-mellon-corp",
                  "label": "Entity"
                },
                "color": "#2196F3",
                "styles": {},
                "label": "The Bank of New York Mellon Corp.",
                "scale_factor": 1,
                "type": "#2196F3",
                "size": [
                  55,
                  55
                ],
                "position": [
                  0,
                  0
                ],
                "coordinates": [
                  40.777571,
                  -73.987862
                ]
              },
              {
                "id": 2645,
                "properties": {
                  "end_date": "Oct 13, 2015",
                  "amount": 2741500,
                  "beneficiary_iso": "SGP",
                  "beneficiary_lng": "103.8",
                  "begin_date": "Oct 2, 2015",
                  "originator_bank": "HSBC Hong Kong",
                  "beneficiary_lat": "1.3667",
                  "begin_date_format": "2015-10-02T00:00:00Z",
                  "originator_iso": "HKG",
                  "beneficiary_bank_id": "dbs-bank-ltd-singapore-sgp",
                  "end_date_format": "2015-10-13T00:00:00Z",
                  "origin_lat": "22.25",
                  "number": 4,
                  "filer_org_name": "The Bank of New York Mellon Corp.",
                  "originator_bank_country": "Hong Kong",
                  "beneficiary_bank": "DBS Bank Ltd",
                  "beneficiary_bank_country": "Singapore",
                  "filer_org_name_id": "the-bank-of-new-york-mellon-corp",
                  "end": "2015-10-13T00:00:00.000000",
                  "origin_lng": "114.1667",
                  "originator_bank_id": "hsbc-hong-kong",
                  "id": "234293",
                  "begin": "2015-10-02T00:00:00.000000",
                  "sar_id": "4293",
                  "label": "Filing"
                },
                "color": "#4CAF50",
                "styles": {},
                "label": "Filing",
                "scale_factor": 1,
                "type": "#4CAF50",
                "size": [
                  55,
                  55
                ],
                "position": [
                  0,
                  0
                ],
                "coordinates": [
                  "1.3667",
                  "103.8"
                ]
              },
              {
                "id": 5068,
                "properties": {
                  "country": "CHN",
                  "name": "China Construction Bank Corporation",
                  "location": {
                    "x": 105,
                    "y": 35,
                    "z": 0
                  },
                  "id": "china-construction-bank-corporation-beijing-china-chn",
                  "label": "Entity"
                },
                "color": "#2196F3",
                "styles": {},
                "label": "China Construction Bank Corporation",
                "scale_factor": 1,
                "type": "#2196F3",
                "size": [
                  55,
                  55
                ],
                "position": [
                  0,
                  0
                ],
                "coordinates": [
                  35,
                  105
                ]
              },
              {
                "id": 338,
                "properties": {
                  "code": "CHN",
                  "name": "China",
                  "location": {
                    "x": 105,
                    "y": 35,
                    "z": 0
                  },
                  "tld": "CN",
                  "label": "Country"
                },
                "color": "#F44336",
                "styles": {},
                "label": "China",
                "scale_factor": 1,
                "type": "#F44336",
                "size": [
                  55,
                  55
                ],
                "position": [
                  0,
                  0
                ],
                "coordinates": [
                  35,
                  105
                ]
              },
              {
                "id": 2646,
                "properties": {
                  "end_date": "Oct 27, 2015",
                  "amount": 3240000,
                  "beneficiary_iso": "SGP",
                  "beneficiary_lng": "103.8",
                  "begin_date": "Oct 27, 2015",
                  "originator_bank": "Bank of Taiwan",
                  "beneficiary_lat": "1.3667",
                  "begin_date_format": "2015-10-27T00:00:00Z",
                  "beneficiary_bank_id": "dbs-bank-ltd-singapore-sgp",
                  "end_date_format": "2015-10-27T00:00:00Z",
                  "originator_iso": "TWN",
                  "origin_lat": "23.5",
                  "number": 1,
                  "filer_org_name": "The Bank of New York Mellon Corp.",
                  "originator_bank_country": "Taiwan",
                  "beneficiary_bank_country": "Singapore",
                  "filer_org_name_id": "the-bank-of-new-york-mellon-corp",
                  "beneficiary_bank": "DBS Bank Ltd",
                  "end": "2015-10-27T00:00:00.000000",
                  "origin_lng": "121",
                  "originator_bank_id": "bank-of-taiwan",
                  "id": "234294",
                  "begin": "2015-10-27T00:00:00.000000",
                  "sar_id": "4293",
                  "label": "Filing"
                },
                "color": "#4CAF50",
                "styles": {},
                "label": "Filing",
                "scale_factor": 1,
                "type": "#4CAF50",
                "size": [
                  55,
                  55
                ],
                "position": [
                  0,
                  0
                ],
                "coordinates": [
                  "1.3667",
                  "103.8"
                ]
              },
              {
                "id": 2647,
                "properties": {
                  "end_date": "Oct 23, 2015",
                  "amount": 3397070,
                  "beneficiary_iso": "CZE",
                  "beneficiary_lng": "15.5",
                  "begin_date": "Oct 23, 2015",
                  "originator_bank": "J And T Bank And Trust",
                  "beneficiary_lat": "49.75",
                  "begin_date_format": "2015-10-23T00:00:00Z",
                  "beneficiary_bank_id": "ppf-banka-as-prague-czech-republic-cze",
                  "end_date_format": "2015-10-23T00:00:00Z",
                  "originator_iso": "BRB",
                  "origin_lat": "13.1667",
                  "number": 1,
                  "filer_org_name": "The Bank of New York Mellon Corp.",
                  "originator_bank_country": "Barbados",
                  "beneficiary_bank": "PPF Banka A.S.",
                  "beneficiary_bank_country": "Czech Republic",
                  "filer_org_name_id": "the-bank-of-new-york-mellon-corp",
                  "end": "2015-10-23T00:00:00.000000",
                  "origin_lng": "-59.5333",
                  "originator_bank_id": "j-and-t-bank-and-trust",
                  "id": "234295",
                  "begin": "2015-10-23T00:00:00.000000",
                  "sar_id": "4293",
                  "label": "Filing"
                },
                "color": "#4CAF50",
                "styles": {},
                "label": "Filing",
                "scale_factor": 1,
                "type": "#4CAF50",
                "size": [
                  55,
                  55
                ],
                "position": [
                  0,
                  0
                ],
                "coordinates": [
                  "49.75",
                  "15.5"
                ]
              },
              {
                "id": 2648,
                "properties": {
                  "end_date": "Oct 15, 2015",
                  "amount": 3500000,
                  "beneficiary_iso": "CHN",
                  "beneficiary_lng": "105",
                  "begin_date": "Oct 7, 2015",
                  "originator_bank": "Taishin International Bank",
                  "beneficiary_lat": "35",
                  "begin_date_format": "2015-10-07T00:00:00Z",
                  "end_date_format": "2015-10-15T00:00:00Z",
                  "originator_iso": "TWN",
                  "beneficiary_bank_id": "foshan-shunde-rural-commercial-bk-co-ltd-shunde-china-chn",
                  "origin_lat": "23.5",
                  "number": 3,
                  "filer_org_name": "The Bank of New York Mellon Corp.",
                  "originator_bank_country": "Taiwan",
                  "beneficiary_bank": "Foshan Shunde Rural Commercial Bk Co Ltd",
                  "beneficiary_bank_country": "China",
                  "filer_org_name_id": "the-bank-of-new-york-mellon-corp",
                  "end": "2015-10-15T00:00:00.000000",
                  "origin_lng": "121",
                  "originator_bank_id": "taishin-international-bank",
                  "id": "234296",
                  "begin": "2015-10-07T00:00:00.000000",
                  "sar_id": "4293",
                  "label": "Filing"
                },
                "color": "#4CAF50",
                "styles": {},
                "label": "Filing",
                "scale_factor": 1,
                "type": "#4CAF50",
                "size": [
                  55,
                  55
                ],
                "position": [
                  0,
                  0
                ],
                "coordinates": [
                  "35",
                  "105"
                ]
              },
              {
                "id": 2649,
                "properties": {
                  "end_date": "Oct 29, 2015",
                  "amount": 3561111.36,
                  "beneficiary_iso": "CHN",
                  "beneficiary_lng": "105",
                  "begin_date": "Oct 13, 2015",
                  "originator_bank": "CTBC Bank Co Ltd",
                  "beneficiary_lat": "35",
                  "begin_date_format": "2015-10-13T00:00:00Z",
                  "beneficiary_bank_id": "china-construction-bank-corporation-guangdong-china-chn",
                  "end_date_format": "2015-10-29T00:00:00Z",
                  "originator_iso": "HKG",
                  "origin_lat": "22.25",
                  "number": 3,
                  "filer_org_name": "The Bank of New York Mellon Corp.",
                  "originator_bank_country": "Hong Kong",
                  "beneficiary_bank": "China Construction Bank Corporation",
                  "filer_org_name_id": "the-bank-of-new-york-mellon-corp",
                  "beneficiary_bank_country": "China",
                  "end": "2015-10-29T00:00:00.000000",
                  "origin_lng": "114.1667",
                  "originator_bank_id": "ctbc-bank-co-ltd",
                  "id": "234297",
                  "begin": "2015-10-13T00:00:00.000000",
                  "sar_id": "4293",
                  "label": "Filing"
                },
                "color": "#4CAF50",
                "styles": {},
                "label": "Filing",
                "scale_factor": 1,
                "type": "#4CAF50",
                "size": [
                  55,
                  55
                ],
                "position": [
                  0,
                  0
                ],
                "coordinates": [
                  "35",
                  "105"
                ]
              },
              {
                "id": 2650,
                "properties": {
                  "end_date": "Oct 29, 2015",
                  "amount": 2993552.18,
                  "beneficiary_iso": "CHN",
                  "beneficiary_lng": "105",
                  "begin_date": "Oct 27, 2015",
                  "originator_bank": "SCSB Savings Department Branch",
                  "beneficiary_lat": "35",
                  "begin_date_format": "2015-10-27T00:00:00Z",
                  "beneficiary_bank_id": "ping-an-bank-co-ltd-east-shenzhen-china-chn",
                  "originator_iso": "TWN",
                  "end_date_format": "2015-10-29T00:00:00Z",
                  "origin_lat": "23.5",
                  "number": 3,
                  "filer_org_name": "The Bank of New York Mellon Corp.",
                  "originator_bank_country": "Taiwan",
                  "beneficiary_bank": "Ping An Bank Co Ltd",
                  "filer_org_name_id": "the-bank-of-new-york-mellon-corp",
                  "beneficiary_bank_country": "China",
                  "end": "2015-10-29T00:00:00.000000",
                  "origin_lng": "121",
                  "originator_bank_id": "scsb-savings-department-branch",
                  "id": "234298",
                  "begin": "2015-10-27T00:00:00.000000",
                  "sar_id": "4293",
                  "label": "Filing"
                },
                "color": "#4CAF50",
                "styles": {},
                "label": "Filing",
                "scale_factor": 1,
                "type": "#4CAF50",
                "size": [
                  55,
                  55
                ],
                "position": [
                  0,
                  0
                ],
                "coordinates": [
                  "35",
                  "105"
                ]
              },
              {
                "id": 2651,
                "properties": {
                  "end_date": "Oct 9, 2015",
                  "amount": 5870272.71,
                  "beneficiary_lng": "103.8",
                  "beneficiary_iso": "SGP",
                  "begin_date": "Oct 5, 2015",
                  "originator_bank": "HSBC Singapore General Account",
                  "beneficiary_lat": "1.3667",
                  "begin_date_format": "2015-10-05T00:00:00Z",
                  "beneficiary_bank_id": "dbs-bank-ltd-singapore-sgp",
                  "end_date_format": "2015-10-09T00:00:00Z",
                  "originator_iso": "SGP",
                  "origin_lat": "1.3667",
                  "number": 3,
                  "filer_org_name": "The Bank of New York Mellon Corp.",
                  "originator_bank_country": "Singapore",
                  "beneficiary_bank_country": "Singapore",
                  "filer_org_name_id": "the-bank-of-new-york-mellon-corp",
                  "beneficiary_bank": "DBS Bank Ltd",
                  "end": "2015-10-09T00:00:00.000000",
                  "origin_lng": "103.8",
                  "originator_bank_id": "hsbc-singapore-general-account",
                  "id": "234300",
                  "begin": "2015-10-05T00:00:00.000000",
                  "sar_id": "4293",
                  "label": "Filing"
                },
                "color": "#4CAF50",
                "styles": {},
                "label": "Filing",
                "scale_factor": 1,
                "type": "#4CAF50",
                "size": [
                  55,
                  55
                ],
                "position": [
                  0,
                  0
                ],
                "coordinates": [
                  "1.3667",
                  "103.8"
                ]
              },
              {
                "id": 2652,
                "properties": {
                  "end_date": "Oct 23, 2015",
                  "amount": 4967922.12,
                  "beneficiary_iso": "NOR",
                  "beneficiary_lng": "10",
                  "begin_date": "Oct 23, 2015",
                  "originator_bank": "Bank of Communications",
                  "beneficiary_lat": "62",
                  "begin_date_format": "2015-10-23T00:00:00Z",
                  "beneficiary_bank_id": "skandinaviska-enskilda-banken-oslo-norway-nor",
                  "end_date_format": "2015-10-23T00:00:00Z",
                  "originator_iso": "HKG",
                  "origin_lat": "22.25",
                  "number": 2,
                  "filer_org_name": "The Bank of New York Mellon Corp.",
                  "originator_bank_country": "Hong Kong",
                  "beneficiary_bank": "Skandinaviska Enskilda Banken",
                  "filer_org_name_id": "the-bank-of-new-york-mellon-corp",
                  "beneficiary_bank_country": "Norway",
                  "end": "2015-10-23T00:00:00.000000",
                  "origin_lng": "114.1667",
                  "originator_bank_id": "bank-of-communications",
                  "id": "234301",
                  "begin": "2015-10-23T00:00:00.000000",
                  "sar_id": "4293",
                  "label": "Filing"
                },
                "color": "#4CAF50",
                "styles": {},
                "label": "Filing",
                "scale_factor": 1,
                "type": "#4CAF50",
                "size": [
                  55,
                  55
                ],
                "position": [
                  0,
                  0
                ],
                "coordinates": [
                  "62",
                  "10"
                ]
              },
              {
                "id": 2653,
                "properties": {
                  "end_date": "Oct 30, 2015",
                  "amount": 15457176.81,
                  "beneficiary_iso": "IDN",
                  "beneficiary_lng": "120",
                  "begin_date": "Oct 9, 2015",
                  "originator_bank": "Icici Bank Limited",
                  "beneficiary_lat": "-5",
                  "begin_date_format": "2015-10-09T00:00:00Z",
                  "end_date_format": "2015-10-30T00:00:00Z",
                  "beneficiary_bank_id": "bank-of-india-indonesia-jakarta-indonesia-idn",
                  "originator_iso": "SGP",
                  "origin_lat": "1.3667",
                  "number": 4,
                  "filer_org_name": "The Bank of New York Mellon Corp.",
                  "originator_bank_country": "Singapore",
                  "beneficiary_bank_country": "Indonesia",
                  "beneficiary_bank": "Bank of India Indonesia",
                  "filer_org_name_id": "the-bank-of-new-york-mellon-corp",
                  "end": "2015-10-30T00:00:00.000000",
                  "origin_lng": "103.8",
                  "originator_bank_id": "icici-bank-limited",
                  "id": "234302",
                  "begin": "2015-10-09T00:00:00.000000",
                  "sar_id": "4293",
                  "label": "Filing"
                },
                "color": "#4CAF50",
                "styles": {},
                "label": "Filing",
                "scale_factor": 1,
                "type": "#4CAF50",
                "size": [
                  55,
                  55
                ],
                "position": [
                  0,
                  0
                ],
                "coordinates": [
                  "-5",
                  "120"
                ]
              },
              {
                "id": 5057,
                "properties": {
                  "name": "Société Générale SA",
                  "location": {
                    "x": -73.987862,
                    "y": 40.777571,
                    "z": 0
                  },
                  "id": "societe-generale-sa",
                  "label": "Entity"
                },
                "color": "#2196F3",
                "styles": {},
                "label": "Société Générale SA",
                "scale_factor": 1,
                "type": "#2196F3",
                "size": [
                  55,
                  55
                ],
                "position": [
                  0,
                  0
                ],
                "coordinates": [
                  40.777571,
                  -73.987862
                ]
              },
              {
                "id": 2263,
                "properties": {
                  "end_date": "Jul 11, 2012",
                  "amount": 37733084,
                  "beneficiary_iso": "CYP",
                  "beneficiary_lng": "33",
                  "begin_date": "Jul 11, 2012",
                  "originator_bank": "SG Private Banking",
                  "beneficiary_lat": "35",
                  "begin_date_format": "2012-07-11T00:00:00Z",
                  "end_date_format": "2012-07-11T00:00:00Z",
                  "beneficiary_bank_id": "societe-generale-bank-cyprus-ltd-sg-cyprus-cyp",
                  "originator_iso": "CHE",
                  "origin_lat": "47",
                  "number": 1,
                  "filer_org_name": "Société Générale SA",
                  "originator_bank_country": "Switzerland",
                  "beneficiary_bank_country": "Cyprus",
                  "beneficiary_bank": "Societe Generale Bank Cyprus Ltd",
                  "filer_org_name_id": "societe-generale-sa",
                  "end": "2012-07-11T00:00:00.000000",
                  "origin_lng": "8",
                  "originator_bank_id": "sg-private-banking",
                  "id": "231963",
                  "begin": "2012-07-11T00:00:00.000000",
                  "sar_id": "2782",
                  "label": "Filing"
                },
                "color": "#4CAF50",
                "styles": {},
                "label": "Filing",
                "scale_factor": 1,
                "type": "#4CAF50",
                "size": [
                  55,
                  55
                ],
                "position": [
                  0,
                  0
                ],
                "coordinates": [
                  "35",
                  "33"
                ]
              },
              {
                "id": 5069,
                "properties": {
                  "country": "CYP",
                  "name": "Societe Generale Bank Cyprus Ltd",
                  "location": {
                    "x": 33,
                    "y": 35,
                    "z": 0
                  },
                  "id": "societe-generale-bank-cyprus-ltd-sg-cyprus-cyp",
                  "label": "Entity"
                },
                "color": "#2196F3",
                "styles": {},
                "label": "Societe Generale Bank Cyprus Ltd",
                "scale_factor": 1,
                "type": "#2196F3",
                "size": [
                  55,
                  55
                ],
                "position": [
                  0,
                  0
                ],
                "coordinates": [
                  35,
                  33
                ]
              },
              {
                "id": 350,
                "properties": {
                  "code": "CYP",
                  "name": "Cyprus",
                  "location": {
                    "x": 33,
                    "y": 35,
                    "z": 0
                  },
                  "tld": "CY",
                  "label": "Country"
                },
                "color": "#F44336",
                "styles": {},
                "label": "Cyprus",
                "scale_factor": 1,
                "type": "#F44336",
                "size": [
                  55,
                  55
                ],
                "position": [
                  0,
                  0
                ],
                "coordinates": [
                  35,
                  33
                ]
              },
              {
                "id": 549,
                "properties": {
                  "end_date": "Sep 25, 2015",
                  "amount": 56898523.47,
                  "beneficiary_iso": "GBR",
                  "beneficiary_lng": "-2",
                  "begin_date": "Mar 25, 2015",
                  "originator_bank": "CIMB Bank Berhad",
                  "beneficiary_lat": "54",
                  "begin_date_format": "2015-03-25T00:00:00Z",
                  "beneficiary_bank_id": "barclays-bank-plc-london-england-gbr",
                  "end_date_format": "2015-09-25T00:00:00Z",
                  "originator_iso": "SGP",
                  "origin_lat": "1.3667",
                  "number": 68,
                  "filer_org_name": "The Bank of New York Mellon Corp.",
                  "originator_bank_country": "Singapore",
                  "beneficiary_bank_country": "United Kingdom",
                  "beneficiary_bank": "Barclays Bank Plc",
                  "filer_org_name_id": "the-bank-of-new-york-mellon-corp",
                  "end": "2015-09-25T00:00:00.000000",
                  "origin_lng": "103.8",
                  "originator_bank_id": "cimb-bank-berhad",
                  "id": "223254",
                  "begin": "2015-03-25T00:00:00.000000",
                  "sar_id": "3297",
                  "label": "Filing"
                },
                "color": "#4CAF50",
                "styles": {},
                "label": "Filing",
                "scale_factor": 1,
                "type": "#4CAF50",
                "size": [
                  55,
                  55
                ],
                "position": [
                  0,
                  0
                ],
                "coordinates": [
                  "54",
                  "-2"
                ]
              },
              {
                "id": 5070,
                "properties": {
                  "country": "NZL",
                  "name": "Asb Bank Limited",
                  "location": {
                    "x": 174,
                    "y": -41,
                    "z": 0
                  },
                  "id": "asb-bank-limited-auckland-new-zealand-nzl",
                  "label": "Entity"
                },
                "color": "#2196F3",
                "styles": {},
                "label": "Asb Bank Limited",
                "scale_factor": 1,
                "type": "#2196F3",
                "size": [
                  55,
                  55
                ],
                "position": [
                  0,
                  0
                ],
                "coordinates": [
                  -41,
                  174
                ]
              },
              {
                "id": 454,
                "properties": {
                  "code": "NZL",
                  "name": "New Zealand",
                  "location": {
                    "x": 174,
                    "y": -41,
                    "z": 0
                  },
                  "tld": "NZ",
                  "label": "Country"
                },
                "color": "#F44336",
                "styles": {},
                "label": "New Zealand",
                "scale_factor": 1,
                "type": "#F44336",
                "size": [
                  55,
                  55
                ],
                "position": [
                  0,
                  0
                ],
                "coordinates": [
                  -41,
                  174
                ]
              },
              {
                "id": 550,
                "properties": {
                  "end_date": "Sep 25, 2015",
                  "amount": 116238361.25,
                  "beneficiary_iso": "GBR",
                  "beneficiary_lng": "-2",
                  "begin_date": "Mar 30, 2015",
                  "originator_bank": "CIMB Bank Berhad",
                  "beneficiary_lat": "54",
                  "begin_date_format": "2015-03-30T00:00:00Z",
                  "beneficiary_bank_id": "barclays-bank-plc-london-england-gbr",
                  "end_date_format": "2015-09-25T00:00:00Z",
                  "originator_iso": "SGP",
                  "origin_lat": "1.3667",
                  "number": 118,
                  "filer_org_name": "The Bank of New York Mellon Corp.",
                  "originator_bank_country": "Singapore",
                  "beneficiary_bank_country": "United Kingdom",
                  "beneficiary_bank": "Barclays Bank Plc",
                  "filer_org_name_id": "the-bank-of-new-york-mellon-corp",
                  "end": "2015-09-25T00:00:00.000000",
                  "origin_lng": "103.8",
                  "originator_bank_id": "cimb-bank-berhad",
                  "id": "223255",
                  "begin": "2015-03-30T00:00:00.000000",
                  "sar_id": "3297",
                  "label": "Filing"
                },
                "color": "#4CAF50",
                "styles": {},
                "label": "Filing",
                "scale_factor": 1,
                "type": "#4CAF50",
                "size": [
                  55,
                  55
                ],
                "position": [
                  0,
                  0
                ],
                "coordinates": [
                  "54",
                  "-2"
                ]
              },
              {
                "id": 3915,
                "properties": {
                  "end_date": "Sep 23, 2015",
                  "amount": 9310000,
                  "beneficiary_iso": "HKG",
                  "beneficiary_lng": "114.1667",
                  "begin_date": "Aug 12, 2015",
                  "originator_bank": "CIMB Bank Berhad",
                  "beneficiary_lat": "22.25",
                  "begin_date_format": "2015-08-12T00:00:00Z",
                  "beneficiary_bank_id": "china-citic-bank-international-ltd-hong-kong-hkg",
                  "end_date_format": "2015-09-23T00:00:00Z",
                  "originator_iso": "SGP",
                  "origin_lat": "1.3667",
                  "number": 10,
                  "filer_org_name": "The Bank of New York Mellon Corp.",
                  "originator_bank_country": "Singapore",
                  "beneficiary_bank": "China Citic Bank International Ltd",
                  "filer_org_name_id": "the-bank-of-new-york-mellon-corp",
                  "beneficiary_bank_country": "Hong Kong",
                  "end": "2015-09-23T00:00:00.000000",
                  "origin_lng": "103.8",
                  "originator_bank_id": "cimb-bank-berhad",
                  "id": "238362",
                  "begin": "2015-08-12T00:00:00.000000",
                  "sar_id": "3297",
                  "label": "Filing"
                },
                "color": "#4CAF50",
                "styles": {},
                "label": "Filing",
                "scale_factor": 1,
                "type": "#4CAF50",
                "size": [
                  55,
                  55
                ],
                "position": [
                  0,
                  0
                ],
                "coordinates": [
                  "22.25",
                  "114.1667"
                ]
              },
              {
                "id": 3916,
                "properties": {
                  "end_date": "Jun 10, 2015",
                  "amount": 14991886.27,
                  "beneficiary_iso": "CHN",
                  "beneficiary_lng": "105",
                  "begin_date": "Mar 27, 2015",
                  "originator_bank": "CIMB Bank Berhad",
                  "beneficiary_lat": "35",
                  "begin_date_format": "2015-03-27T00:00:00Z",
                  "beneficiary_bank_id": "icbc-limited-foshan-china-chn",
                  "end_date_format": "2015-06-10T00:00:00Z",
                  "originator_iso": "SGP",
                  "origin_lat": "1.3667",
                  "number": 26,
                  "filer_org_name": "The Bank of New York Mellon Corp.",
                  "originator_bank_country": "Singapore",
                  "beneficiary_bank": "Icbc Limited",
                  "beneficiary_bank_country": "China",
                  "filer_org_name_id": "the-bank-of-new-york-mellon-corp",
                  "end": "2015-06-10T00:00:00.000000",
                  "origin_lng": "103.8",
                  "originator_bank_id": "cimb-bank-berhad",
                  "id": "238363",
                  "begin": "2015-03-27T00:00:00.000000",
                  "sar_id": "3297",
                  "label": "Filing"
                },
                "color": "#4CAF50",
                "styles": {},
                "label": "Filing",
                "scale_factor": 1,
                "type": "#4CAF50",
                "size": [
                  55,
                  55
                ],
                "position": [
                  0,
                  0
                ],
                "coordinates": [
                  "35",
                  "105"
                ]
              },
              {
                "id": 3917,
                "properties": {
                  "end_date": "Jun 29, 2015",
                  "amount": 29162517.4,
                  "beneficiary_iso": "CHE",
                  "beneficiary_lng": "8",
                  "begin_date": "Apr 29, 2015",
                  "originator_bank": "CIMB Bank Berhad",
                  "beneficiary_lat": "47",
                  "begin_date_format": "2015-04-29T00:00:00Z",
                  "beneficiary_bank_id": "investec-bank-switzerland-ag-zurich-switzerland-che",
                  "end_date_format": "2015-06-29T00:00:00Z",
                  "originator_iso": "SGP",
                  "origin_lat": "1.3667",
                  "number": 28,
                  "filer_org_name": "The Bank of New York Mellon Corp.",
                  "originator_bank_country": "Singapore",
                  "beneficiary_bank_country": "Switzerland",
                  "filer_org_name_id": "the-bank-of-new-york-mellon-corp",
                  "beneficiary_bank": "Investec Bank",
                  "end": "2015-06-29T00:00:00.000000",
                  "origin_lng": "103.8",
                  "originator_bank_id": "cimb-bank-berhad",
                  "id": "238365",
                  "begin": "2015-04-29T00:00:00.000000",
                  "sar_id": "3297",
                  "label": "Filing"
                },
                "color": "#4CAF50",
                "styles": {},
                "label": "Filing",
                "scale_factor": 1,
                "type": "#4CAF50",
                "size": [
                  55,
                  55
                ],
                "position": [
                  0,
                  0
                ],
                "coordinates": [
                  "47",
                  "8"
                ]
              },
              {
                "id": 3918,
                "properties": {
                  "end_date": "May 11, 2015",
                  "amount": 22590000,
                  "beneficiary_iso": "HKG",
                  "beneficiary_lng": "114.1667",
                  "begin_date": "Apr 8, 2015",
                  "originator_bank": "CIMB Bank Berhad",
                  "beneficiary_lat": "22.25",
                  "begin_date_format": "2015-04-08T00:00:00Z",
                  "beneficiary_bank_id": "dbs-bank-hong-kong-limited-hong-kong-hkg",
                  "end_date_format": "2015-05-11T00:00:00Z",
                  "originator_iso": "SGP",
                  "origin_lat": "1.3667",
                  "number": 23,
                  "filer_org_name": "The Bank of New York Mellon Corp.",
                  "originator_bank_country": "Singapore",
                  "beneficiary_bank": "DBS Bank",
                  "beneficiary_bank_country": "Hong Kong",
                  "filer_org_name_id": "the-bank-of-new-york-mellon-corp",
                  "end": "2015-05-11T00:00:00.000000",
                  "origin_lng": "103.8",
                  "originator_bank_id": "cimb-bank-berhad",
                  "id": "238366",
                  "begin": "2015-04-08T00:00:00.000000",
                  "sar_id": "3297",
                  "label": "Filing"
                },
                "color": "#4CAF50",
                "styles": {},
                "label": "Filing",
                "scale_factor": 1,
                "type": "#4CAF50",
                "size": [
                  55,
                  55
                ],
                "position": [
                  0,
                  0
                ],
                "coordinates": [
                  "22.25",
                  "114.1667"
                ]
              },
              {
                "id": 3017,
                "properties": {
                  "end_date": "Sep 15, 2015",
                  "amount": 556355,
                  "beneficiary_iso": "SGP",
                  "beneficiary_lng": "103.8",
                  "begin_date": "Sep 15, 2015",
                  "originator_bank": "Bank of Communications",
                  "beneficiary_lat": "1.3667",
                  "begin_date_format": "2015-09-15T00:00:00Z",
                  "beneficiary_bank_id": "united-overseas-bank-limited-singapore-sgp",
                  "end_date_format": "2015-09-15T00:00:00Z",
                  "originator_iso": "CHN",
                  "origin_lat": "35",
                  "number": 1,
                  "filer_org_name": "The Bank of New York Mellon Corp.",
                  "originator_bank_country": "China",
                  "beneficiary_bank_country": "Singapore",
                  "beneficiary_bank": "United Overseas Bank Limited",
                  "filer_org_name_id": "the-bank-of-new-york-mellon-corp",
                  "end": "2015-09-15T00:00:00.000000",
                  "origin_lng": "105",
                  "originator_bank_id": "bank-of-communications",
                  "id": "235494",
                  "begin": "2015-09-15T00:00:00.000000",
                  "sar_id": "3295",
                  "label": "Filing"
                },
                "color": "#4CAF50",
                "styles": {},
                "label": "Filing",
                "scale_factor": 1,
                "type": "#4CAF50",
                "size": [
                  55,
                  55
                ],
                "position": [
                  0,
                  0
                ],
                "coordinates": [
                  "1.3667",
                  "103.8"
                ]
              },
              {
                "id": 5071,
                "properties": {
                  "country": "KHM",
                  "name": "CIMB Bank Plc",
                  "location": {
                    "x": 105,
                    "y": 13,
                    "z": 0
                  },
                  "id": "cimb-bank-plc-phnom-penh-cambodia-khm",
                  "label": "Entity"
                },
                "color": "#2196F3",
                "styles": {},
                "label": "CIMB Bank Plc",
                "scale_factor": 1,
                "type": "#2196F3",
                "size": [
                  55,
                  55
                ],
                "position": [
                  0,
                  0
                ],
                "coordinates": [
                  13,
                  105
                ]
              },
              {
                "id": 330,
                "properties": {
                  "code": "KHM",
                  "name": "Cambodia",
                  "location": {
                    "x": 105,
                    "y": 13,
                    "z": 0
                  },
                  "tld": "KH",
                  "label": "Country"
                },
                "color": "#F44336",
                "styles": {},
                "label": "Cambodia",
                "scale_factor": 1,
                "type": "#F44336",
                "size": [
                  55,
                  55
                ],
                "position": [
                  0,
                  0
                ],
                "coordinates": [
                  13,
                  105
                ]
              },
              {
                "id": 3018,
                "properties": {
                  "end_date": "Jul 20, 2015",
                  "amount": 1046936,
                  "beneficiary_iso": "SGP",
                  "beneficiary_lng": "103.8",
                  "begin_date": "Jun 15, 2015",
                  "originator_bank": "Bank of Communications",
                  "beneficiary_lat": "1.3667",
                  "begin_date_format": "2015-06-15T00:00:00Z",
                  "beneficiary_bank_id": "united-overseas-bank-limited-singapore-sgp",
                  "end_date_format": "2015-07-20T00:00:00Z",
                  "originator_iso": "CHN",
                  "origin_lat": "35",
                  "number": 2,
                  "filer_org_name": "The Bank of New York Mellon Corp.",
                  "originator_bank_country": "China",
                  "beneficiary_bank_country": "Singapore",
                  "beneficiary_bank": "United Overseas Bank Limited",
                  "filer_org_name_id": "the-bank-of-new-york-mellon-corp",
                  "end": "2015-07-20T00:00:00.000000",
                  "origin_lng": "105",
                  "originator_bank_id": "bank-of-communications",
                  "id": "235497",
                  "begin": "2015-06-15T00:00:00.000000",
                  "sar_id": "3295",
                  "label": "Filing"
                },
                "color": "#4CAF50",
                "styles": {},
                "label": "Filing",
                "scale_factor": 1,
                "type": "#4CAF50",
                "size": [
                  55,
                  55
                ],
                "position": [
                  0,
                  0
                ],
                "coordinates": [
                  "1.3667",
                  "103.8"
                ]
              },
              {
                "id": 3019,
                "properties": {
                  "end_date": "Aug 27, 2015",
                  "amount": 1569990,
                  "beneficiary_iso": "SGP",
                  "beneficiary_lng": "103.8",
                  "begin_date": "Mar 31, 2015",
                  "originator_bank": "Bank of Communications",
                  "beneficiary_lat": "1.3667",
                  "begin_date_format": "2015-03-31T00:00:00Z",
                  "beneficiary_bank_id": "united-overseas-bank-limited-singapore-sgp",
                  "end_date_format": "2015-08-27T00:00:00Z",
                  "originator_iso": "CHN",
                  "origin_lat": "35",
                  "number": 2,
                  "filer_org_name": "The Bank of New York Mellon Corp.",
                  "originator_bank_country": "China",
                  "beneficiary_bank_country": "Singapore",
                  "beneficiary_bank": "United Overseas Bank Limited",
                  "filer_org_name_id": "the-bank-of-new-york-mellon-corp",
                  "end": "2015-08-27T00:00:00.000000",
                  "origin_lng": "105",
                  "originator_bank_id": "bank-of-communications",
                  "id": "235498",
                  "begin": "2015-03-31T00:00:00.000000",
                  "sar_id": "3295",
                  "label": "Filing"
                },
                "color": "#4CAF50",
                "styles": {},
                "label": "Filing",
                "scale_factor": 1,
                "type": "#4CAF50",
                "size": [
                  55,
                  55
                ],
                "position": [
                  0,
                  0
                ],
                "coordinates": [
                  "1.3667",
                  "103.8"
                ]
              },
              {
                "id": 3020,
                "properties": {
                  "end_date": "Sep 7, 2015",
                  "amount": 655556,
                  "beneficiary_iso": "SGP",
                  "beneficiary_lng": "103.8",
                  "begin_date": "Jul 1, 2015",
                  "originator_bank": "Bank of Communications",
                  "beneficiary_lat": "1.3667",
                  "begin_date_format": "2015-07-01T00:00:00Z",
                  "beneficiary_bank_id": "united-overseas-bank-limited-singapore-sgp",
                  "originator_iso": "CHN",
                  "end_date_format": "2015-09-07T00:00:00Z",
                  "origin_lat": "35",
                  "number": 3,
                  "filer_org_name": "The Bank of New York Mellon Corp.",
                  "originator_bank_country": "China",
                  "beneficiary_bank": "United Overseas Bank Limited",
                  "filer_org_name_id": "the-bank-of-new-york-mellon-corp",
                  "beneficiary_bank_country": "Singapore",
                  "end": "2015-09-07T00:00:00.000000",
                  "origin_lng": "105",
                  "originator_bank_id": "bank-of-communications",
                  "id": "235499",
                  "begin": "2015-07-01T00:00:00.000000",
                  "sar_id": "3295",
                  "label": "Filing"
                },
                "color": "#4CAF50",
                "styles": {},
                "label": "Filing",
                "scale_factor": 1,
                "type": "#4CAF50",
                "size": [
                  55,
                  55
                ],
                "position": [
                  0,
                  0
                ],
                "coordinates": [
                  "1.3667",
                  "103.8"
                ]
              },
              {
                "id": 3021,
                "properties": {
                  "end_date": "Jul 20, 2015",
                  "amount": 1539216.18,
                  "beneficiary_iso": "SGP",
                  "beneficiary_lng": "103.8",
                  "begin_date": "Mar 16, 2015",
                  "originator_bank": "Bank of Communications",
                  "beneficiary_lat": "1.3667",
                  "begin_date_format": "2015-03-16T00:00:00Z",
                  "beneficiary_bank_id": "united-overseas-bank-limited-singapore-sgp",
                  "end_date_format": "2015-07-20T00:00:00Z",
                  "originator_iso": "CHN",
                  "origin_lat": "35",
                  "number": 4,
                  "filer_org_name": "The Bank of New York Mellon Corp.",
                  "originator_bank_country": "China",
                  "beneficiary_bank_country": "Singapore",
                  "beneficiary_bank": "United Overseas Bank Limited",
                  "filer_org_name_id": "the-bank-of-new-york-mellon-corp",
                  "end": "2015-07-20T00:00:00.000000",
                  "origin_lng": "105",
                  "originator_bank_id": "bank-of-communications",
                  "id": "235500",
                  "begin": "2015-03-16T00:00:00.000000",
                  "sar_id": "3295",
                  "label": "Filing"
                },
                "color": "#4CAF50",
                "styles": {},
                "label": "Filing",
                "scale_factor": 1,
                "type": "#4CAF50",
                "size": [
                  55,
                  55
                ],
                "position": [
                  0,
                  0
                ],
                "coordinates": [
                  "1.3667",
                  "103.8"
                ]
              },
              {
                "id": 3022,
                "properties": {
                  "end_date": "Sep 14, 2015",
                  "amount": 6139040,
                  "beneficiary_iso": "CHN",
                  "beneficiary_lng": "105",
                  "begin_date": "Apr 13, 2015",
                  "originator_bank": "Bank of Hebei Tangshan Branch",
                  "beneficiary_lat": "35",
                  "begin_date_format": "2015-04-13T00:00:00Z",
                  "beneficiary_bank_id": "bank-of-communications-shanghai-china-chn",
                  "end_date_format": "2015-09-14T00:00:00Z",
                  "originator_iso": "CHN",
                  "origin_lat": "35",
                  "number": 23,
                  "filer_org_name": "The Bank of New York Mellon Corp.",
                  "originator_bank_country": "China",
                  "beneficiary_bank_country": "China",
                  "beneficiary_bank": "Bank of Communications",
                  "filer_org_name_id": "the-bank-of-new-york-mellon-corp",
                  "end": "2015-09-14T00:00:00.000000",
                  "origin_lng": "105",
                  "originator_bank_id": "bank-of-hebei-tangshan-branch",
                  "id": "235501",
                  "begin": "2015-04-13T00:00:00.000000",
                  "sar_id": "3295",
                  "label": "Filing"
                },
                "color": "#4CAF50",
                "styles": {},
                "label": "Filing",
                "scale_factor": 1,
                "type": "#4CAF50",
                "size": [
                  55,
                  55
                ],
                "position": [
                  0,
                  0
                ],
                "coordinates": [
                  "35",
                  "105"
                ]
              },
              {
                "id": 3023,
                "properties": {
                  "end_date": "Sep 10, 2010",
                  "amount": 815684.03,
                  "beneficiary_iso": "SGP",
                  "beneficiary_lng": "103.8",
                  "begin_date": "Sep 10, 2010",
                  "originator_bank": "Industrial And Commercial Bank of China",
                  "beneficiary_lat": "1.3667",
                  "begin_date_format": "2010-09-10T00:00:00Z",
                  "beneficiary_bank_id": "citibank-na-singapore-sgp",
                  "end_date_format": "2010-09-10T00:00:00Z",
                  "originator_iso": "CHN",
                  "origin_lat": "35",
                  "number": 1,
                  "filer_org_name": "The Bank of New York Mellon Corp.",
                  "originator_bank_country": "China",
                  "beneficiary_bank_country": "Singapore",
                  "filer_org_name_id": "the-bank-of-new-york-mellon-corp",
                  "beneficiary_bank": "Citibank, N.A.",
                  "end": "2010-09-10T00:00:00.000000",
                  "origin_lng": "105",
                  "originator_bank_id": "industrial-and-commercial-bank-of-china",
                  "id": "235502",
                  "begin": "2010-09-10T00:00:00.000000",
                  "sar_id": "3295",
                  "label": "Filing"
                },
                "color": "#4CAF50",
                "styles": {},
                "label": "Filing",
                "scale_factor": 1,
                "type": "#4CAF50",
                "size": [
                  55,
                  55
                ],
                "position": [
                  0,
                  0
                ],
                "coordinates": [
                  "1.3667",
                  "103.8"
                ]
              }
            ],
            "_overview": {
              "enabled": null,
              "overview_set": false
            },
            "_selected_graph": [
              [],
              []
            ],
            "_sidebar": {
              "enabled": false,
              "start_with": null
            },
            "_view_count": null,
            "_view_module": "yfiles-jupyter-graphs",
            "_view_module_version": "^1.9.0",
            "_view_name": "GraphView",
            "layout": "IPY_MODEL_a3c748a4f284463dbafb53f134d13d4f",
            "tabbable": null,
            "tooltip": null
          }
        },
        "a3c748a4f284463dbafb53f134d13d4f": {
          "model_module": "@jupyter-widgets/base",
          "model_name": "LayoutModel",
          "model_module_version": "2.0.0",
          "state": {
            "_model_module": "@jupyter-widgets/base",
            "_model_module_version": "2.0.0",
            "_model_name": "LayoutModel",
            "_view_count": null,
            "_view_module": "@jupyter-widgets/base",
            "_view_module_version": "2.0.0",
            "_view_name": "LayoutView",
            "align_content": null,
            "align_items": null,
            "align_self": null,
            "border_bottom": null,
            "border_left": null,
            "border_right": null,
            "border_top": null,
            "bottom": null,
            "display": null,
            "flex": null,
            "flex_flow": null,
            "grid_area": null,
            "grid_auto_columns": null,
            "grid_auto_flow": null,
            "grid_auto_rows": null,
            "grid_column": null,
            "grid_gap": null,
            "grid_row": null,
            "grid_template_areas": null,
            "grid_template_columns": null,
            "grid_template_rows": null,
            "height": "800px",
            "justify_content": null,
            "justify_items": null,
            "left": null,
            "margin": null,
            "max_height": null,
            "max_width": null,
            "min_height": null,
            "min_width": null,
            "object_fit": null,
            "object_position": null,
            "order": null,
            "overflow": null,
            "padding": null,
            "right": null,
            "top": null,
            "visibility": null,
            "width": "100%"
          }
        },
        "19e8ff23174e4899851cb81e52c606bc": {
          "model_module": "yfiles-jupyter-graphs",
          "model_name": "GraphModel",
          "model_module_version": "^1.9.0",
          "state": {
            "_context_pane_mapping": [
              {
                "id": "Neighborhood",
                "title": "Neighborhood"
              },
              {
                "id": "Data",
                "title": "Data"
              },
              {
                "id": "Search",
                "title": "Search"
              },
              {
                "id": "About",
                "title": "About"
              }
            ],
            "_data_importer": "neo4j",
            "_directed": true,
            "_dom_classes": [],
            "_edges": [
              {
                "id": 0,
                "start": 5056,
                "end": 2645,
                "properties": {
                  "label": "FILED"
                },
                "label": "FILED",
                "color": "#607D8B",
                "thickness_factor": 2,
                "directed": true
              },
              {
                "id": 1,
                "start": 2645,
                "end": 5068,
                "properties": {
                  "label": "CONCERNS"
                },
                "label": "CONCERNS",
                "color": "#673AB7",
                "thickness_factor": 0.5,
                "directed": true
              },
              {
                "id": 2,
                "start": 5068,
                "end": 338,
                "properties": {
                  "label": "COUNTRY"
                },
                "label": "COUNTRY",
                "color": "#CDDC39",
                "thickness_factor": 1,
                "directed": true
              },
              {
                "id": 3,
                "start": 5056,
                "end": 2646,
                "properties": {
                  "label": "FILED"
                },
                "label": "FILED",
                "color": "#607D8B",
                "thickness_factor": 2,
                "directed": true
              },
              {
                "id": 4,
                "start": 2646,
                "end": 5068,
                "properties": {
                  "label": "CONCERNS"
                },
                "label": "CONCERNS",
                "color": "#673AB7",
                "thickness_factor": 0.5,
                "directed": true
              },
              {
                "id": 5,
                "start": 5056,
                "end": 2647,
                "properties": {
                  "label": "FILED"
                },
                "label": "FILED",
                "color": "#607D8B",
                "thickness_factor": 2,
                "directed": true
              },
              {
                "id": 6,
                "start": 2647,
                "end": 5068,
                "properties": {
                  "label": "CONCERNS"
                },
                "label": "CONCERNS",
                "color": "#673AB7",
                "thickness_factor": 0.5,
                "directed": true
              },
              {
                "id": 7,
                "start": 5056,
                "end": 2648,
                "properties": {
                  "label": "FILED"
                },
                "label": "FILED",
                "color": "#607D8B",
                "thickness_factor": 2,
                "directed": true
              },
              {
                "id": 8,
                "start": 2648,
                "end": 5068,
                "properties": {
                  "label": "CONCERNS"
                },
                "label": "CONCERNS",
                "color": "#673AB7",
                "thickness_factor": 0.5,
                "directed": true
              },
              {
                "id": 9,
                "start": 5056,
                "end": 2649,
                "properties": {
                  "label": "FILED"
                },
                "label": "FILED",
                "color": "#607D8B",
                "thickness_factor": 2,
                "directed": true
              },
              {
                "id": 10,
                "start": 2649,
                "end": 5068,
                "properties": {
                  "label": "CONCERNS"
                },
                "label": "CONCERNS",
                "color": "#673AB7",
                "thickness_factor": 0.5,
                "directed": true
              },
              {
                "id": 11,
                "start": 5056,
                "end": 2650,
                "properties": {
                  "label": "FILED"
                },
                "label": "FILED",
                "color": "#607D8B",
                "thickness_factor": 2,
                "directed": true
              },
              {
                "id": 12,
                "start": 2650,
                "end": 5068,
                "properties": {
                  "label": "CONCERNS"
                },
                "label": "CONCERNS",
                "color": "#673AB7",
                "thickness_factor": 0.5,
                "directed": true
              },
              {
                "id": 13,
                "start": 5056,
                "end": 2651,
                "properties": {
                  "label": "FILED"
                },
                "label": "FILED",
                "color": "#607D8B",
                "thickness_factor": 2,
                "directed": true
              },
              {
                "id": 14,
                "start": 2651,
                "end": 5068,
                "properties": {
                  "label": "CONCERNS"
                },
                "label": "CONCERNS",
                "color": "#673AB7",
                "thickness_factor": 0.5,
                "directed": true
              },
              {
                "id": 15,
                "start": 5056,
                "end": 2652,
                "properties": {
                  "label": "FILED"
                },
                "label": "FILED",
                "color": "#607D8B",
                "thickness_factor": 2,
                "directed": true
              },
              {
                "id": 16,
                "start": 2652,
                "end": 5068,
                "properties": {
                  "label": "CONCERNS"
                },
                "label": "CONCERNS",
                "color": "#673AB7",
                "thickness_factor": 0.5,
                "directed": true
              },
              {
                "id": 17,
                "start": 5056,
                "end": 2653,
                "properties": {
                  "label": "FILED"
                },
                "label": "FILED",
                "color": "#607D8B",
                "thickness_factor": 2,
                "directed": true
              },
              {
                "id": 18,
                "start": 2653,
                "end": 5068,
                "properties": {
                  "label": "CONCERNS"
                },
                "label": "CONCERNS",
                "color": "#673AB7",
                "thickness_factor": 0.5,
                "directed": true
              },
              {
                "id": 19,
                "start": 5057,
                "end": 2263,
                "properties": {
                  "label": "FILED"
                },
                "label": "FILED",
                "color": "#607D8B",
                "thickness_factor": 2,
                "directed": true
              },
              {
                "id": 20,
                "start": 2263,
                "end": 5069,
                "properties": {
                  "label": "CONCERNS"
                },
                "label": "CONCERNS",
                "color": "#673AB7",
                "thickness_factor": 0.5,
                "directed": true
              },
              {
                "id": 21,
                "start": 5069,
                "end": 350,
                "properties": {
                  "label": "COUNTRY"
                },
                "label": "COUNTRY",
                "color": "#CDDC39",
                "thickness_factor": 1,
                "directed": true
              },
              {
                "id": 22,
                "start": 5056,
                "end": 549,
                "properties": {
                  "label": "FILED"
                },
                "label": "FILED",
                "color": "#607D8B",
                "thickness_factor": 2,
                "directed": true
              },
              {
                "id": 23,
                "start": 549,
                "end": 5070,
                "properties": {
                  "label": "CONCERNS"
                },
                "label": "CONCERNS",
                "color": "#673AB7",
                "thickness_factor": 0.5,
                "directed": true
              },
              {
                "id": 24,
                "start": 5070,
                "end": 454,
                "properties": {
                  "label": "COUNTRY"
                },
                "label": "COUNTRY",
                "color": "#CDDC39",
                "thickness_factor": 1,
                "directed": true
              }
            ],
            "_graph_layout": {
              "algorithm": "organic",
              "options": {}
            },
            "_highlight": [],
            "_license": {},
            "_model_module": "yfiles-jupyter-graphs",
            "_model_module_version": "^1.9.0",
            "_model_name": "GraphModel",
            "_neighborhood": {},
            "_nodes": [
              {
                "id": 5056,
                "properties": {
                  "name": "The Bank of New York Mellon Corp.",
                  "location": {
                    "x": -73.987862,
                    "y": 40.777571,
                    "z": 0
                  },
                  "id": "the-bank-of-new-york-mellon-corp",
                  "label": "Entity"
                },
                "color": "#2196F3",
                "styles": {},
                "label": "The Bank of New York Mellon Corp.",
                "scale_factor": 1,
                "type": "#2196F3",
                "size": [
                  55,
                  55
                ],
                "position": [
                  0,
                  0
                ]
              },
              {
                "id": 2645,
                "properties": {
                  "end_date": "Oct 13, 2015",
                  "amount": 2741500,
                  "beneficiary_iso": "SGP",
                  "beneficiary_lng": "103.8",
                  "begin_date": "Oct 2, 2015",
                  "originator_bank": "HSBC Hong Kong",
                  "beneficiary_lat": "1.3667",
                  "begin_date_format": "2015-10-02T00:00:00Z",
                  "originator_iso": "HKG",
                  "beneficiary_bank_id": "dbs-bank-ltd-singapore-sgp",
                  "end_date_format": "2015-10-13T00:00:00Z",
                  "origin_lat": "22.25",
                  "number": 4,
                  "filer_org_name": "The Bank of New York Mellon Corp.",
                  "originator_bank_country": "Hong Kong",
                  "beneficiary_bank": "DBS Bank Ltd",
                  "beneficiary_bank_country": "Singapore",
                  "filer_org_name_id": "the-bank-of-new-york-mellon-corp",
                  "end": "2015-10-13T00:00:00.000000",
                  "origin_lng": "114.1667",
                  "originator_bank_id": "hsbc-hong-kong",
                  "id": "234293",
                  "begin": "2015-10-02T00:00:00.000000",
                  "sar_id": "4293",
                  "label": "Filing"
                },
                "color": "#4CAF50",
                "styles": {},
                "label": "Filing",
                "scale_factor": 1,
                "type": "#4CAF50",
                "size": [
                  57.440544980184015,
                  57.440544980184015
                ],
                "position": [
                  0,
                  0
                ]
              },
              {
                "id": 5068,
                "properties": {
                  "country": "CHN",
                  "name": "China Construction Bank Corporation",
                  "location": {
                    "x": 105,
                    "y": 35,
                    "z": 0
                  },
                  "id": "china-construction-bank-corporation-beijing-china-chn",
                  "label": "Entity"
                },
                "color": "#2196F3",
                "styles": {},
                "label": "China Construction Bank Corporation",
                "scale_factor": 1,
                "type": "#2196F3",
                "size": [
                  55,
                  55
                ],
                "position": [
                  0,
                  0
                ]
              },
              {
                "id": 338,
                "properties": {
                  "code": "CHN",
                  "name": "China",
                  "location": {
                    "x": 105,
                    "y": 35,
                    "z": 0
                  },
                  "tld": "CN",
                  "label": "Country"
                },
                "color": "#F44336",
                "styles": {},
                "label": "China",
                "scale_factor": 1,
                "type": "#F44336",
                "size": [
                  55,
                  55
                ],
                "position": [
                  0,
                  0
                ],
                "coordinates": [
                  35,
                  105
                ]
              },
              {
                "id": 2646,
                "properties": {
                  "end_date": "Oct 27, 2015",
                  "amount": 3240000,
                  "beneficiary_iso": "SGP",
                  "beneficiary_lng": "103.8",
                  "begin_date": "Oct 27, 2015",
                  "originator_bank": "Bank of Taiwan",
                  "beneficiary_lat": "1.3667",
                  "begin_date_format": "2015-10-27T00:00:00Z",
                  "beneficiary_bank_id": "dbs-bank-ltd-singapore-sgp",
                  "end_date_format": "2015-10-27T00:00:00Z",
                  "originator_iso": "TWN",
                  "origin_lat": "23.5",
                  "number": 1,
                  "filer_org_name": "The Bank of New York Mellon Corp.",
                  "originator_bank_country": "Taiwan",
                  "beneficiary_bank_country": "Singapore",
                  "filer_org_name_id": "the-bank-of-new-york-mellon-corp",
                  "beneficiary_bank": "DBS Bank Ltd",
                  "end": "2015-10-27T00:00:00.000000",
                  "origin_lng": "121",
                  "originator_bank_id": "bank-of-taiwan",
                  "id": "234294",
                  "begin": "2015-10-27T00:00:00.000000",
                  "sar_id": "4293",
                  "label": "Filing"
                },
                "color": "#4CAF50",
                "styles": {},
                "label": "Filing",
                "scale_factor": 1,
                "type": "#4CAF50",
                "size": [
                  57.886486119251096,
                  57.886486119251096
                ],
                "position": [
                  0,
                  0
                ]
              },
              {
                "id": 2647,
                "properties": {
                  "end_date": "Oct 23, 2015",
                  "amount": 3397070,
                  "beneficiary_iso": "CZE",
                  "beneficiary_lng": "15.5",
                  "begin_date": "Oct 23, 2015",
                  "originator_bank": "J And T Bank And Trust",
                  "beneficiary_lat": "49.75",
                  "begin_date_format": "2015-10-23T00:00:00Z",
                  "beneficiary_bank_id": "ppf-banka-as-prague-czech-republic-cze",
                  "end_date_format": "2015-10-23T00:00:00Z",
                  "originator_iso": "BRB",
                  "origin_lat": "13.1667",
                  "number": 1,
                  "filer_org_name": "The Bank of New York Mellon Corp.",
                  "originator_bank_country": "Barbados",
                  "beneficiary_bank": "PPF Banka A.S.",
                  "beneficiary_bank_country": "Czech Republic",
                  "filer_org_name_id": "the-bank-of-new-york-mellon-corp",
                  "end": "2015-10-23T00:00:00.000000",
                  "origin_lng": "-59.5333",
                  "originator_bank_id": "j-and-t-bank-and-trust",
                  "id": "234295",
                  "begin": "2015-10-23T00:00:00.000000",
                  "sar_id": "4293",
                  "label": "Filing"
                },
                "color": "#4CAF50",
                "styles": {},
                "label": "Filing",
                "scale_factor": 1,
                "type": "#4CAF50",
                "size": [
                  58.026601979519434,
                  58.026601979519434
                ],
                "position": [
                  0,
                  0
                ]
              },
              {
                "id": 2648,
                "properties": {
                  "end_date": "Oct 15, 2015",
                  "amount": 3500000,
                  "beneficiary_iso": "CHN",
                  "beneficiary_lng": "105",
                  "begin_date": "Oct 7, 2015",
                  "originator_bank": "Taishin International Bank",
                  "beneficiary_lat": "35",
                  "begin_date_format": "2015-10-07T00:00:00Z",
                  "end_date_format": "2015-10-15T00:00:00Z",
                  "originator_iso": "TWN",
                  "beneficiary_bank_id": "foshan-shunde-rural-commercial-bk-co-ltd-shunde-china-chn",
                  "origin_lat": "23.5",
                  "number": 3,
                  "filer_org_name": "The Bank of New York Mellon Corp.",
                  "originator_bank_country": "Taiwan",
                  "beneficiary_bank": "Foshan Shunde Rural Commercial Bk Co Ltd",
                  "beneficiary_bank_country": "China",
                  "filer_org_name_id": "the-bank-of-new-york-mellon-corp",
                  "end": "2015-10-15T00:00:00.000000",
                  "origin_lng": "121",
                  "originator_bank_id": "taishin-international-bank",
                  "id": "234296",
                  "begin": "2015-10-07T00:00:00.000000",
                  "sar_id": "4293",
                  "label": "Filing"
                },
                "color": "#4CAF50",
                "styles": {},
                "label": "Filing",
                "scale_factor": 1,
                "type": "#4CAF50",
                "size": [
                  58.11831941230203,
                  58.11831941230203
                ],
                "position": [
                  0,
                  0
                ]
              },
              {
                "id": 2649,
                "properties": {
                  "end_date": "Oct 29, 2015",
                  "amount": 3561111.36,
                  "beneficiary_iso": "CHN",
                  "beneficiary_lng": "105",
                  "begin_date": "Oct 13, 2015",
                  "originator_bank": "CTBC Bank Co Ltd",
                  "beneficiary_lat": "35",
                  "begin_date_format": "2015-10-13T00:00:00Z",
                  "beneficiary_bank_id": "china-construction-bank-corporation-guangdong-china-chn",
                  "end_date_format": "2015-10-29T00:00:00Z",
                  "originator_iso": "HKG",
                  "origin_lat": "22.25",
                  "number": 3,
                  "filer_org_name": "The Bank of New York Mellon Corp.",
                  "originator_bank_country": "Hong Kong",
                  "beneficiary_bank": "China Construction Bank Corporation",
                  "filer_org_name_id": "the-bank-of-new-york-mellon-corp",
                  "beneficiary_bank_country": "China",
                  "end": "2015-10-29T00:00:00.000000",
                  "origin_lng": "114.1667",
                  "originator_bank_id": "ctbc-bank-co-ltd",
                  "id": "234297",
                  "begin": "2015-10-13T00:00:00.000000",
                  "sar_id": "4293",
                  "label": "Filing"
                },
                "color": "#4CAF50",
                "styles": {},
                "label": "Filing",
                "scale_factor": 1,
                "type": "#4CAF50",
                "size": [
                  58.17273535193591,
                  58.17273535193591
                ],
                "position": [
                  0,
                  0
                ]
              },
              {
                "id": 2650,
                "properties": {
                  "end_date": "Oct 29, 2015",
                  "amount": 2993552.18,
                  "beneficiary_iso": "CHN",
                  "beneficiary_lng": "105",
                  "begin_date": "Oct 27, 2015",
                  "originator_bank": "SCSB Savings Department Branch",
                  "beneficiary_lat": "35",
                  "begin_date_format": "2015-10-27T00:00:00Z",
                  "beneficiary_bank_id": "ping-an-bank-co-ltd-east-shenzhen-china-chn",
                  "originator_iso": "TWN",
                  "end_date_format": "2015-10-29T00:00:00Z",
                  "origin_lat": "23.5",
                  "number": 3,
                  "filer_org_name": "The Bank of New York Mellon Corp.",
                  "originator_bank_country": "Taiwan",
                  "beneficiary_bank": "Ping An Bank Co Ltd",
                  "filer_org_name_id": "the-bank-of-new-york-mellon-corp",
                  "beneficiary_bank_country": "China",
                  "end": "2015-10-29T00:00:00.000000",
                  "origin_lng": "121",
                  "originator_bank_id": "scsb-savings-department-branch",
                  "id": "234298",
                  "begin": "2015-10-27T00:00:00.000000",
                  "sar_id": "4293",
                  "label": "Filing"
                },
                "color": "#4CAF50",
                "styles": {},
                "label": "Filing",
                "scale_factor": 1,
                "type": "#4CAF50",
                "size": [
                  57.66625973758406,
                  57.66625973758406
                ],
                "position": [
                  0,
                  0
                ]
              },
              {
                "id": 2651,
                "properties": {
                  "end_date": "Oct 9, 2015",
                  "amount": 5870272.71,
                  "beneficiary_lng": "103.8",
                  "beneficiary_iso": "SGP",
                  "begin_date": "Oct 5, 2015",
                  "originator_bank": "HSBC Singapore General Account",
                  "beneficiary_lat": "1.3667",
                  "begin_date_format": "2015-10-05T00:00:00Z",
                  "beneficiary_bank_id": "dbs-bank-ltd-singapore-sgp",
                  "end_date_format": "2015-10-09T00:00:00Z",
                  "originator_iso": "SGP",
                  "origin_lat": "1.3667",
                  "number": 3,
                  "filer_org_name": "The Bank of New York Mellon Corp.",
                  "originator_bank_country": "Singapore",
                  "beneficiary_bank_country": "Singapore",
                  "filer_org_name_id": "the-bank-of-new-york-mellon-corp",
                  "beneficiary_bank": "DBS Bank Ltd",
                  "end": "2015-10-09T00:00:00.000000",
                  "origin_lng": "103.8",
                  "originator_bank_id": "hsbc-singapore-general-account",
                  "id": "234300",
                  "begin": "2015-10-05T00:00:00.000000",
                  "sar_id": "4293",
                  "label": "Filing"
                },
                "color": "#4CAF50",
                "styles": {},
                "label": "Filing",
                "scale_factor": 1,
                "type": "#4CAF50",
                "size": [
                  60.207980168134014,
                  60.207980168134014
                ],
                "position": [
                  0,
                  0
                ]
              },
              {
                "id": 2652,
                "properties": {
                  "end_date": "Oct 23, 2015",
                  "amount": 4967922.12,
                  "beneficiary_iso": "NOR",
                  "beneficiary_lng": "10",
                  "begin_date": "Oct 23, 2015",
                  "originator_bank": "Bank of Communications",
                  "beneficiary_lat": "62",
                  "begin_date_format": "2015-10-23T00:00:00Z",
                  "beneficiary_bank_id": "skandinaviska-enskilda-banken-oslo-norway-nor",
                  "end_date_format": "2015-10-23T00:00:00Z",
                  "originator_iso": "HKG",
                  "origin_lat": "22.25",
                  "number": 2,
                  "filer_org_name": "The Bank of New York Mellon Corp.",
                  "originator_bank_country": "Hong Kong",
                  "beneficiary_bank": "Skandinaviska Enskilda Banken",
                  "filer_org_name_id": "the-bank-of-new-york-mellon-corp",
                  "beneficiary_bank_country": "Norway",
                  "end": "2015-10-23T00:00:00.000000",
                  "origin_lng": "114.1667",
                  "originator_bank_id": "bank-of-communications",
                  "id": "234301",
                  "begin": "2015-10-23T00:00:00.000000",
                  "sar_id": "4293",
                  "label": "Filing"
                },
                "color": "#4CAF50",
                "styles": {},
                "label": "Filing",
                "scale_factor": 1,
                "type": "#4CAF50",
                "size": [
                  59.41752048093741,
                  59.41752048093741
                ],
                "position": [
                  0,
                  0
                ]
              },
              {
                "id": 2653,
                "properties": {
                  "end_date": "Oct 30, 2015",
                  "amount": 15457176.81,
                  "beneficiary_iso": "IDN",
                  "beneficiary_lng": "120",
                  "begin_date": "Oct 9, 2015",
                  "originator_bank": "Icici Bank Limited",
                  "beneficiary_lat": "-5",
                  "begin_date_format": "2015-10-09T00:00:00Z",
                  "end_date_format": "2015-10-30T00:00:00Z",
                  "beneficiary_bank_id": "bank-of-india-indonesia-jakarta-indonesia-idn",
                  "originator_iso": "SGP",
                  "origin_lat": "1.3667",
                  "number": 4,
                  "filer_org_name": "The Bank of New York Mellon Corp.",
                  "originator_bank_country": "Singapore",
                  "beneficiary_bank_country": "Indonesia",
                  "beneficiary_bank": "Bank of India Indonesia",
                  "filer_org_name_id": "the-bank-of-new-york-mellon-corp",
                  "end": "2015-10-30T00:00:00.000000",
                  "origin_lng": "103.8",
                  "originator_bank_id": "icici-bank-limited",
                  "id": "234302",
                  "begin": "2015-10-09T00:00:00.000000",
                  "sar_id": "4293",
                  "label": "Filing"
                },
                "color": "#4CAF50",
                "styles": {},
                "label": "Filing",
                "scale_factor": 1,
                "type": "#4CAF50",
                "size": [
                  68.2217126088588,
                  68.2217126088588
                ],
                "position": [
                  0,
                  0
                ]
              },
              {
                "id": 5057,
                "properties": {
                  "name": "Société Générale SA",
                  "location": {
                    "x": -73.987862,
                    "y": 40.777571,
                    "z": 0
                  },
                  "id": "societe-generale-sa",
                  "label": "Entity"
                },
                "color": "#2196F3",
                "styles": {},
                "label": "Société Générale SA",
                "scale_factor": 1,
                "type": "#2196F3",
                "size": [
                  55,
                  55
                ],
                "position": [
                  0,
                  0
                ]
              },
              {
                "id": 2263,
                "properties": {
                  "end_date": "Jul 11, 2012",
                  "amount": 37733084,
                  "beneficiary_iso": "CYP",
                  "beneficiary_lng": "33",
                  "begin_date": "Jul 11, 2012",
                  "originator_bank": "SG Private Banking",
                  "beneficiary_lat": "35",
                  "begin_date_format": "2012-07-11T00:00:00Z",
                  "end_date_format": "2012-07-11T00:00:00Z",
                  "beneficiary_bank_id": "societe-generale-bank-cyprus-ltd-sg-cyprus-cyp",
                  "originator_iso": "CHE",
                  "origin_lat": "47",
                  "number": 1,
                  "filer_org_name": "Société Générale SA",
                  "originator_bank_country": "Switzerland",
                  "beneficiary_bank_country": "Cyprus",
                  "beneficiary_bank": "Societe Generale Bank Cyprus Ltd",
                  "filer_org_name_id": "societe-generale-sa",
                  "end": "2012-07-11T00:00:00.000000",
                  "origin_lng": "8",
                  "originator_bank_id": "sg-private-banking",
                  "id": "231963",
                  "begin": "2012-07-11T00:00:00.000000",
                  "sar_id": "2782",
                  "label": "Filing"
                },
                "color": "#4CAF50",
                "styles": {},
                "label": "Filing",
                "scale_factor": 1,
                "type": "#4CAF50",
                "size": [
                  84.12903558028239,
                  84.12903558028239
                ],
                "position": [
                  0,
                  0
                ]
              },
              {
                "id": 5069,
                "properties": {
                  "country": "CYP",
                  "name": "Societe Generale Bank Cyprus Ltd",
                  "location": {
                    "x": 33,
                    "y": 35,
                    "z": 0
                  },
                  "id": "societe-generale-bank-cyprus-ltd-sg-cyprus-cyp",
                  "label": "Entity"
                },
                "color": "#2196F3",
                "styles": {},
                "label": "Societe Generale Bank Cyprus Ltd",
                "scale_factor": 1,
                "type": "#2196F3",
                "size": [
                  55,
                  55
                ],
                "position": [
                  0,
                  0
                ]
              },
              {
                "id": 350,
                "properties": {
                  "code": "CYP",
                  "name": "Cyprus",
                  "location": {
                    "x": 33,
                    "y": 35,
                    "z": 0
                  },
                  "tld": "CY",
                  "label": "Country"
                },
                "color": "#F44336",
                "styles": {},
                "label": "Cyprus",
                "scale_factor": 1,
                "type": "#F44336",
                "size": [
                  55,
                  55
                ],
                "position": [
                  0,
                  0
                ],
                "coordinates": [
                  35,
                  33
                ]
              },
              {
                "id": 549,
                "properties": {
                  "end_date": "Sep 25, 2015",
                  "amount": 56898523.47,
                  "beneficiary_iso": "GBR",
                  "beneficiary_lng": "-2",
                  "begin_date": "Mar 25, 2015",
                  "originator_bank": "CIMB Bank Berhad",
                  "beneficiary_lat": "54",
                  "begin_date_format": "2015-03-25T00:00:00Z",
                  "beneficiary_bank_id": "barclays-bank-plc-london-england-gbr",
                  "end_date_format": "2015-09-25T00:00:00Z",
                  "originator_iso": "SGP",
                  "origin_lat": "1.3667",
                  "number": 68,
                  "filer_org_name": "The Bank of New York Mellon Corp.",
                  "originator_bank_country": "Singapore",
                  "beneficiary_bank_country": "United Kingdom",
                  "beneficiary_bank": "Barclays Bank Plc",
                  "filer_org_name_id": "the-bank-of-new-york-mellon-corp",
                  "end": "2015-09-25T00:00:00.000000",
                  "origin_lng": "103.8",
                  "originator_bank_id": "cimb-bank-berhad",
                  "id": "223254",
                  "begin": "2015-03-25T00:00:00.000000",
                  "sar_id": "3297",
                  "label": "Filing"
                },
                "color": "#4CAF50",
                "styles": {},
                "label": "Filing",
                "scale_factor": 1,
                "type": "#4CAF50",
                "size": [
                  94.77906862230266,
                  94.77906862230266
                ],
                "position": [
                  0,
                  0
                ]
              },
              {
                "id": 5070,
                "properties": {
                  "country": "NZL",
                  "name": "Asb Bank Limited",
                  "location": {
                    "x": 174,
                    "y": -41,
                    "z": 0
                  },
                  "id": "asb-bank-limited-auckland-new-zealand-nzl",
                  "label": "Entity"
                },
                "color": "#2196F3",
                "styles": {},
                "label": "Asb Bank Limited",
                "scale_factor": 1,
                "type": "#2196F3",
                "size": [
                  55,
                  55
                ],
                "position": [
                  0,
                  0
                ]
              },
              {
                "id": 454,
                "properties": {
                  "code": "NZL",
                  "name": "New Zealand",
                  "location": {
                    "x": 174,
                    "y": -41,
                    "z": 0
                  },
                  "tld": "NZ",
                  "label": "Country"
                },
                "color": "#F44336",
                "styles": {},
                "label": "New Zealand",
                "scale_factor": 1,
                "type": "#F44336",
                "size": [
                  55,
                  55
                ],
                "position": [
                  0,
                  0
                ],
                "coordinates": [
                  -41,
                  174
                ]
              }
            ],
            "_overview": {
              "enabled": null,
              "overview_set": false
            },
            "_selected_graph": [
              [],
              []
            ],
            "_sidebar": {
              "enabled": false,
              "start_with": null
            },
            "_view_count": null,
            "_view_module": "yfiles-jupyter-graphs",
            "_view_module_version": "^1.9.0",
            "_view_name": "GraphView",
            "layout": "IPY_MODEL_3425ef7d35664d6194571f3f35b06813",
            "tabbable": null,
            "tooltip": null
          }
        },
        "3425ef7d35664d6194571f3f35b06813": {
          "model_module": "@jupyter-widgets/base",
          "model_name": "LayoutModel",
          "model_module_version": "2.0.0",
          "state": {
            "_model_module": "@jupyter-widgets/base",
            "_model_module_version": "2.0.0",
            "_model_name": "LayoutModel",
            "_view_count": null,
            "_view_module": "@jupyter-widgets/base",
            "_view_module_version": "2.0.0",
            "_view_name": "LayoutView",
            "align_content": null,
            "align_items": null,
            "align_self": null,
            "border_bottom": null,
            "border_left": null,
            "border_right": null,
            "border_top": null,
            "bottom": null,
            "display": null,
            "flex": null,
            "flex_flow": null,
            "grid_area": null,
            "grid_auto_columns": null,
            "grid_auto_flow": null,
            "grid_auto_rows": null,
            "grid_column": null,
            "grid_gap": null,
            "grid_row": null,
            "grid_template_areas": null,
            "grid_template_columns": null,
            "grid_template_rows": null,
            "height": "690px",
            "justify_content": null,
            "justify_items": null,
            "left": null,
            "margin": null,
            "max_height": null,
            "max_width": null,
            "min_height": null,
            "min_width": null,
            "object_fit": null,
            "object_position": null,
            "order": null,
            "overflow": null,
            "padding": null,
            "right": null,
            "top": null,
            "visibility": null,
            "width": "100%"
          }
        },
        "ee765ce7d42f481aaf29c1f5aa66f708": {
          "model_module": "yfiles-jupyter-graphs",
          "model_name": "GraphModel",
          "model_module_version": "^1.9.0",
          "state": {
            "_context_pane_mapping": [
              {
                "id": "Neighborhood",
                "title": "Neighborhood"
              },
              {
                "id": "Data",
                "title": "Data"
              },
              {
                "id": "Search",
                "title": "Search"
              },
              {
                "id": "About",
                "title": "About"
              }
            ],
            "_data_importer": "neo4j",
            "_directed": true,
            "_dom_classes": [],
            "_edges": [
              {
                "id": 0,
                "start": 5056,
                "end": 2645,
                "properties": {
                  "label": "FILED"
                },
                "label": "FILED",
                "color": "#607D8B",
                "thickness_factor": 2,
                "directed": true
              },
              {
                "id": 1,
                "start": 2645,
                "end": 5068,
                "properties": {
                  "label": "CONCERNS"
                },
                "label": "CONCERNS",
                "color": "#673AB7",
                "thickness_factor": 0.5,
                "directed": true
              },
              {
                "id": 3,
                "start": 5056,
                "end": 2646,
                "properties": {
                  "label": "FILED"
                },
                "label": "FILED",
                "color": "#607D8B",
                "thickness_factor": 2,
                "directed": true
              },
              {
                "id": 4,
                "start": 2646,
                "end": 5068,
                "properties": {
                  "label": "CONCERNS"
                },
                "label": "CONCERNS",
                "color": "#673AB7",
                "thickness_factor": 0.5,
                "directed": true
              },
              {
                "id": 5,
                "start": 5056,
                "end": 2647,
                "properties": {
                  "label": "FILED"
                },
                "label": "FILED",
                "color": "#607D8B",
                "thickness_factor": 2,
                "directed": true
              },
              {
                "id": 6,
                "start": 2647,
                "end": 5068,
                "properties": {
                  "label": "CONCERNS"
                },
                "label": "CONCERNS",
                "color": "#673AB7",
                "thickness_factor": 0.5,
                "directed": true
              },
              {
                "id": 7,
                "start": 5056,
                "end": 2648,
                "properties": {
                  "label": "FILED"
                },
                "label": "FILED",
                "color": "#607D8B",
                "thickness_factor": 2,
                "directed": true
              },
              {
                "id": 8,
                "start": 2648,
                "end": 5068,
                "properties": {
                  "label": "CONCERNS"
                },
                "label": "CONCERNS",
                "color": "#673AB7",
                "thickness_factor": 0.5,
                "directed": true
              },
              {
                "id": 9,
                "start": 5056,
                "end": 2649,
                "properties": {
                  "label": "FILED"
                },
                "label": "FILED",
                "color": "#607D8B",
                "thickness_factor": 2,
                "directed": true
              },
              {
                "id": 10,
                "start": 2649,
                "end": 5068,
                "properties": {
                  "label": "CONCERNS"
                },
                "label": "CONCERNS",
                "color": "#673AB7",
                "thickness_factor": 0.5,
                "directed": true
              },
              {
                "id": 11,
                "start": 5056,
                "end": 2650,
                "properties": {
                  "label": "FILED"
                },
                "label": "FILED",
                "color": "#607D8B",
                "thickness_factor": 2,
                "directed": true
              },
              {
                "id": 12,
                "start": 2650,
                "end": 5068,
                "properties": {
                  "label": "CONCERNS"
                },
                "label": "CONCERNS",
                "color": "#673AB7",
                "thickness_factor": 0.5,
                "directed": true
              },
              {
                "id": 13,
                "start": 5056,
                "end": 2651,
                "properties": {
                  "label": "FILED"
                },
                "label": "FILED",
                "color": "#607D8B",
                "thickness_factor": 2,
                "directed": true
              },
              {
                "id": 14,
                "start": 2651,
                "end": 5068,
                "properties": {
                  "label": "CONCERNS"
                },
                "label": "CONCERNS",
                "color": "#673AB7",
                "thickness_factor": 0.5,
                "directed": true
              },
              {
                "id": 15,
                "start": 5056,
                "end": 2652,
                "properties": {
                  "label": "FILED"
                },
                "label": "FILED",
                "color": "#607D8B",
                "thickness_factor": 2,
                "directed": true
              },
              {
                "id": 16,
                "start": 2652,
                "end": 5068,
                "properties": {
                  "label": "CONCERNS"
                },
                "label": "CONCERNS",
                "color": "#673AB7",
                "thickness_factor": 0.5,
                "directed": true
              },
              {
                "id": 17,
                "start": 5056,
                "end": 2653,
                "properties": {
                  "label": "FILED"
                },
                "label": "FILED",
                "color": "#607D8B",
                "thickness_factor": 2,
                "directed": true
              },
              {
                "id": 18,
                "start": 2653,
                "end": 5068,
                "properties": {
                  "label": "CONCERNS"
                },
                "label": "CONCERNS",
                "color": "#673AB7",
                "thickness_factor": 0.5,
                "directed": true
              },
              {
                "id": 19,
                "start": 5057,
                "end": 2263,
                "properties": {
                  "label": "FILED"
                },
                "label": "FILED",
                "color": "#607D8B",
                "thickness_factor": 2,
                "directed": true
              },
              {
                "id": 20,
                "start": 2263,
                "end": 5069,
                "properties": {
                  "label": "CONCERNS"
                },
                "label": "CONCERNS",
                "color": "#673AB7",
                "thickness_factor": 0.5,
                "directed": true
              },
              {
                "id": 22,
                "start": 5056,
                "end": 549,
                "properties": {
                  "label": "FILED"
                },
                "label": "FILED",
                "color": "#607D8B",
                "thickness_factor": 2,
                "directed": true
              },
              {
                "id": 23,
                "start": 549,
                "end": 5070,
                "properties": {
                  "label": "CONCERNS"
                },
                "label": "CONCERNS",
                "color": "#673AB7",
                "thickness_factor": 0.5,
                "directed": true
              }
            ],
            "_graph_layout": {
              "algorithm": "organic",
              "options": {}
            },
            "_highlight": [],
            "_license": {},
            "_model_module": "yfiles-jupyter-graphs",
            "_model_module_version": "^1.9.0",
            "_model_name": "GraphModel",
            "_neighborhood": {},
            "_nodes": [
              {
                "id": 5056,
                "properties": {
                  "name": "The Bank of New York Mellon Corp.",
                  "location": {
                    "x": -73.987862,
                    "y": 40.777571,
                    "z": 0
                  },
                  "id": "the-bank-of-new-york-mellon-corp",
                  "label": "Entity"
                },
                "color": "#2196F3",
                "styles": {},
                "label": "The Bank of New York Mellon Corp.",
                "scale_factor": 1,
                "type": "#2196F3",
                "size": [
                  55,
                  55
                ],
                "position": [
                  0,
                  0
                ]
              },
              {
                "id": 2645,
                "properties": {
                  "end_date": "Oct 13, 2015",
                  "amount": 2741500,
                  "beneficiary_iso": "SGP",
                  "beneficiary_lng": "103.8",
                  "begin_date": "Oct 2, 2015",
                  "originator_bank": "HSBC Hong Kong",
                  "beneficiary_lat": "1.3667",
                  "begin_date_format": "2015-10-02T00:00:00Z",
                  "originator_iso": "HKG",
                  "beneficiary_bank_id": "dbs-bank-ltd-singapore-sgp",
                  "end_date_format": "2015-10-13T00:00:00Z",
                  "origin_lat": "22.25",
                  "number": 4,
                  "filer_org_name": "The Bank of New York Mellon Corp.",
                  "originator_bank_country": "Hong Kong",
                  "beneficiary_bank": "DBS Bank Ltd",
                  "beneficiary_bank_country": "Singapore",
                  "filer_org_name_id": "the-bank-of-new-york-mellon-corp",
                  "end": "2015-10-13T00:00:00.000000",
                  "origin_lng": "114.1667",
                  "originator_bank_id": "hsbc-hong-kong",
                  "id": "234293",
                  "begin": "2015-10-02T00:00:00.000000",
                  "sar_id": "4293",
                  "label": "Filing"
                },
                "color": "#4CAF50",
                "styles": {},
                "label": "Filing",
                "scale_factor": 1,
                "type": "#4CAF50",
                "size": [
                  57.440544980184015,
                  57.440544980184015
                ],
                "position": [
                  0,
                  0
                ]
              },
              {
                "id": 5068,
                "properties": {
                  "country": "CHN",
                  "name": "China Construction Bank Corporation",
                  "location": {
                    "x": 105,
                    "y": 35,
                    "z": 0
                  },
                  "id": "china-construction-bank-corporation-beijing-china-chn",
                  "label": "Entity"
                },
                "color": "#2196F3",
                "styles": {},
                "label": "China Construction Bank Corporation",
                "scale_factor": 1,
                "type": "#2196F3",
                "size": [
                  55,
                  55
                ],
                "position": [
                  0,
                  0
                ],
                "parentId": 338
              },
              {
                "id": 338,
                "properties": {
                  "code": "CHN",
                  "name": "China",
                  "location": {
                    "x": 105,
                    "y": 35,
                    "z": 0
                  },
                  "tld": "CN",
                  "label": "Country"
                },
                "color": "#F44336",
                "styles": {},
                "label": "China",
                "scale_factor": 1,
                "type": "#F44336",
                "size": [
                  55,
                  55
                ],
                "position": [
                  0,
                  0
                ],
                "coordinates": [
                  35,
                  105
                ]
              },
              {
                "id": 2646,
                "properties": {
                  "end_date": "Oct 27, 2015",
                  "amount": 3240000,
                  "beneficiary_iso": "SGP",
                  "beneficiary_lng": "103.8",
                  "begin_date": "Oct 27, 2015",
                  "originator_bank": "Bank of Taiwan",
                  "beneficiary_lat": "1.3667",
                  "begin_date_format": "2015-10-27T00:00:00Z",
                  "beneficiary_bank_id": "dbs-bank-ltd-singapore-sgp",
                  "end_date_format": "2015-10-27T00:00:00Z",
                  "originator_iso": "TWN",
                  "origin_lat": "23.5",
                  "number": 1,
                  "filer_org_name": "The Bank of New York Mellon Corp.",
                  "originator_bank_country": "Taiwan",
                  "beneficiary_bank_country": "Singapore",
                  "filer_org_name_id": "the-bank-of-new-york-mellon-corp",
                  "beneficiary_bank": "DBS Bank Ltd",
                  "end": "2015-10-27T00:00:00.000000",
                  "origin_lng": "121",
                  "originator_bank_id": "bank-of-taiwan",
                  "id": "234294",
                  "begin": "2015-10-27T00:00:00.000000",
                  "sar_id": "4293",
                  "label": "Filing"
                },
                "color": "#4CAF50",
                "styles": {},
                "label": "Filing",
                "scale_factor": 1,
                "type": "#4CAF50",
                "size": [
                  57.886486119251096,
                  57.886486119251096
                ],
                "position": [
                  0,
                  0
                ]
              },
              {
                "id": 2647,
                "properties": {
                  "end_date": "Oct 23, 2015",
                  "amount": 3397070,
                  "beneficiary_iso": "CZE",
                  "beneficiary_lng": "15.5",
                  "begin_date": "Oct 23, 2015",
                  "originator_bank": "J And T Bank And Trust",
                  "beneficiary_lat": "49.75",
                  "begin_date_format": "2015-10-23T00:00:00Z",
                  "beneficiary_bank_id": "ppf-banka-as-prague-czech-republic-cze",
                  "end_date_format": "2015-10-23T00:00:00Z",
                  "originator_iso": "BRB",
                  "origin_lat": "13.1667",
                  "number": 1,
                  "filer_org_name": "The Bank of New York Mellon Corp.",
                  "originator_bank_country": "Barbados",
                  "beneficiary_bank": "PPF Banka A.S.",
                  "beneficiary_bank_country": "Czech Republic",
                  "filer_org_name_id": "the-bank-of-new-york-mellon-corp",
                  "end": "2015-10-23T00:00:00.000000",
                  "origin_lng": "-59.5333",
                  "originator_bank_id": "j-and-t-bank-and-trust",
                  "id": "234295",
                  "begin": "2015-10-23T00:00:00.000000",
                  "sar_id": "4293",
                  "label": "Filing"
                },
                "color": "#4CAF50",
                "styles": {},
                "label": "Filing",
                "scale_factor": 1,
                "type": "#4CAF50",
                "size": [
                  58.026601979519434,
                  58.026601979519434
                ],
                "position": [
                  0,
                  0
                ]
              },
              {
                "id": 2648,
                "properties": {
                  "end_date": "Oct 15, 2015",
                  "amount": 3500000,
                  "beneficiary_iso": "CHN",
                  "beneficiary_lng": "105",
                  "begin_date": "Oct 7, 2015",
                  "originator_bank": "Taishin International Bank",
                  "beneficiary_lat": "35",
                  "begin_date_format": "2015-10-07T00:00:00Z",
                  "end_date_format": "2015-10-15T00:00:00Z",
                  "originator_iso": "TWN",
                  "beneficiary_bank_id": "foshan-shunde-rural-commercial-bk-co-ltd-shunde-china-chn",
                  "origin_lat": "23.5",
                  "number": 3,
                  "filer_org_name": "The Bank of New York Mellon Corp.",
                  "originator_bank_country": "Taiwan",
                  "beneficiary_bank": "Foshan Shunde Rural Commercial Bk Co Ltd",
                  "beneficiary_bank_country": "China",
                  "filer_org_name_id": "the-bank-of-new-york-mellon-corp",
                  "end": "2015-10-15T00:00:00.000000",
                  "origin_lng": "121",
                  "originator_bank_id": "taishin-international-bank",
                  "id": "234296",
                  "begin": "2015-10-07T00:00:00.000000",
                  "sar_id": "4293",
                  "label": "Filing"
                },
                "color": "#4CAF50",
                "styles": {},
                "label": "Filing",
                "scale_factor": 1,
                "type": "#4CAF50",
                "size": [
                  58.11831941230203,
                  58.11831941230203
                ],
                "position": [
                  0,
                  0
                ]
              },
              {
                "id": 2649,
                "properties": {
                  "end_date": "Oct 29, 2015",
                  "amount": 3561111.36,
                  "beneficiary_iso": "CHN",
                  "beneficiary_lng": "105",
                  "begin_date": "Oct 13, 2015",
                  "originator_bank": "CTBC Bank Co Ltd",
                  "beneficiary_lat": "35",
                  "begin_date_format": "2015-10-13T00:00:00Z",
                  "beneficiary_bank_id": "china-construction-bank-corporation-guangdong-china-chn",
                  "end_date_format": "2015-10-29T00:00:00Z",
                  "originator_iso": "HKG",
                  "origin_lat": "22.25",
                  "number": 3,
                  "filer_org_name": "The Bank of New York Mellon Corp.",
                  "originator_bank_country": "Hong Kong",
                  "beneficiary_bank": "China Construction Bank Corporation",
                  "filer_org_name_id": "the-bank-of-new-york-mellon-corp",
                  "beneficiary_bank_country": "China",
                  "end": "2015-10-29T00:00:00.000000",
                  "origin_lng": "114.1667",
                  "originator_bank_id": "ctbc-bank-co-ltd",
                  "id": "234297",
                  "begin": "2015-10-13T00:00:00.000000",
                  "sar_id": "4293",
                  "label": "Filing"
                },
                "color": "#4CAF50",
                "styles": {},
                "label": "Filing",
                "scale_factor": 1,
                "type": "#4CAF50",
                "size": [
                  58.17273535193591,
                  58.17273535193591
                ],
                "position": [
                  0,
                  0
                ]
              },
              {
                "id": 2650,
                "properties": {
                  "end_date": "Oct 29, 2015",
                  "amount": 2993552.18,
                  "beneficiary_iso": "CHN",
                  "beneficiary_lng": "105",
                  "begin_date": "Oct 27, 2015",
                  "originator_bank": "SCSB Savings Department Branch",
                  "beneficiary_lat": "35",
                  "begin_date_format": "2015-10-27T00:00:00Z",
                  "beneficiary_bank_id": "ping-an-bank-co-ltd-east-shenzhen-china-chn",
                  "originator_iso": "TWN",
                  "end_date_format": "2015-10-29T00:00:00Z",
                  "origin_lat": "23.5",
                  "number": 3,
                  "filer_org_name": "The Bank of New York Mellon Corp.",
                  "originator_bank_country": "Taiwan",
                  "beneficiary_bank": "Ping An Bank Co Ltd",
                  "filer_org_name_id": "the-bank-of-new-york-mellon-corp",
                  "beneficiary_bank_country": "China",
                  "end": "2015-10-29T00:00:00.000000",
                  "origin_lng": "121",
                  "originator_bank_id": "scsb-savings-department-branch",
                  "id": "234298",
                  "begin": "2015-10-27T00:00:00.000000",
                  "sar_id": "4293",
                  "label": "Filing"
                },
                "color": "#4CAF50",
                "styles": {},
                "label": "Filing",
                "scale_factor": 1,
                "type": "#4CAF50",
                "size": [
                  57.66625973758406,
                  57.66625973758406
                ],
                "position": [
                  0,
                  0
                ]
              },
              {
                "id": 2651,
                "properties": {
                  "end_date": "Oct 9, 2015",
                  "amount": 5870272.71,
                  "beneficiary_lng": "103.8",
                  "beneficiary_iso": "SGP",
                  "begin_date": "Oct 5, 2015",
                  "originator_bank": "HSBC Singapore General Account",
                  "beneficiary_lat": "1.3667",
                  "begin_date_format": "2015-10-05T00:00:00Z",
                  "beneficiary_bank_id": "dbs-bank-ltd-singapore-sgp",
                  "end_date_format": "2015-10-09T00:00:00Z",
                  "originator_iso": "SGP",
                  "origin_lat": "1.3667",
                  "number": 3,
                  "filer_org_name": "The Bank of New York Mellon Corp.",
                  "originator_bank_country": "Singapore",
                  "beneficiary_bank_country": "Singapore",
                  "filer_org_name_id": "the-bank-of-new-york-mellon-corp",
                  "beneficiary_bank": "DBS Bank Ltd",
                  "end": "2015-10-09T00:00:00.000000",
                  "origin_lng": "103.8",
                  "originator_bank_id": "hsbc-singapore-general-account",
                  "id": "234300",
                  "begin": "2015-10-05T00:00:00.000000",
                  "sar_id": "4293",
                  "label": "Filing"
                },
                "color": "#4CAF50",
                "styles": {},
                "label": "Filing",
                "scale_factor": 1,
                "type": "#4CAF50",
                "size": [
                  60.207980168134014,
                  60.207980168134014
                ],
                "position": [
                  0,
                  0
                ]
              },
              {
                "id": 2652,
                "properties": {
                  "end_date": "Oct 23, 2015",
                  "amount": 4967922.12,
                  "beneficiary_iso": "NOR",
                  "beneficiary_lng": "10",
                  "begin_date": "Oct 23, 2015",
                  "originator_bank": "Bank of Communications",
                  "beneficiary_lat": "62",
                  "begin_date_format": "2015-10-23T00:00:00Z",
                  "beneficiary_bank_id": "skandinaviska-enskilda-banken-oslo-norway-nor",
                  "end_date_format": "2015-10-23T00:00:00Z",
                  "originator_iso": "HKG",
                  "origin_lat": "22.25",
                  "number": 2,
                  "filer_org_name": "The Bank of New York Mellon Corp.",
                  "originator_bank_country": "Hong Kong",
                  "beneficiary_bank": "Skandinaviska Enskilda Banken",
                  "filer_org_name_id": "the-bank-of-new-york-mellon-corp",
                  "beneficiary_bank_country": "Norway",
                  "end": "2015-10-23T00:00:00.000000",
                  "origin_lng": "114.1667",
                  "originator_bank_id": "bank-of-communications",
                  "id": "234301",
                  "begin": "2015-10-23T00:00:00.000000",
                  "sar_id": "4293",
                  "label": "Filing"
                },
                "color": "#4CAF50",
                "styles": {},
                "label": "Filing",
                "scale_factor": 1,
                "type": "#4CAF50",
                "size": [
                  59.41752048093741,
                  59.41752048093741
                ],
                "position": [
                  0,
                  0
                ]
              },
              {
                "id": 2653,
                "properties": {
                  "end_date": "Oct 30, 2015",
                  "amount": 15457176.81,
                  "beneficiary_iso": "IDN",
                  "beneficiary_lng": "120",
                  "begin_date": "Oct 9, 2015",
                  "originator_bank": "Icici Bank Limited",
                  "beneficiary_lat": "-5",
                  "begin_date_format": "2015-10-09T00:00:00Z",
                  "end_date_format": "2015-10-30T00:00:00Z",
                  "beneficiary_bank_id": "bank-of-india-indonesia-jakarta-indonesia-idn",
                  "originator_iso": "SGP",
                  "origin_lat": "1.3667",
                  "number": 4,
                  "filer_org_name": "The Bank of New York Mellon Corp.",
                  "originator_bank_country": "Singapore",
                  "beneficiary_bank_country": "Indonesia",
                  "beneficiary_bank": "Bank of India Indonesia",
                  "filer_org_name_id": "the-bank-of-new-york-mellon-corp",
                  "end": "2015-10-30T00:00:00.000000",
                  "origin_lng": "103.8",
                  "originator_bank_id": "icici-bank-limited",
                  "id": "234302",
                  "begin": "2015-10-09T00:00:00.000000",
                  "sar_id": "4293",
                  "label": "Filing"
                },
                "color": "#4CAF50",
                "styles": {},
                "label": "Filing",
                "scale_factor": 1,
                "type": "#4CAF50",
                "size": [
                  68.2217126088588,
                  68.2217126088588
                ],
                "position": [
                  0,
                  0
                ]
              },
              {
                "id": 5057,
                "properties": {
                  "name": "Société Générale SA",
                  "location": {
                    "x": -73.987862,
                    "y": 40.777571,
                    "z": 0
                  },
                  "id": "societe-generale-sa",
                  "label": "Entity"
                },
                "color": "#2196F3",
                "styles": {},
                "label": "Société Générale SA",
                "scale_factor": 1,
                "type": "#2196F3",
                "size": [
                  55,
                  55
                ],
                "position": [
                  0,
                  0
                ]
              },
              {
                "id": 2263,
                "properties": {
                  "end_date": "Jul 11, 2012",
                  "amount": 37733084,
                  "beneficiary_iso": "CYP",
                  "beneficiary_lng": "33",
                  "begin_date": "Jul 11, 2012",
                  "originator_bank": "SG Private Banking",
                  "beneficiary_lat": "35",
                  "begin_date_format": "2012-07-11T00:00:00Z",
                  "end_date_format": "2012-07-11T00:00:00Z",
                  "beneficiary_bank_id": "societe-generale-bank-cyprus-ltd-sg-cyprus-cyp",
                  "originator_iso": "CHE",
                  "origin_lat": "47",
                  "number": 1,
                  "filer_org_name": "Société Générale SA",
                  "originator_bank_country": "Switzerland",
                  "beneficiary_bank_country": "Cyprus",
                  "beneficiary_bank": "Societe Generale Bank Cyprus Ltd",
                  "filer_org_name_id": "societe-generale-sa",
                  "end": "2012-07-11T00:00:00.000000",
                  "origin_lng": "8",
                  "originator_bank_id": "sg-private-banking",
                  "id": "231963",
                  "begin": "2012-07-11T00:00:00.000000",
                  "sar_id": "2782",
                  "label": "Filing"
                },
                "color": "#4CAF50",
                "styles": {},
                "label": "Filing",
                "scale_factor": 1,
                "type": "#4CAF50",
                "size": [
                  84.12903558028239,
                  84.12903558028239
                ],
                "position": [
                  0,
                  0
                ]
              },
              {
                "id": 5069,
                "properties": {
                  "country": "CYP",
                  "name": "Societe Generale Bank Cyprus Ltd",
                  "location": {
                    "x": 33,
                    "y": 35,
                    "z": 0
                  },
                  "id": "societe-generale-bank-cyprus-ltd-sg-cyprus-cyp",
                  "label": "Entity"
                },
                "color": "#2196F3",
                "styles": {},
                "label": "Societe Generale Bank Cyprus Ltd",
                "scale_factor": 1,
                "type": "#2196F3",
                "size": [
                  55,
                  55
                ],
                "position": [
                  0,
                  0
                ],
                "parentId": 350
              },
              {
                "id": 350,
                "properties": {
                  "code": "CYP",
                  "name": "Cyprus",
                  "location": {
                    "x": 33,
                    "y": 35,
                    "z": 0
                  },
                  "tld": "CY",
                  "label": "Country"
                },
                "color": "#F44336",
                "styles": {},
                "label": "Cyprus",
                "scale_factor": 1,
                "type": "#F44336",
                "size": [
                  55,
                  55
                ],
                "position": [
                  0,
                  0
                ],
                "coordinates": [
                  35,
                  33
                ]
              },
              {
                "id": 549,
                "properties": {
                  "end_date": "Sep 25, 2015",
                  "amount": 56898523.47,
                  "beneficiary_iso": "GBR",
                  "beneficiary_lng": "-2",
                  "begin_date": "Mar 25, 2015",
                  "originator_bank": "CIMB Bank Berhad",
                  "beneficiary_lat": "54",
                  "begin_date_format": "2015-03-25T00:00:00Z",
                  "beneficiary_bank_id": "barclays-bank-plc-london-england-gbr",
                  "end_date_format": "2015-09-25T00:00:00Z",
                  "originator_iso": "SGP",
                  "origin_lat": "1.3667",
                  "number": 68,
                  "filer_org_name": "The Bank of New York Mellon Corp.",
                  "originator_bank_country": "Singapore",
                  "beneficiary_bank_country": "United Kingdom",
                  "beneficiary_bank": "Barclays Bank Plc",
                  "filer_org_name_id": "the-bank-of-new-york-mellon-corp",
                  "end": "2015-09-25T00:00:00.000000",
                  "origin_lng": "103.8",
                  "originator_bank_id": "cimb-bank-berhad",
                  "id": "223254",
                  "begin": "2015-03-25T00:00:00.000000",
                  "sar_id": "3297",
                  "label": "Filing"
                },
                "color": "#4CAF50",
                "styles": {},
                "label": "Filing",
                "scale_factor": 1,
                "type": "#4CAF50",
                "size": [
                  94.77906862230266,
                  94.77906862230266
                ],
                "position": [
                  0,
                  0
                ]
              },
              {
                "id": 5070,
                "properties": {
                  "country": "NZL",
                  "name": "Asb Bank Limited",
                  "location": {
                    "x": 174,
                    "y": -41,
                    "z": 0
                  },
                  "id": "asb-bank-limited-auckland-new-zealand-nzl",
                  "label": "Entity"
                },
                "color": "#2196F3",
                "styles": {},
                "label": "Asb Bank Limited",
                "scale_factor": 1,
                "type": "#2196F3",
                "size": [
                  55,
                  55
                ],
                "position": [
                  0,
                  0
                ],
                "parentId": 454
              },
              {
                "id": 454,
                "properties": {
                  "code": "NZL",
                  "name": "New Zealand",
                  "location": {
                    "x": 174,
                    "y": -41,
                    "z": 0
                  },
                  "tld": "NZ",
                  "label": "Country"
                },
                "color": "#F44336",
                "styles": {},
                "label": "New Zealand",
                "scale_factor": 1,
                "type": "#F44336",
                "size": [
                  55,
                  55
                ],
                "position": [
                  0,
                  0
                ],
                "coordinates": [
                  -41,
                  174
                ]
              }
            ],
            "_overview": {
              "enabled": null,
              "overview_set": false
            },
            "_selected_graph": [
              [],
              []
            ],
            "_sidebar": {
              "enabled": false,
              "start_with": null
            },
            "_view_count": null,
            "_view_module": "yfiles-jupyter-graphs",
            "_view_module_version": "^1.9.0",
            "_view_name": "GraphView",
            "layout": "IPY_MODEL_c1b68016d2db4fb38759ab49ceb27f46",
            "tabbable": null,
            "tooltip": null
          }
        },
        "c1b68016d2db4fb38759ab49ceb27f46": {
          "model_module": "@jupyter-widgets/base",
          "model_name": "LayoutModel",
          "model_module_version": "2.0.0",
          "state": {
            "_model_module": "@jupyter-widgets/base",
            "_model_module_version": "2.0.0",
            "_model_name": "LayoutModel",
            "_view_count": null,
            "_view_module": "@jupyter-widgets/base",
            "_view_module_version": "2.0.0",
            "_view_name": "LayoutView",
            "align_content": null,
            "align_items": null,
            "align_self": null,
            "border_bottom": null,
            "border_left": null,
            "border_right": null,
            "border_top": null,
            "bottom": null,
            "display": null,
            "flex": null,
            "flex_flow": null,
            "grid_area": null,
            "grid_auto_columns": null,
            "grid_auto_flow": null,
            "grid_auto_rows": null,
            "grid_column": null,
            "grid_gap": null,
            "grid_row": null,
            "grid_template_areas": null,
            "grid_template_columns": null,
            "grid_template_rows": null,
            "height": "690px",
            "justify_content": null,
            "justify_items": null,
            "left": null,
            "margin": null,
            "max_height": null,
            "max_width": null,
            "min_height": null,
            "min_width": null,
            "object_fit": null,
            "object_position": null,
            "order": null,
            "overflow": null,
            "padding": null,
            "right": null,
            "top": null,
            "visibility": null,
            "width": "100%"
          }
        },
        "3ffc36d649b240e584a28d5054ea80d6": {
          "model_module": "yfiles-jupyter-graphs",
          "model_name": "GraphModel",
          "model_module_version": "^1.9.0",
          "state": {
            "_context_pane_mapping": [
              {
                "id": "Neighborhood",
                "title": "Neighborhood"
              },
              {
                "id": "Data",
                "title": "Data"
              },
              {
                "id": "Search",
                "title": "Search"
              },
              {
                "id": "About",
                "title": "About"
              }
            ],
            "_data_importer": "neo4j",
            "_directed": true,
            "_dom_classes": [],
            "_edges": [
              {
                "id": 0,
                "start": 5056,
                "end": 2645,
                "properties": {
                  "label": "FILED"
                },
                "label": "FILED",
                "color": "#607D8B",
                "thickness_factor": 2,
                "directed": true
              },
              {
                "id": 1,
                "start": 2645,
                "end": 5068,
                "properties": {
                  "label": "CONCERNS"
                },
                "label": "CONCERNS",
                "color": "#673AB7",
                "thickness_factor": 0.5,
                "directed": true
              },
              {
                "id": 2,
                "start": 5068,
                "end": 338,
                "properties": {
                  "label": "COUNTRY"
                },
                "label": "COUNTRY",
                "color": "#CDDC39",
                "thickness_factor": 1,
                "directed": true
              },
              {
                "id": 3,
                "start": 5056,
                "end": 2646,
                "properties": {
                  "label": "FILED"
                },
                "label": "FILED",
                "color": "#607D8B",
                "thickness_factor": 2,
                "directed": true
              },
              {
                "id": 4,
                "start": 2646,
                "end": 5068,
                "properties": {
                  "label": "CONCERNS"
                },
                "label": "CONCERNS",
                "color": "#673AB7",
                "thickness_factor": 0.5,
                "directed": true
              },
              {
                "id": 5,
                "start": 5056,
                "end": 2647,
                "properties": {
                  "label": "FILED"
                },
                "label": "FILED",
                "color": "#607D8B",
                "thickness_factor": 2,
                "directed": true
              },
              {
                "id": 6,
                "start": 2647,
                "end": 5068,
                "properties": {
                  "label": "CONCERNS"
                },
                "label": "CONCERNS",
                "color": "#673AB7",
                "thickness_factor": 0.5,
                "directed": true
              },
              {
                "id": 7,
                "start": 5056,
                "end": 2648,
                "properties": {
                  "label": "FILED"
                },
                "label": "FILED",
                "color": "#607D8B",
                "thickness_factor": 2,
                "directed": true
              },
              {
                "id": 8,
                "start": 2648,
                "end": 5068,
                "properties": {
                  "label": "CONCERNS"
                },
                "label": "CONCERNS",
                "color": "#673AB7",
                "thickness_factor": 0.5,
                "directed": true
              },
              {
                "id": 9,
                "start": 5056,
                "end": 2649,
                "properties": {
                  "label": "FILED"
                },
                "label": "FILED",
                "color": "#607D8B",
                "thickness_factor": 2,
                "directed": true
              },
              {
                "id": 10,
                "start": 2649,
                "end": 5068,
                "properties": {
                  "label": "CONCERNS"
                },
                "label": "CONCERNS",
                "color": "#673AB7",
                "thickness_factor": 0.5,
                "directed": true
              },
              {
                "id": 11,
                "start": 5056,
                "end": 2650,
                "properties": {
                  "label": "FILED"
                },
                "label": "FILED",
                "color": "#607D8B",
                "thickness_factor": 2,
                "directed": true
              },
              {
                "id": 12,
                "start": 2650,
                "end": 5068,
                "properties": {
                  "label": "CONCERNS"
                },
                "label": "CONCERNS",
                "color": "#673AB7",
                "thickness_factor": 0.5,
                "directed": true
              },
              {
                "id": 13,
                "start": 5056,
                "end": 2651,
                "properties": {
                  "label": "FILED"
                },
                "label": "FILED",
                "color": "#607D8B",
                "thickness_factor": 2,
                "directed": true
              },
              {
                "id": 14,
                "start": 2651,
                "end": 5068,
                "properties": {
                  "label": "CONCERNS"
                },
                "label": "CONCERNS",
                "color": "#673AB7",
                "thickness_factor": 0.5,
                "directed": true
              },
              {
                "id": 15,
                "start": 5056,
                "end": 2652,
                "properties": {
                  "label": "FILED"
                },
                "label": "FILED",
                "color": "#607D8B",
                "thickness_factor": 2,
                "directed": true
              },
              {
                "id": 16,
                "start": 2652,
                "end": 5068,
                "properties": {
                  "label": "CONCERNS"
                },
                "label": "CONCERNS",
                "color": "#673AB7",
                "thickness_factor": 0.5,
                "directed": true
              },
              {
                "id": 17,
                "start": 5056,
                "end": 2653,
                "properties": {
                  "label": "FILED"
                },
                "label": "FILED",
                "color": "#607D8B",
                "thickness_factor": 2,
                "directed": true
              },
              {
                "id": 18,
                "start": 2653,
                "end": 5068,
                "properties": {
                  "label": "CONCERNS"
                },
                "label": "CONCERNS",
                "color": "#673AB7",
                "thickness_factor": 0.5,
                "directed": true
              },
              {
                "id": 19,
                "start": 5057,
                "end": 2263,
                "properties": {
                  "label": "FILED"
                },
                "label": "FILED",
                "color": "#607D8B",
                "thickness_factor": 2,
                "directed": true
              },
              {
                "id": 20,
                "start": 2263,
                "end": 5069,
                "properties": {
                  "label": "CONCERNS"
                },
                "label": "CONCERNS",
                "color": "#673AB7",
                "thickness_factor": 0.5,
                "directed": true
              },
              {
                "id": 21,
                "start": 5069,
                "end": 350,
                "properties": {
                  "label": "COUNTRY"
                },
                "label": "COUNTRY",
                "color": "#CDDC39",
                "thickness_factor": 1,
                "directed": true
              },
              {
                "id": 22,
                "start": 5056,
                "end": 549,
                "properties": {
                  "label": "FILED"
                },
                "label": "FILED",
                "color": "#607D8B",
                "thickness_factor": 2,
                "directed": true
              },
              {
                "id": 23,
                "start": 549,
                "end": 5070,
                "properties": {
                  "label": "CONCERNS"
                },
                "label": "CONCERNS",
                "color": "#673AB7",
                "thickness_factor": 0.5,
                "directed": true
              },
              {
                "id": 24,
                "start": 5070,
                "end": 454,
                "properties": {
                  "label": "COUNTRY"
                },
                "label": "COUNTRY",
                "color": "#CDDC39",
                "thickness_factor": 1,
                "directed": true
              }
            ],
            "_graph_layout": {
              "algorithm": "hierarchic",
              "options": {}
            },
            "_highlight": [],
            "_license": {},
            "_model_module": "yfiles-jupyter-graphs",
            "_model_module_version": "^1.9.0",
            "_model_name": "GraphModel",
            "_neighborhood": {},
            "_nodes": [
              {
                "id": 5056,
                "properties": {
                  "name": "The Bank of New York Mellon Corp.",
                  "location": {
                    "x": -73.987862,
                    "y": 40.777571,
                    "z": 0
                  },
                  "id": "the-bank-of-new-york-mellon-corp",
                  "label": "Entity"
                },
                "color": "#2196F3",
                "styles": {},
                "label": "The Bank of New York Mellon Corp.",
                "scale_factor": 1,
                "type": "#2196F3",
                "size": [
                  55,
                  55
                ],
                "position": [
                  0,
                  0
                ],
                "node_cell": [
                  0,
                  0
                ]
              },
              {
                "id": 2645,
                "properties": {
                  "end_date": "Oct 13, 2015",
                  "amount": 2741500,
                  "beneficiary_iso": "SGP",
                  "beneficiary_lng": "103.8",
                  "begin_date": "Oct 2, 2015",
                  "originator_bank": "HSBC Hong Kong",
                  "beneficiary_lat": "1.3667",
                  "begin_date_format": "2015-10-02T00:00:00Z",
                  "originator_iso": "HKG",
                  "beneficiary_bank_id": "dbs-bank-ltd-singapore-sgp",
                  "end_date_format": "2015-10-13T00:00:00Z",
                  "origin_lat": "22.25",
                  "number": 4,
                  "filer_org_name": "The Bank of New York Mellon Corp.",
                  "originator_bank_country": "Hong Kong",
                  "beneficiary_bank": "DBS Bank Ltd",
                  "beneficiary_bank_country": "Singapore",
                  "filer_org_name_id": "the-bank-of-new-york-mellon-corp",
                  "end": "2015-10-13T00:00:00.000000",
                  "origin_lng": "114.1667",
                  "originator_bank_id": "hsbc-hong-kong",
                  "id": "234293",
                  "begin": "2015-10-02T00:00:00.000000",
                  "sar_id": "4293",
                  "label": "Filing"
                },
                "color": "#4CAF50",
                "styles": {},
                "label": "Filing",
                "scale_factor": 1,
                "type": "#4CAF50",
                "size": [
                  57.440544980184015,
                  57.440544980184015
                ],
                "position": [
                  0,
                  0
                ],
                "node_cell": [
                  1,
                  0
                ]
              },
              {
                "id": 5068,
                "properties": {
                  "country": "CHN",
                  "name": "China Construction Bank Corporation",
                  "location": {
                    "x": 105,
                    "y": 35,
                    "z": 0
                  },
                  "id": "china-construction-bank-corporation-beijing-china-chn",
                  "label": "Entity"
                },
                "color": "#2196F3",
                "styles": {},
                "label": "China Construction Bank Corporation",
                "scale_factor": 1,
                "type": "#2196F3",
                "size": [
                  55,
                  55
                ],
                "position": [
                  0,
                  0
                ],
                "node_cell": [
                  0,
                  0
                ]
              },
              {
                "id": 338,
                "properties": {
                  "code": "CHN",
                  "name": "China",
                  "location": {
                    "x": 105,
                    "y": 35,
                    "z": 0
                  },
                  "tld": "CN",
                  "label": "Country"
                },
                "color": "#F44336",
                "styles": {},
                "label": "China",
                "scale_factor": 1,
                "type": "#F44336",
                "size": [
                  55,
                  55
                ],
                "position": [
                  0,
                  0
                ],
                "node_cell": [
                  1,
                  0
                ],
                "coordinates": [
                  35,
                  105
                ]
              },
              {
                "id": 2646,
                "properties": {
                  "end_date": "Oct 27, 2015",
                  "amount": 3240000,
                  "beneficiary_iso": "SGP",
                  "beneficiary_lng": "103.8",
                  "begin_date": "Oct 27, 2015",
                  "originator_bank": "Bank of Taiwan",
                  "beneficiary_lat": "1.3667",
                  "begin_date_format": "2015-10-27T00:00:00Z",
                  "beneficiary_bank_id": "dbs-bank-ltd-singapore-sgp",
                  "end_date_format": "2015-10-27T00:00:00Z",
                  "originator_iso": "TWN",
                  "origin_lat": "23.5",
                  "number": 1,
                  "filer_org_name": "The Bank of New York Mellon Corp.",
                  "originator_bank_country": "Taiwan",
                  "beneficiary_bank_country": "Singapore",
                  "filer_org_name_id": "the-bank-of-new-york-mellon-corp",
                  "beneficiary_bank": "DBS Bank Ltd",
                  "end": "2015-10-27T00:00:00.000000",
                  "origin_lng": "121",
                  "originator_bank_id": "bank-of-taiwan",
                  "id": "234294",
                  "begin": "2015-10-27T00:00:00.000000",
                  "sar_id": "4293",
                  "label": "Filing"
                },
                "color": "#4CAF50",
                "styles": {},
                "label": "Filing",
                "scale_factor": 1,
                "type": "#4CAF50",
                "size": [
                  57.886486119251096,
                  57.886486119251096
                ],
                "position": [
                  0,
                  0
                ],
                "node_cell": [
                  1,
                  0
                ]
              },
              {
                "id": 2647,
                "properties": {
                  "end_date": "Oct 23, 2015",
                  "amount": 3397070,
                  "beneficiary_iso": "CZE",
                  "beneficiary_lng": "15.5",
                  "begin_date": "Oct 23, 2015",
                  "originator_bank": "J And T Bank And Trust",
                  "beneficiary_lat": "49.75",
                  "begin_date_format": "2015-10-23T00:00:00Z",
                  "beneficiary_bank_id": "ppf-banka-as-prague-czech-republic-cze",
                  "end_date_format": "2015-10-23T00:00:00Z",
                  "originator_iso": "BRB",
                  "origin_lat": "13.1667",
                  "number": 1,
                  "filer_org_name": "The Bank of New York Mellon Corp.",
                  "originator_bank_country": "Barbados",
                  "beneficiary_bank": "PPF Banka A.S.",
                  "beneficiary_bank_country": "Czech Republic",
                  "filer_org_name_id": "the-bank-of-new-york-mellon-corp",
                  "end": "2015-10-23T00:00:00.000000",
                  "origin_lng": "-59.5333",
                  "originator_bank_id": "j-and-t-bank-and-trust",
                  "id": "234295",
                  "begin": "2015-10-23T00:00:00.000000",
                  "sar_id": "4293",
                  "label": "Filing"
                },
                "color": "#4CAF50",
                "styles": {},
                "label": "Filing",
                "scale_factor": 1,
                "type": "#4CAF50",
                "size": [
                  58.026601979519434,
                  58.026601979519434
                ],
                "position": [
                  0,
                  0
                ],
                "node_cell": [
                  1,
                  0
                ]
              },
              {
                "id": 2648,
                "properties": {
                  "end_date": "Oct 15, 2015",
                  "amount": 3500000,
                  "beneficiary_iso": "CHN",
                  "beneficiary_lng": "105",
                  "begin_date": "Oct 7, 2015",
                  "originator_bank": "Taishin International Bank",
                  "beneficiary_lat": "35",
                  "begin_date_format": "2015-10-07T00:00:00Z",
                  "end_date_format": "2015-10-15T00:00:00Z",
                  "originator_iso": "TWN",
                  "beneficiary_bank_id": "foshan-shunde-rural-commercial-bk-co-ltd-shunde-china-chn",
                  "origin_lat": "23.5",
                  "number": 3,
                  "filer_org_name": "The Bank of New York Mellon Corp.",
                  "originator_bank_country": "Taiwan",
                  "beneficiary_bank": "Foshan Shunde Rural Commercial Bk Co Ltd",
                  "beneficiary_bank_country": "China",
                  "filer_org_name_id": "the-bank-of-new-york-mellon-corp",
                  "end": "2015-10-15T00:00:00.000000",
                  "origin_lng": "121",
                  "originator_bank_id": "taishin-international-bank",
                  "id": "234296",
                  "begin": "2015-10-07T00:00:00.000000",
                  "sar_id": "4293",
                  "label": "Filing"
                },
                "color": "#4CAF50",
                "styles": {},
                "label": "Filing",
                "scale_factor": 1,
                "type": "#4CAF50",
                "size": [
                  58.11831941230203,
                  58.11831941230203
                ],
                "position": [
                  0,
                  0
                ],
                "node_cell": [
                  1,
                  0
                ]
              },
              {
                "id": 2649,
                "properties": {
                  "end_date": "Oct 29, 2015",
                  "amount": 3561111.36,
                  "beneficiary_iso": "CHN",
                  "beneficiary_lng": "105",
                  "begin_date": "Oct 13, 2015",
                  "originator_bank": "CTBC Bank Co Ltd",
                  "beneficiary_lat": "35",
                  "begin_date_format": "2015-10-13T00:00:00Z",
                  "beneficiary_bank_id": "china-construction-bank-corporation-guangdong-china-chn",
                  "end_date_format": "2015-10-29T00:00:00Z",
                  "originator_iso": "HKG",
                  "origin_lat": "22.25",
                  "number": 3,
                  "filer_org_name": "The Bank of New York Mellon Corp.",
                  "originator_bank_country": "Hong Kong",
                  "beneficiary_bank": "China Construction Bank Corporation",
                  "filer_org_name_id": "the-bank-of-new-york-mellon-corp",
                  "beneficiary_bank_country": "China",
                  "end": "2015-10-29T00:00:00.000000",
                  "origin_lng": "114.1667",
                  "originator_bank_id": "ctbc-bank-co-ltd",
                  "id": "234297",
                  "begin": "2015-10-13T00:00:00.000000",
                  "sar_id": "4293",
                  "label": "Filing"
                },
                "color": "#4CAF50",
                "styles": {},
                "label": "Filing",
                "scale_factor": 1,
                "type": "#4CAF50",
                "size": [
                  58.17273535193591,
                  58.17273535193591
                ],
                "position": [
                  0,
                  0
                ],
                "node_cell": [
                  1,
                  0
                ]
              },
              {
                "id": 2650,
                "properties": {
                  "end_date": "Oct 29, 2015",
                  "amount": 2993552.18,
                  "beneficiary_iso": "CHN",
                  "beneficiary_lng": "105",
                  "begin_date": "Oct 27, 2015",
                  "originator_bank": "SCSB Savings Department Branch",
                  "beneficiary_lat": "35",
                  "begin_date_format": "2015-10-27T00:00:00Z",
                  "beneficiary_bank_id": "ping-an-bank-co-ltd-east-shenzhen-china-chn",
                  "originator_iso": "TWN",
                  "end_date_format": "2015-10-29T00:00:00Z",
                  "origin_lat": "23.5",
                  "number": 3,
                  "filer_org_name": "The Bank of New York Mellon Corp.",
                  "originator_bank_country": "Taiwan",
                  "beneficiary_bank": "Ping An Bank Co Ltd",
                  "filer_org_name_id": "the-bank-of-new-york-mellon-corp",
                  "beneficiary_bank_country": "China",
                  "end": "2015-10-29T00:00:00.000000",
                  "origin_lng": "121",
                  "originator_bank_id": "scsb-savings-department-branch",
                  "id": "234298",
                  "begin": "2015-10-27T00:00:00.000000",
                  "sar_id": "4293",
                  "label": "Filing"
                },
                "color": "#4CAF50",
                "styles": {},
                "label": "Filing",
                "scale_factor": 1,
                "type": "#4CAF50",
                "size": [
                  57.66625973758406,
                  57.66625973758406
                ],
                "position": [
                  0,
                  0
                ],
                "node_cell": [
                  1,
                  0
                ]
              },
              {
                "id": 2651,
                "properties": {
                  "end_date": "Oct 9, 2015",
                  "amount": 5870272.71,
                  "beneficiary_lng": "103.8",
                  "beneficiary_iso": "SGP",
                  "begin_date": "Oct 5, 2015",
                  "originator_bank": "HSBC Singapore General Account",
                  "beneficiary_lat": "1.3667",
                  "begin_date_format": "2015-10-05T00:00:00Z",
                  "beneficiary_bank_id": "dbs-bank-ltd-singapore-sgp",
                  "end_date_format": "2015-10-09T00:00:00Z",
                  "originator_iso": "SGP",
                  "origin_lat": "1.3667",
                  "number": 3,
                  "filer_org_name": "The Bank of New York Mellon Corp.",
                  "originator_bank_country": "Singapore",
                  "beneficiary_bank_country": "Singapore",
                  "filer_org_name_id": "the-bank-of-new-york-mellon-corp",
                  "beneficiary_bank": "DBS Bank Ltd",
                  "end": "2015-10-09T00:00:00.000000",
                  "origin_lng": "103.8",
                  "originator_bank_id": "hsbc-singapore-general-account",
                  "id": "234300",
                  "begin": "2015-10-05T00:00:00.000000",
                  "sar_id": "4293",
                  "label": "Filing"
                },
                "color": "#4CAF50",
                "styles": {},
                "label": "Filing",
                "scale_factor": 1,
                "type": "#4CAF50",
                "size": [
                  60.207980168134014,
                  60.207980168134014
                ],
                "position": [
                  0,
                  0
                ],
                "node_cell": [
                  1,
                  0
                ]
              },
              {
                "id": 2652,
                "properties": {
                  "end_date": "Oct 23, 2015",
                  "amount": 4967922.12,
                  "beneficiary_iso": "NOR",
                  "beneficiary_lng": "10",
                  "begin_date": "Oct 23, 2015",
                  "originator_bank": "Bank of Communications",
                  "beneficiary_lat": "62",
                  "begin_date_format": "2015-10-23T00:00:00Z",
                  "beneficiary_bank_id": "skandinaviska-enskilda-banken-oslo-norway-nor",
                  "end_date_format": "2015-10-23T00:00:00Z",
                  "originator_iso": "HKG",
                  "origin_lat": "22.25",
                  "number": 2,
                  "filer_org_name": "The Bank of New York Mellon Corp.",
                  "originator_bank_country": "Hong Kong",
                  "beneficiary_bank": "Skandinaviska Enskilda Banken",
                  "filer_org_name_id": "the-bank-of-new-york-mellon-corp",
                  "beneficiary_bank_country": "Norway",
                  "end": "2015-10-23T00:00:00.000000",
                  "origin_lng": "114.1667",
                  "originator_bank_id": "bank-of-communications",
                  "id": "234301",
                  "begin": "2015-10-23T00:00:00.000000",
                  "sar_id": "4293",
                  "label": "Filing"
                },
                "color": "#4CAF50",
                "styles": {},
                "label": "Filing",
                "scale_factor": 1,
                "type": "#4CAF50",
                "size": [
                  59.41752048093741,
                  59.41752048093741
                ],
                "position": [
                  0,
                  0
                ],
                "node_cell": [
                  1,
                  0
                ]
              },
              {
                "id": 2653,
                "properties": {
                  "end_date": "Oct 30, 2015",
                  "amount": 15457176.81,
                  "beneficiary_iso": "IDN",
                  "beneficiary_lng": "120",
                  "begin_date": "Oct 9, 2015",
                  "originator_bank": "Icici Bank Limited",
                  "beneficiary_lat": "-5",
                  "begin_date_format": "2015-10-09T00:00:00Z",
                  "end_date_format": "2015-10-30T00:00:00Z",
                  "beneficiary_bank_id": "bank-of-india-indonesia-jakarta-indonesia-idn",
                  "originator_iso": "SGP",
                  "origin_lat": "1.3667",
                  "number": 4,
                  "filer_org_name": "The Bank of New York Mellon Corp.",
                  "originator_bank_country": "Singapore",
                  "beneficiary_bank_country": "Indonesia",
                  "beneficiary_bank": "Bank of India Indonesia",
                  "filer_org_name_id": "the-bank-of-new-york-mellon-corp",
                  "end": "2015-10-30T00:00:00.000000",
                  "origin_lng": "103.8",
                  "originator_bank_id": "icici-bank-limited",
                  "id": "234302",
                  "begin": "2015-10-09T00:00:00.000000",
                  "sar_id": "4293",
                  "label": "Filing"
                },
                "color": "#4CAF50",
                "styles": {},
                "label": "Filing",
                "scale_factor": 1,
                "type": "#4CAF50",
                "size": [
                  68.2217126088588,
                  68.2217126088588
                ],
                "position": [
                  0,
                  0
                ],
                "node_cell": [
                  1,
                  0
                ]
              },
              {
                "id": 5057,
                "properties": {
                  "name": "Société Générale SA",
                  "location": {
                    "x": -73.987862,
                    "y": 40.777571,
                    "z": 0
                  },
                  "id": "societe-generale-sa",
                  "label": "Entity"
                },
                "color": "#2196F3",
                "styles": {},
                "label": "Société Générale SA",
                "scale_factor": 1,
                "type": "#2196F3",
                "size": [
                  55,
                  55
                ],
                "position": [
                  0,
                  0
                ],
                "node_cell": [
                  1,
                  0
                ]
              },
              {
                "id": 2263,
                "properties": {
                  "end_date": "Jul 11, 2012",
                  "amount": 37733084,
                  "beneficiary_iso": "CYP",
                  "beneficiary_lng": "33",
                  "begin_date": "Jul 11, 2012",
                  "originator_bank": "SG Private Banking",
                  "beneficiary_lat": "35",
                  "begin_date_format": "2012-07-11T00:00:00Z",
                  "end_date_format": "2012-07-11T00:00:00Z",
                  "beneficiary_bank_id": "societe-generale-bank-cyprus-ltd-sg-cyprus-cyp",
                  "originator_iso": "CHE",
                  "origin_lat": "47",
                  "number": 1,
                  "filer_org_name": "Société Générale SA",
                  "originator_bank_country": "Switzerland",
                  "beneficiary_bank_country": "Cyprus",
                  "beneficiary_bank": "Societe Generale Bank Cyprus Ltd",
                  "filer_org_name_id": "societe-generale-sa",
                  "end": "2012-07-11T00:00:00.000000",
                  "origin_lng": "8",
                  "originator_bank_id": "sg-private-banking",
                  "id": "231963",
                  "begin": "2012-07-11T00:00:00.000000",
                  "sar_id": "2782",
                  "label": "Filing"
                },
                "color": "#4CAF50",
                "styles": {},
                "label": "Filing",
                "scale_factor": 1,
                "type": "#4CAF50",
                "size": [
                  84.12903558028239,
                  84.12903558028239
                ],
                "position": [
                  0,
                  0
                ],
                "node_cell": [
                  1,
                  0
                ]
              },
              {
                "id": 5069,
                "properties": {
                  "country": "CYP",
                  "name": "Societe Generale Bank Cyprus Ltd",
                  "location": {
                    "x": 33,
                    "y": 35,
                    "z": 0
                  },
                  "id": "societe-generale-bank-cyprus-ltd-sg-cyprus-cyp",
                  "label": "Entity"
                },
                "color": "#2196F3",
                "styles": {},
                "label": "Societe Generale Bank Cyprus Ltd",
                "scale_factor": 1,
                "type": "#2196F3",
                "size": [
                  55,
                  55
                ],
                "position": [
                  0,
                  0
                ],
                "node_cell": [
                  1,
                  0
                ]
              },
              {
                "id": 350,
                "properties": {
                  "code": "CYP",
                  "name": "Cyprus",
                  "location": {
                    "x": 33,
                    "y": 35,
                    "z": 0
                  },
                  "tld": "CY",
                  "label": "Country"
                },
                "color": "#F44336",
                "styles": {},
                "label": "Cyprus",
                "scale_factor": 1,
                "type": "#F44336",
                "size": [
                  55,
                  55
                ],
                "position": [
                  0,
                  0
                ],
                "node_cell": [
                  1,
                  0
                ],
                "coordinates": [
                  35,
                  33
                ]
              },
              {
                "id": 549,
                "properties": {
                  "end_date": "Sep 25, 2015",
                  "amount": 56898523.47,
                  "beneficiary_iso": "GBR",
                  "beneficiary_lng": "-2",
                  "begin_date": "Mar 25, 2015",
                  "originator_bank": "CIMB Bank Berhad",
                  "beneficiary_lat": "54",
                  "begin_date_format": "2015-03-25T00:00:00Z",
                  "beneficiary_bank_id": "barclays-bank-plc-london-england-gbr",
                  "end_date_format": "2015-09-25T00:00:00Z",
                  "originator_iso": "SGP",
                  "origin_lat": "1.3667",
                  "number": 68,
                  "filer_org_name": "The Bank of New York Mellon Corp.",
                  "originator_bank_country": "Singapore",
                  "beneficiary_bank_country": "United Kingdom",
                  "beneficiary_bank": "Barclays Bank Plc",
                  "filer_org_name_id": "the-bank-of-new-york-mellon-corp",
                  "end": "2015-09-25T00:00:00.000000",
                  "origin_lng": "103.8",
                  "originator_bank_id": "cimb-bank-berhad",
                  "id": "223254",
                  "begin": "2015-03-25T00:00:00.000000",
                  "sar_id": "3297",
                  "label": "Filing"
                },
                "color": "#4CAF50",
                "styles": {},
                "label": "Filing",
                "scale_factor": 1,
                "type": "#4CAF50",
                "size": [
                  94.77906862230266,
                  94.77906862230266
                ],
                "position": [
                  0,
                  0
                ],
                "node_cell": [
                  1,
                  0
                ]
              },
              {
                "id": 5070,
                "properties": {
                  "country": "NZL",
                  "name": "Asb Bank Limited",
                  "location": {
                    "x": 174,
                    "y": -41,
                    "z": 0
                  },
                  "id": "asb-bank-limited-auckland-new-zealand-nzl",
                  "label": "Entity"
                },
                "color": "#2196F3",
                "styles": {},
                "label": "Asb Bank Limited",
                "scale_factor": 1,
                "type": "#2196F3",
                "size": [
                  55,
                  55
                ],
                "position": [
                  0,
                  0
                ],
                "node_cell": [
                  1,
                  0
                ]
              },
              {
                "id": 454,
                "properties": {
                  "code": "NZL",
                  "name": "New Zealand",
                  "location": {
                    "x": 174,
                    "y": -41,
                    "z": 0
                  },
                  "tld": "NZ",
                  "label": "Country"
                },
                "color": "#F44336",
                "styles": {},
                "label": "New Zealand",
                "scale_factor": 1,
                "type": "#F44336",
                "size": [
                  55,
                  55
                ],
                "position": [
                  0,
                  0
                ],
                "node_cell": [
                  1,
                  0
                ],
                "coordinates": [
                  -41,
                  174
                ]
              }
            ],
            "_overview": {
              "enabled": null,
              "overview_set": false
            },
            "_selected_graph": [
              [],
              []
            ],
            "_sidebar": {
              "enabled": false,
              "start_with": null
            },
            "_view_count": null,
            "_view_module": "yfiles-jupyter-graphs",
            "_view_module_version": "^1.9.0",
            "_view_name": "GraphView",
            "layout": "IPY_MODEL_fe0598b629a2426eab8868e17787668e",
            "tabbable": null,
            "tooltip": null
          }
        },
        "fe0598b629a2426eab8868e17787668e": {
          "model_module": "@jupyter-widgets/base",
          "model_name": "LayoutModel",
          "model_module_version": "2.0.0",
          "state": {
            "_model_module": "@jupyter-widgets/base",
            "_model_module_version": "2.0.0",
            "_model_name": "LayoutModel",
            "_view_count": null,
            "_view_module": "@jupyter-widgets/base",
            "_view_module_version": "2.0.0",
            "_view_name": "LayoutView",
            "align_content": null,
            "align_items": null,
            "align_self": null,
            "border_bottom": null,
            "border_left": null,
            "border_right": null,
            "border_top": null,
            "bottom": null,
            "display": null,
            "flex": null,
            "flex_flow": null,
            "grid_area": null,
            "grid_auto_columns": null,
            "grid_auto_flow": null,
            "grid_auto_rows": null,
            "grid_column": null,
            "grid_gap": null,
            "grid_row": null,
            "grid_template_areas": null,
            "grid_template_columns": null,
            "grid_template_rows": null,
            "height": "690px",
            "justify_content": null,
            "justify_items": null,
            "left": null,
            "margin": null,
            "max_height": null,
            "max_width": null,
            "min_height": null,
            "min_width": null,
            "object_fit": null,
            "object_position": null,
            "order": null,
            "overflow": null,
            "padding": null,
            "right": null,
            "top": null,
            "visibility": null,
            "width": "100%"
          }
        }
      }
    }
  },
  "nbformat": 4,
  "nbformat_minor": 5
}