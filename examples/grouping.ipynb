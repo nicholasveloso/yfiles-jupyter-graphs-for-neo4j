{
 "cells": [
  {
   "cell_type": "markdown",
   "id": "b838710e-f47e-4252-83b6-1ede89296740",
   "metadata": {},
   "source": [
    "# Grouping Nodes <a target=\"_blank\" href=\"https://colab.research.google.com/github/yWorks/yfiles-jupyter-graphs-for-neo4j/blob/main/examples/grouping.ipynb\"><img src=\"https://colab.research.google.com/assets/colab-badge.svg\" alt=\"Open In Colab\"/></a>\n",
    "\n",
    "This notebook showcases the `add_parent_configuration` method, which allows to configure relationships as grouping hierarchy.\n",
    "\n",
    "Relationships that are used as `parent` configuration are removed from the visualization and instead, the source-node is created as child node of the relationship's target."
   ]
  },
  {
   "cell_type": "code",
   "execution_count": null,
   "id": "bb28c9ae-09c4-48bd-ad4a-cfae6728f41b",
   "metadata": {},
   "outputs": [],
   "source": [
    "%pip install yfiles_jupyter_graphs_for_neo4j --quiet\n",
    "%pip install neo4j --quiet"
   ]
  },
  {
   "cell_type": "markdown",
   "id": "1f61c2d4-4007-4d4f-b18b-129071f3d905",
   "metadata": {},
   "source": [
    "You can also open this notebook in Google Colab when Google Colab's custom widget manager is enabled:"
   ]
  },
  {
   "cell_type": "code",
   "execution_count": null,
   "id": "79211259-5f0f-4879-b6c7-e17f28b927f1",
   "metadata": {},
   "outputs": [],
   "source": [
    "try:\n",
    "  import google.colab\n",
    "  from google.colab import output\n",
    "  output.enable_custom_widget_manager()\n",
    "except:\n",
    "  pass"
   ]
  },
  {
   "cell_type": "markdown",
   "id": "4abf6297-9a94-43db-9d98-1ea37b91e9d9",
   "metadata": {},
   "source": [
    "<a target=\"_blank\" href=\"https://colab.research.google.com/github/yWorks/yfiles-jupyter-graphs-for-neo4j/blob/main/examples/grouping.ipynb\"><img src=\"https://colab.research.google.com/assets/colab-badge.svg\" alt=\"Open In Colab\"/></a>"
   ]
  },
  {
   "cell_type": "code",
   "execution_count": null,
   "id": "92545967-f317-4c2e-a80f-6fcd29e8d911",
   "metadata": {},
   "outputs": [],
   "source": [
    "from neo4j import GraphDatabase\n",
    "\n",
    "NEO4J_URI      = \"neo4j+ssc://demo.neo4jlabs.com\" \n",
    "NEO4J_USERNAME = \"fincen\"\n",
    "NEO4J_PASSWORD = \"fincen\"\n",
    "driver = GraphDatabase.driver(uri = NEO4J_URI, auth = (NEO4J_USERNAME, NEO4J_PASSWORD), database = 'fincen')"
   ]
  },
  {
   "cell_type": "code",
   "execution_count": null,
   "id": "38cbb7e1-01da-43b1-9f66-b3853b441eee",
   "metadata": {},
   "outputs": [],
   "source": [
    "from yfiles_jupyter_graphs_for_neo4j import Neo4jGraphWidget\n",
    "\n",
    "# pass the Neo4j database driver to resolve the queries\n",
    "g = Neo4jGraphWidget(driver)\n",
    "# automatically load relationships in the returned node collection of the cypher queries\n",
    "g.set_autocomplete_relationships(True)"
   ]
  },
  {
   "cell_type": "markdown",
   "id": "6bf1a69d-9083-4cb4-87b7-f2b6b53ffb64",
   "metadata": {},
   "source": [
    "The following sample shows the graph of five countries that have at least five connected entities."
   ]
  },
  {
   "cell_type": "code",
   "execution_count": null,
   "id": "821d7c71-6c15-4959-9b84-5e6dea4a2b39",
   "metadata": {},
   "outputs": [],
   "source": [
    "country_relations_cypher = \"\"\"MATCH (entity:Entity)-[r:COUNTRY]->(country:Country) \n",
    "            WHERE country.name IN ['China', 'Denmark', 'Ecuador', 'France', 'Germany'] WITH country, collect(entity) AS entities \n",
    "            WHERE size(entities) >= 5 WITH country, entities[0..5] AS limitedEntities RETURN country, limitedEntities LIMIT 5\"\"\"\n",
    "g.show_cypher(country_relations_cypher)"
   ]
  },
  {
   "cell_type": "markdown",
   "id": "83b86f16-9638-4053-9c7f-3a1681d42741",
   "metadata": {},
   "source": [
    "## Configure the `country` relationship as nested hierarchy\n",
    "\n",
    "Specifying a relationship as parent configuration replaces these edges in the visualization with a nested parent-child structure."
   ]
  },
  {
   "cell_type": "code",
   "execution_count": null,
   "id": "83efd157-938e-44bd-aedd-edce8793d067",
   "metadata": {},
   "outputs": [],
   "source": [
    "# use \"COUNTRY\" relationships as nested hierarchies\n",
    "g.add_parent_relationship_configuration('COUNTRY')\n",
    "\n",
    "# the 'Country' nodes now act as group nodes which can also be configured\n",
    "g.add_node_configuration('Country', text='code')\n",
    "\n",
    "g.show_cypher(country_relations_cypher)"
   ]
  },
  {
   "cell_type": "markdown",
   "id": "03605695-df65-449d-b976-6774ede4258e",
   "metadata": {},
   "source": [
    "## Configure new artificial groups\n",
    "\n",
    "It is also possible to configure artificial groups that are not within the database. For example, we'll group add group nodes for the different node labels:"
   ]
  },
  {
   "cell_type": "code",
   "execution_count": null,
   "id": "87178fa5-5edc-4c60-84fb-8ac6144f7800",
   "metadata": {},
   "outputs": [],
   "source": [
    "g = Neo4jGraphWidget(driver)\n",
    "g.set_autocomplete_relationships(True)\n",
    "\n",
    "# creates a new group node for nodes with label 'Entity'\n",
    "g.add_node_configuration('Entity', parent_configuration='Entities')\n",
    "\n",
    "# creates a new *blue* group node for nodes with label 'Country' and\n",
    "g.add_node_configuration('Country', parent_configuration={'text': 'Countries', 'color': '#2196F3'})\n",
    "\n",
    "g.show_cypher(country_relations_cypher)"
   ]
  },
  {
   "cell_type": "markdown",
   "id": "ee9b0f2d-a90f-43c2-a0d8-c19bc4e77228",
   "metadata": {},
   "source": [
    "## Multi-level nesting\n",
    "\n",
    "Each node can have exactly one parent node. However, if you set a parent node for this node as well, you can achieve multi-level nesting"
   ]
  },
  {
   "cell_type": "code",
   "execution_count": null,
   "id": "6a819318-e6e5-43be-aeaa-54b725cdc247",
   "metadata": {},
   "outputs": [],
   "source": [
    "g = Neo4jGraphWidget(driver)\n",
    "g.set_autocomplete_relationships(True)\n",
    "# a query that returns a graph of three chained nodes\n",
    "chained_relationship_query = \"\"\"\n",
    "MATCH (f:Filing {begin_date: \"Mar 9, 2016\", end_date: \"Aug 10, 2016\"})\n",
    "WITH f\n",
    "MATCH (e:Entity {name: \"Macquarie Bank Ltd\", country: \"AUS\"})\n",
    "WITH f, e\n",
    "MATCH (c:Country {code: \"AUS\"})\n",
    "RETURN f, e, c\n",
    "\"\"\"\n",
    "g.show_cypher(chained_relationship_query)"
   ]
  },
  {
   "cell_type": "markdown",
   "id": "eda502b2-b507-47ef-a582-0eeb74bbc751",
   "metadata": {},
   "source": [
    "### Adding multiple parent relationships"
   ]
  },
  {
   "cell_type": "code",
   "execution_count": null,
   "id": "8ad8fd1a-5a48-4a8a-b60e-3c4011ef93a5",
   "metadata": {},
   "outputs": [],
   "source": [
    "g.add_parent_relationship_configuration(\"CONCERNS\")\n",
    "g.add_parent_relationship_configuration(\"COUNTRY\")\n",
    "g.show_cypher(chained_relationship_query)"
   ]
  },
  {
   "cell_type": "markdown",
   "id": "9fa239bf-e957-48ff-a517-ae015e037f8b",
   "metadata": {},
   "source": [
    "### Removing parent relationships"
   ]
  },
  {
   "cell_type": "code",
   "execution_count": null,
   "id": "c9c2fc00-52f8-47c3-97de-076aaef23c3d",
   "metadata": {},
   "outputs": [],
   "source": [
    "g.del_parent_relationship_configuration(\"COUNTRY\")\n",
    "g.del_parent_relationship_configuration(\"CONCERNS\")\n",
    "g.show_cypher(chained_relationship_query)"
   ]
  }
 ],
 "metadata": {
  "kernelspec": {
   "display_name": "Python 3 (ipykernel)",
   "language": "python",
   "name": "python3"
  },
  "language_info": {
   "codemirror_mode": {
    "name": "ipython",
    "version": 3
   },
   "file_extension": ".py",
   "mimetype": "text/x-python",
   "name": "python",
   "nbconvert_exporter": "python",
   "pygments_lexer": "ipython3",
   "version": "3.12.3"
  }
 },
 "nbformat": 4,
 "nbformat_minor": 5
}
