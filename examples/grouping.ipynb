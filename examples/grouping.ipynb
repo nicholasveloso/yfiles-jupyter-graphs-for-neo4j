{
  "cells": [
    {
      "cell_type": "markdown",
      "id": "b838710e-f47e-4252-83b6-1ede89296740",
      "metadata": {
        "id": "b838710e-f47e-4252-83b6-1ede89296740"
      },
      "source": [
        "# Grouping Nodes <a target=\"_blank\" href=\"https://colab.research.google.com/github/yWorks/yfiles-jupyter-graphs-for-neo4j/blob/main/examples/grouping.ipynb\"><img src=\"https://colab.research.google.com/assets/colab-badge.svg\" alt=\"Open In Colab\"/></a>\n",
        "\n",
        "This notebook showcases the `add_parent_configuration` method, which allows to configure relationships as grouping hierarchy.\n",
        "\n",
        "Relationships that are used as `parent` configuration are removed from the visualization and instead, the source-node is created as child node of the relationship's target."
      ]
    },
    {
      "cell_type": "code",
      "execution_count": 1,
      "id": "bb28c9ae-09c4-48bd-ad4a-cfae6728f41b",
      "metadata": {
        "id": "bb28c9ae-09c4-48bd-ad4a-cfae6728f41b",
        "outputId": "d241689c-4a17-4165-9aac-4f8be3aa9f6f",
        "colab": {
          "base_uri": "https://localhost:8080/"
        }
      },
      "outputs": [
        {
          "output_type": "stream",
          "name": "stdout",
          "text": [
            "\u001b[2K   \u001b[90m━━━━━━━━━━━━━━━━━━━━━━━━━━━━━━━━━━━━━━━━\u001b[0m \u001b[32m15.6/15.6 MB\u001b[0m \u001b[31m22.5 MB/s\u001b[0m eta \u001b[36m0:00:00\u001b[0m\n",
            "\u001b[2K   \u001b[90m━━━━━━━━━━━━━━━━━━━━━━━━━━━━━━━━━━━━━━━━\u001b[0m \u001b[32m139.8/139.8 kB\u001b[0m \u001b[31m5.3 MB/s\u001b[0m eta \u001b[36m0:00:00\u001b[0m\n",
            "\u001b[2K   \u001b[90m━━━━━━━━━━━━━━━━━━━━━━━━━━━━━━━━━━━━━━━━\u001b[0m \u001b[32m2.3/2.3 MB\u001b[0m \u001b[31m26.5 MB/s\u001b[0m eta \u001b[36m0:00:00\u001b[0m\n",
            "\u001b[2K   \u001b[90m━━━━━━━━━━━━━━━━━━━━━━━━━━━━━━━━━━━━━━━━\u001b[0m \u001b[32m294.6/294.6 kB\u001b[0m \u001b[31m1.1 MB/s\u001b[0m eta \u001b[36m0:00:00\u001b[0m\n",
            "\u001b[?25h"
          ]
        }
      ],
      "source": [
        "%pip install yfiles_jupyter_graphs_for_neo4j --quiet\n",
        "%pip install neo4j --quiet"
      ]
    },
    {
      "cell_type": "markdown",
      "id": "1f61c2d4-4007-4d4f-b18b-129071f3d905",
      "metadata": {
        "id": "1f61c2d4-4007-4d4f-b18b-129071f3d905"
      },
      "source": [
        "You can also open this notebook in Google Colab when Google Colab's custom widget manager is enabled:"
      ]
    },
    {
      "cell_type": "code",
      "execution_count": 2,
      "id": "79211259-5f0f-4879-b6c7-e17f28b927f1",
      "metadata": {
        "id": "79211259-5f0f-4879-b6c7-e17f28b927f1"
      },
      "outputs": [],
      "source": [
        "try:\n",
        "  import google.colab\n",
        "  from google.colab import output\n",
        "  output.enable_custom_widget_manager()\n",
        "except:\n",
        "  pass"
      ]
    },
    {
      "cell_type": "markdown",
      "id": "4abf6297-9a94-43db-9d98-1ea37b91e9d9",
      "metadata": {
        "id": "4abf6297-9a94-43db-9d98-1ea37b91e9d9"
      },
      "source": [
        "<a target=\"_blank\" href=\"https://colab.research.google.com/github/yWorks/yfiles-jupyter-graphs-for-neo4j/blob/main/examples/grouping.ipynb\"><img src=\"https://colab.research.google.com/assets/colab-badge.svg\" alt=\"Open In Colab\"/></a>"
      ]
    },
    {
      "cell_type": "code",
      "execution_count": 3,
      "id": "92545967-f317-4c2e-a80f-6fcd29e8d911",
      "metadata": {
        "id": "92545967-f317-4c2e-a80f-6fcd29e8d911"
      },
      "outputs": [],
      "source": [
        "from neo4j import GraphDatabase\n",
        "\n",
        "NEO4J_URI      = \"neo4j+ssc://demo.neo4jlabs.com\"\n",
        "NEO4J_USERNAME = \"fincen\"\n",
        "NEO4J_PASSWORD = \"fincen\"\n",
        "driver = GraphDatabase.driver(uri = NEO4J_URI, auth = (NEO4J_USERNAME, NEO4J_PASSWORD), database = 'fincen')"
      ]
    },
    {
      "cell_type": "code",
      "execution_count": 4,
      "id": "38cbb7e1-01da-43b1-9f66-b3853b441eee",
      "metadata": {
        "id": "38cbb7e1-01da-43b1-9f66-b3853b441eee"
      },
      "outputs": [],
      "source": [
        "from yfiles_jupyter_graphs_for_neo4j import Neo4jGraphWidget\n",
        "\n",
        "# pass the Neo4j database driver to resolve the queries\n",
        "g = Neo4jGraphWidget(driver)\n",
        "# automatically load relationships in the returned node collection of the cypher queries\n",
        "g.set_autocomplete_relationships(True)"
      ]
    },
    {
      "cell_type": "markdown",
      "id": "6bf1a69d-9083-4cb4-87b7-f2b6b53ffb64",
      "metadata": {
        "id": "6bf1a69d-9083-4cb4-87b7-f2b6b53ffb64"
      },
      "source": [
        "The following sample shows the graph of five countries that have at least five connected entities."
      ]
    },
    {
      "cell_type": "code",
      "execution_count": 5,
      "id": "821d7c71-6c15-4959-9b84-5e6dea4a2b39",
      "metadata": {
        "id": "821d7c71-6c15-4959-9b84-5e6dea4a2b39",
        "outputId": "4843a6bb-3756-4809-a2ec-2182fe90db7f",
        "colab": {
          "base_uri": "https://localhost:8080/",
          "height": 817,
          "referenced_widgets": [
            "f5bf0e132a5749ac9ccc66eeee385043",
            "775963d706314d808ddb787f1269f3b8"
          ]
        }
      },
      "outputs": [
        {
          "output_type": "display_data",
          "data": {
            "text/plain": [
              "GraphWidget(layout=Layout(height='800px', width='100%'))"
            ],
            "application/vnd.jupyter.widget-view+json": {
              "version_major": 2,
              "version_minor": 0,
              "model_id": "f5bf0e132a5749ac9ccc66eeee385043"
            }
          },
          "metadata": {
            "application/vnd.jupyter.widget-view+json": {
              "colab": {
                "custom_widget_manager": {
                  "url": "https://ssl.gstatic.com/colaboratory-static/widgets/colab-cdn-widget-manager/2b70e893a8ba7c0f/manager.min.js"
                }
              }
            }
          }
        }
      ],
      "source": [
        "country_relations_cypher = \"\"\"MATCH (entity:Entity)-[r:COUNTRY]->(country:Country)\n",
        "            WHERE country.name IN ['China', 'Denmark', 'Ecuador', 'France', 'Germany'] WITH country, collect(entity) AS entities\n",
        "            WHERE size(entities) >= 5 WITH country, entities[0..5] AS limitedEntities RETURN country, limitedEntities LIMIT 5\"\"\"\n",
        "g.show_cypher(country_relations_cypher)"
      ]
    },
    {
      "cell_type": "markdown",
      "id": "83b86f16-9638-4053-9c7f-3a1681d42741",
      "metadata": {
        "id": "83b86f16-9638-4053-9c7f-3a1681d42741"
      },
      "source": [
        "## Configure the `country` relationship as nested hierarchy\n",
        "\n",
        "Specifying a relationship as parent configuration replaces these edges in the visualization with a nested parent-child structure."
      ]
    },
    {
      "cell_type": "code",
      "execution_count": 6,
      "id": "83efd157-938e-44bd-aedd-edce8793d067",
      "metadata": {
        "id": "83efd157-938e-44bd-aedd-edce8793d067",
        "outputId": "fc8b9e3d-89bc-481d-9740-c838dcf6b3e3",
        "colab": {
          "base_uri": "https://localhost:8080/",
          "height": 817,
          "referenced_widgets": [
            "a8472bba06944a98ac03b36a992c8b9d",
            "3bb82b0cdc1144158f34348b50c74195"
          ]
        }
      },
      "outputs": [
        {
          "output_type": "display_data",
          "data": {
            "text/plain": [
              "GraphWidget(layout=Layout(height='800px', width='100%'))"
            ],
            "application/vnd.jupyter.widget-view+json": {
              "version_major": 2,
              "version_minor": 0,
              "model_id": "a8472bba06944a98ac03b36a992c8b9d"
            }
          },
          "metadata": {
            "application/vnd.jupyter.widget-view+json": {
              "colab": {
                "custom_widget_manager": {
                  "url": "https://ssl.gstatic.com/colaboratory-static/widgets/colab-cdn-widget-manager/2b70e893a8ba7c0f/manager.min.js"
                }
              }
            }
          }
        }
      ],
      "source": [
        "# use \"COUNTRY\" relationships as nested hierarchies\n",
        "g.add_parent_relationship_configuration('COUNTRY')\n",
        "\n",
        "# the 'Country' nodes now act as group nodes which can also be configured\n",
        "g.add_node_configuration('Country', text='code')\n",
        "\n",
        "g.show_cypher(country_relations_cypher)"
      ]
    },
    {
      "cell_type": "markdown",
      "id": "03605695-df65-449d-b976-6774ede4258e",
      "metadata": {
        "id": "03605695-df65-449d-b976-6774ede4258e"
      },
      "source": [
        "## Configure new artificial groups\n",
        "\n",
        "It is also possible to configure artificial groups that are not within the database. For example, we'll group add group nodes for the different node labels:"
      ]
    },
    {
      "cell_type": "code",
      "execution_count": 7,
      "id": "87178fa5-5edc-4c60-84fb-8ac6144f7800",
      "metadata": {
        "id": "87178fa5-5edc-4c60-84fb-8ac6144f7800",
        "outputId": "4bd610a4-05f1-46e5-ab92-a12105463e3c",
        "colab": {
          "base_uri": "https://localhost:8080/",
          "height": 817,
          "referenced_widgets": [
            "5d1a8c7a68f9479fa5cba9ab8fb0f17d",
            "872fabff06e54b5880b89faf8584a049"
          ]
        }
      },
      "outputs": [
        {
          "output_type": "display_data",
          "data": {
            "text/plain": [
              "GraphWidget(layout=Layout(height='800px', width='100%'))"
            ],
            "application/vnd.jupyter.widget-view+json": {
              "version_major": 2,
              "version_minor": 0,
              "model_id": "5d1a8c7a68f9479fa5cba9ab8fb0f17d"
            }
          },
          "metadata": {
            "application/vnd.jupyter.widget-view+json": {
              "colab": {
                "custom_widget_manager": {
                  "url": "https://ssl.gstatic.com/colaboratory-static/widgets/colab-cdn-widget-manager/2b70e893a8ba7c0f/manager.min.js"
                }
              }
            }
          }
        }
      ],
      "source": [
        "g = Neo4jGraphWidget(driver)\n",
        "g.set_autocomplete_relationships(True)\n",
        "\n",
        "# creates a new group node for nodes with label 'Entity'\n",
        "g.add_node_configuration('Entity', parent_configuration='Entities')\n",
        "\n",
        "# creates a new *blue* group node for nodes with label 'Country' and\n",
        "g.add_node_configuration('Country', parent_configuration={'text': 'Countries', 'color': '#2196F3'})\n",
        "\n",
        "g.show_cypher(country_relations_cypher)"
      ]
    },
    {
      "cell_type": "markdown",
      "id": "ee9b0f2d-a90f-43c2-a0d8-c19bc4e77228",
      "metadata": {
        "id": "ee9b0f2d-a90f-43c2-a0d8-c19bc4e77228"
      },
      "source": [
        "## Multi-level nesting\n",
        "\n",
        "Each node can have exactly one parent node. However, if you set a parent node for this node as well, you can achieve multi-level nesting"
      ]
    },
    {
      "cell_type": "code",
      "execution_count": 8,
      "id": "6a819318-e6e5-43be-aeaa-54b725cdc247",
      "metadata": {
        "id": "6a819318-e6e5-43be-aeaa-54b725cdc247",
        "outputId": "43a9e9ca-3eec-4509-fce3-686b976aa44b",
        "colab": {
          "base_uri": "https://localhost:8080/",
          "height": 517,
          "referenced_widgets": [
            "7fe8e3200e7f4d64af88e88da55bc089",
            "6c99db6bcc1b4ce4955c4ec85967b793",
            "a9a409db8dc54d339c0c38c961896642"
          ]
        }
      },
      "outputs": [
        {
          "output_type": "display_data",
          "data": {
            "text/plain": [
              "GraphWidget(layout=Layout(height='500px', width='100%'))"
            ],
            "application/vnd.jupyter.widget-view+json": {
              "version_major": 2,
              "version_minor": 0,
              "model_id": "7fe8e3200e7f4d64af88e88da55bc089"
            }
          },
          "metadata": {
            "application/vnd.jupyter.widget-view+json": {
              "colab": {
                "custom_widget_manager": {
                  "url": "https://ssl.gstatic.com/colaboratory-static/widgets/colab-cdn-widget-manager/2b70e893a8ba7c0f/manager.min.js"
                }
              }
            }
          }
        }
      ],
      "source": [
        "g = Neo4jGraphWidget(driver)\n",
        "g.set_autocomplete_relationships(True)\n",
        "# a query that returns a graph of three chained nodes\n",
        "chained_relationship_query = \"\"\"\n",
        "MATCH (f:Filing {begin_date: \"Mar 9, 2016\", end_date: \"Aug 10, 2016\"})\n",
        "WITH f\n",
        "MATCH (e:Entity {name: \"Macquarie Bank Ltd\", country: \"AUS\"})\n",
        "WITH f, e\n",
        "MATCH (c:Country {code: \"AUS\"})\n",
        "RETURN f, e, c\n",
        "\"\"\"\n",
        "g.show_cypher(chained_relationship_query)"
      ]
    },
    {
      "cell_type": "markdown",
      "id": "eda502b2-b507-47ef-a582-0eeb74bbc751",
      "metadata": {
        "id": "eda502b2-b507-47ef-a582-0eeb74bbc751"
      },
      "source": [
        "### Adding multiple parent relationships"
      ]
    },
    {
      "cell_type": "code",
      "execution_count": 9,
      "id": "8ad8fd1a-5a48-4a8a-b60e-3c4011ef93a5",
      "metadata": {
        "id": "8ad8fd1a-5a48-4a8a-b60e-3c4011ef93a5",
        "outputId": "6fcae664-4c16-46ff-d159-7741846b9fd9",
        "colab": {
          "base_uri": "https://localhost:8080/",
          "height": 517,
          "referenced_widgets": [
            "c9de6254ec6941708f64f1793afb550e",
            "20603d61ed7041f894937f7ae8c8b944"
          ]
        }
      },
      "outputs": [
        {
          "output_type": "display_data",
          "data": {
            "text/plain": [
              "GraphWidget(layout=Layout(height='500px', width='100%'))"
            ],
            "application/vnd.jupyter.widget-view+json": {
              "version_major": 2,
              "version_minor": 0,
              "model_id": "c9de6254ec6941708f64f1793afb550e"
            }
          },
          "metadata": {
            "application/vnd.jupyter.widget-view+json": {
              "colab": {
                "custom_widget_manager": {
                  "url": "https://ssl.gstatic.com/colaboratory-static/widgets/colab-cdn-widget-manager/2b70e893a8ba7c0f/manager.min.js"
                }
              }
            }
          }
        }
      ],
      "source": [
        "g.add_parent_relationship_configuration(\"CONCERNS\")\n",
        "g.add_parent_relationship_configuration(\"COUNTRY\")\n",
        "g.show_cypher(chained_relationship_query)"
      ]
    },
    {
      "cell_type": "markdown",
      "id": "9fa239bf-e957-48ff-a517-ae015e037f8b",
      "metadata": {
        "id": "9fa239bf-e957-48ff-a517-ae015e037f8b"
      },
      "source": [
        "### Removing parent relationships"
      ]
    },
    {
      "cell_type": "code",
      "execution_count": 10,
      "id": "c9c2fc00-52f8-47c3-97de-076aaef23c3d",
      "metadata": {
        "id": "c9c2fc00-52f8-47c3-97de-076aaef23c3d",
        "outputId": "a19a24c0-0865-4028-8c40-4e7202cb740a",
        "colab": {
          "base_uri": "https://localhost:8080/",
          "height": 517,
          "referenced_widgets": [
            "954d7d2a5eb9446fa062b39f5dbf9b72",
            "9f478dde72824e04b102be3a18e8deb7"
          ]
        }
      },
      "outputs": [
        {
          "output_type": "display_data",
          "data": {
            "text/plain": [
              "GraphWidget(layout=Layout(height='500px', width='100%'))"
            ],
            "application/vnd.jupyter.widget-view+json": {
              "version_major": 2,
              "version_minor": 0,
              "model_id": "954d7d2a5eb9446fa062b39f5dbf9b72"
            }
          },
          "metadata": {
            "application/vnd.jupyter.widget-view+json": {
              "colab": {
                "custom_widget_manager": {
                  "url": "https://ssl.gstatic.com/colaboratory-static/widgets/colab-cdn-widget-manager/2b70e893a8ba7c0f/manager.min.js"
                }
              }
            }
          }
        }
      ],
      "source": [
        "g.del_parent_relationship_configuration(\"COUNTRY\")\n",
        "g.del_parent_relationship_configuration(\"CONCERNS\")\n",
        "g.show_cypher(chained_relationship_query)"
      ]
    }
  ],
  "metadata": {
    "kernelspec": {
      "display_name": "Python 3 (ipykernel)",
      "language": "python",
      "name": "python3"
    },
    "language_info": {
      "codemirror_mode": {
        "name": "ipython",
        "version": 3
      },
      "file_extension": ".py",
      "mimetype": "text/x-python",
      "name": "python",
      "nbconvert_exporter": "python",
      "pygments_lexer": "ipython3",
      "version": "3.12.3"
    },
    "colab": {
      "provenance": []
    },
    "widgets": {
      "application/vnd.jupyter.widget-state+json": {
        "f5bf0e132a5749ac9ccc66eeee385043": {
          "model_module": "yfiles-jupyter-graphs",
          "model_name": "GraphModel",
          "model_module_version": "^1.8.1",
          "state": {
            "_context_pane_mapping": [
              {
                "id": "Neighborhood",
                "title": "Neighborhood"
              },
              {
                "id": "Data",
                "title": "Data"
              },
              {
                "id": "Search",
                "title": "Search"
              },
              {
                "id": "About",
                "title": "About"
              }
            ],
            "_data_importer": "neo4j",
            "_directed": true,
            "_dom_classes": [],
            "_edges": [
              {
                "id": 30220,
                "start": 6784,
                "end": 338,
                "properties": {
                  "label": "COUNTRY"
                },
                "label": "COUNTRY",
                "color": "#F44336",
                "thickness_factor": 1,
                "directed": true
              },
              {
                "id": 38133,
                "start": 7513,
                "end": 338,
                "properties": {
                  "label": "COUNTRY"
                },
                "label": "COUNTRY",
                "color": "#F44336",
                "thickness_factor": 1,
                "directed": true
              },
              {
                "id": 37005,
                "start": 7351,
                "end": 338,
                "properties": {
                  "label": "COUNTRY"
                },
                "label": "COUNTRY",
                "color": "#F44336",
                "thickness_factor": 1,
                "directed": true
              },
              {
                "id": 38557,
                "start": 7587,
                "end": 338,
                "properties": {
                  "label": "COUNTRY"
                },
                "label": "COUNTRY",
                "color": "#F44336",
                "thickness_factor": 1,
                "directed": true
              },
              {
                "id": 29505,
                "start": 6069,
                "end": 338,
                "properties": {
                  "label": "COUNTRY"
                },
                "label": "COUNTRY",
                "color": "#F44336",
                "thickness_factor": 1,
                "directed": true
              },
              {
                "id": 29875,
                "start": 6439,
                "end": 353,
                "properties": {
                  "label": "COUNTRY"
                },
                "label": "COUNTRY",
                "color": "#F44336",
                "thickness_factor": 1,
                "directed": true
              },
              {
                "id": 35483,
                "start": 7066,
                "end": 353,
                "properties": {
                  "label": "COUNTRY"
                },
                "label": "COUNTRY",
                "color": "#F44336",
                "thickness_factor": 1,
                "directed": true
              },
              {
                "id": 36219,
                "start": 7230,
                "end": 353,
                "properties": {
                  "label": "COUNTRY"
                },
                "label": "COUNTRY",
                "color": "#F44336",
                "thickness_factor": 1,
                "directed": true
              },
              {
                "id": 38336,
                "start": 7552,
                "end": 353,
                "properties": {
                  "label": "COUNTRY"
                },
                "label": "COUNTRY",
                "color": "#F44336",
                "thickness_factor": 1,
                "directed": true
              },
              {
                "id": 35891,
                "start": 7170,
                "end": 353,
                "properties": {
                  "label": "COUNTRY"
                },
                "label": "COUNTRY",
                "color": "#F44336",
                "thickness_factor": 1,
                "directed": true
              },
              {
                "id": 30292,
                "start": 6856,
                "end": 357,
                "properties": {
                  "label": "COUNTRY"
                },
                "label": "COUNTRY",
                "color": "#F44336",
                "thickness_factor": 1,
                "directed": true
              },
              {
                "id": 29812,
                "start": 6376,
                "end": 357,
                "properties": {
                  "label": "COUNTRY"
                },
                "label": "COUNTRY",
                "color": "#F44336",
                "thickness_factor": 1,
                "directed": true
              },
              {
                "id": 29813,
                "start": 6377,
                "end": 357,
                "properties": {
                  "label": "COUNTRY"
                },
                "label": "COUNTRY",
                "color": "#F44336",
                "thickness_factor": 1,
                "directed": true
              },
              {
                "id": 29808,
                "start": 6372,
                "end": 357,
                "properties": {
                  "label": "COUNTRY"
                },
                "label": "COUNTRY",
                "color": "#F44336",
                "thickness_factor": 1,
                "directed": true
              },
              {
                "id": 30291,
                "start": 6855,
                "end": 357,
                "properties": {
                  "label": "COUNTRY"
                },
                "label": "COUNTRY",
                "color": "#F44336",
                "thickness_factor": 1,
                "directed": true
              },
              {
                "id": 38374,
                "start": 7556,
                "end": 368,
                "properties": {
                  "label": "COUNTRY"
                },
                "label": "COUNTRY",
                "color": "#F44336",
                "thickness_factor": 1,
                "directed": true
              },
              {
                "id": 29767,
                "start": 6331,
                "end": 368,
                "properties": {
                  "label": "COUNTRY"
                },
                "label": "COUNTRY",
                "color": "#F44336",
                "thickness_factor": 1,
                "directed": true
              },
              {
                "id": 38152,
                "start": 7520,
                "end": 368,
                "properties": {
                  "label": "COUNTRY"
                },
                "label": "COUNTRY",
                "color": "#F44336",
                "thickness_factor": 1,
                "directed": true
              },
              {
                "id": 29591,
                "start": 6155,
                "end": 368,
                "properties": {
                  "label": "COUNTRY"
                },
                "label": "COUNTRY",
                "color": "#F44336",
                "thickness_factor": 1,
                "directed": true
              },
              {
                "id": 29610,
                "start": 6174,
                "end": 368,
                "properties": {
                  "label": "COUNTRY"
                },
                "label": "COUNTRY",
                "color": "#F44336",
                "thickness_factor": 1,
                "directed": true
              },
              {
                "id": 30180,
                "start": 6744,
                "end": 375,
                "properties": {
                  "label": "COUNTRY"
                },
                "label": "COUNTRY",
                "color": "#F44336",
                "thickness_factor": 1,
                "directed": true
              },
              {
                "id": 29605,
                "start": 6169,
                "end": 375,
                "properties": {
                  "label": "COUNTRY"
                },
                "label": "COUNTRY",
                "color": "#F44336",
                "thickness_factor": 1,
                "directed": true
              },
              {
                "id": 35654,
                "start": 7113,
                "end": 375,
                "properties": {
                  "label": "COUNTRY"
                },
                "label": "COUNTRY",
                "color": "#F44336",
                "thickness_factor": 1,
                "directed": true
              },
              {
                "id": 29877,
                "start": 6441,
                "end": 375,
                "properties": {
                  "label": "COUNTRY"
                },
                "label": "COUNTRY",
                "color": "#F44336",
                "thickness_factor": 1,
                "directed": true
              },
              {
                "id": 36339,
                "start": 7249,
                "end": 375,
                "properties": {
                  "label": "COUNTRY"
                },
                "label": "COUNTRY",
                "color": "#F44336",
                "thickness_factor": 1,
                "directed": true
              }
            ],
            "_graph_layout": {},
            "_highlight": [],
            "_license": {},
            "_model_module": "yfiles-jupyter-graphs",
            "_model_module_version": "^1.8.1",
            "_model_name": "GraphModel",
            "_neighborhood": {},
            "_nodes": [
              {
                "id": 338,
                "properties": {
                  "code": "CHN",
                  "name": "China",
                  "location": {
                    "x": 105,
                    "y": 35,
                    "z": 0
                  },
                  "tld": "CN",
                  "label": "Country"
                },
                "color": "#2196F3",
                "styles": {},
                "label": "China",
                "scale_factor": 1,
                "type": "#2196F3",
                "size": [
                  55,
                  55
                ],
                "position": [
                  0,
                  0
                ]
              },
              {
                "id": 6784,
                "properties": {
                  "name": "China Minsheng Banking Corporation Ltd",
                  "location": {
                    "x": 105,
                    "y": 35,
                    "z": 0
                  },
                  "id": "china-minsheng-banking-corporation-ltd-hengshui-china-chn",
                  "label": "Entity"
                },
                "color": "#4CAF50",
                "styles": {},
                "label": "China Minsheng Banking Corporation Ltd",
                "scale_factor": 1,
                "type": "#4CAF50",
                "size": [
                  55,
                  55
                ],
                "position": [
                  0,
                  0
                ]
              },
              {
                "id": 7513,
                "properties": {
                  "name": "China Development Bank",
                  "location": {
                    "x": 105,
                    "y": 35,
                    "z": 0
                  },
                  "id": "china-development-bank",
                  "label": "Entity"
                },
                "color": "#4CAF50",
                "styles": {},
                "label": "China Development Bank",
                "scale_factor": 1,
                "type": "#4CAF50",
                "size": [
                  55,
                  55
                ],
                "position": [
                  0,
                  0
                ]
              },
              {
                "id": 7351,
                "properties": {
                  "name": "Hang Seng Bank",
                  "location": {
                    "x": 105,
                    "y": 35,
                    "z": 0
                  },
                  "id": "hang-seng-bank",
                  "label": "Entity"
                },
                "color": "#4CAF50",
                "styles": {},
                "label": "Hang Seng Bank",
                "scale_factor": 1,
                "type": "#4CAF50",
                "size": [
                  55,
                  55
                ],
                "position": [
                  0,
                  0
                ]
              },
              {
                "id": 7587,
                "properties": {
                  "name": "Bank of China Sichuan Branch",
                  "location": {
                    "x": 105,
                    "y": 35,
                    "z": 0
                  },
                  "id": "bank-of-china-sichuan-branch",
                  "label": "Entity"
                },
                "color": "#4CAF50",
                "styles": {},
                "label": "Bank of China Sichuan Branch",
                "scale_factor": 1,
                "type": "#4CAF50",
                "size": [
                  55,
                  55
                ],
                "position": [
                  0,
                  0
                ]
              },
              {
                "id": 6069,
                "properties": {
                  "name": "Industrial And Comm'L Bank of China",
                  "location": {
                    "x": 105,
                    "y": 35,
                    "z": 0
                  },
                  "id": "industrial-and-comml-bank-of-china-fuzhou-china-chn",
                  "label": "Entity"
                },
                "color": "#4CAF50",
                "styles": {},
                "label": "Industrial And Comm'L Bank of China",
                "scale_factor": 1,
                "type": "#4CAF50",
                "size": [
                  55,
                  55
                ],
                "position": [
                  0,
                  0
                ]
              },
              {
                "id": 353,
                "properties": {
                  "code": "DNK",
                  "name": "Denmark",
                  "location": {
                    "x": 10,
                    "y": 56,
                    "z": 0
                  },
                  "tld": "DK",
                  "label": "Country"
                },
                "color": "#2196F3",
                "styles": {},
                "label": "Denmark",
                "scale_factor": 1,
                "type": "#2196F3",
                "size": [
                  55,
                  55
                ],
                "position": [
                  0,
                  0
                ]
              },
              {
                "id": 6439,
                "properties": {
                  "name": "Arbejdernes Landsbank A/S",
                  "location": {
                    "x": 10,
                    "y": 56,
                    "z": 0
                  },
                  "id": "arbejdernes-landsbank-as-copenhagen-denmark-dnk",
                  "label": "Entity"
                },
                "color": "#4CAF50",
                "styles": {},
                "label": "Arbejdernes Landsbank A/S",
                "scale_factor": 1,
                "type": "#4CAF50",
                "size": [
                  55,
                  55
                ],
                "position": [
                  0,
                  0
                ]
              },
              {
                "id": 7066,
                "properties": {
                  "name": "Danske Bank A S",
                  "location": {
                    "x": 10,
                    "y": 56,
                    "z": 0
                  },
                  "id": "danske-bank-a-s",
                  "label": "Entity"
                },
                "color": "#4CAF50",
                "styles": {},
                "label": "Danske Bank A S",
                "scale_factor": 1,
                "type": "#4CAF50",
                "size": [
                  55,
                  55
                ],
                "position": [
                  0,
                  0
                ]
              },
              {
                "id": 7230,
                "properties": {
                  "name": "Saxo Bank AS",
                  "location": {
                    "x": 10,
                    "y": 56,
                    "z": 0
                  },
                  "id": "saxo-bank-as",
                  "label": "Entity"
                },
                "color": "#4CAF50",
                "styles": {},
                "label": "Saxo Bank AS",
                "scale_factor": 1,
                "type": "#4CAF50",
                "size": [
                  55,
                  55
                ],
                "position": [
                  0,
                  0
                ]
              },
              {
                "id": 7552,
                "properties": {
                  "name": "A-S Jyske Bank",
                  "location": {
                    "x": 10,
                    "y": 56,
                    "z": 0
                  },
                  "id": "a-s-jyske-bank",
                  "label": "Entity"
                },
                "color": "#4CAF50",
                "styles": {},
                "label": "A-S Jyske Bank",
                "scale_factor": 1,
                "type": "#4CAF50",
                "size": [
                  55,
                  55
                ],
                "position": [
                  0,
                  0
                ]
              },
              {
                "id": 7170,
                "properties": {
                  "name": "Danske Bank A/S",
                  "location": {
                    "x": 10,
                    "y": 56,
                    "z": 0
                  },
                  "id": "danske-bank-as",
                  "label": "Entity"
                },
                "color": "#4CAF50",
                "styles": {},
                "label": "Danske Bank A/S",
                "scale_factor": 1,
                "type": "#4CAF50",
                "size": [
                  55,
                  55
                ],
                "position": [
                  0,
                  0
                ]
              },
              {
                "id": 357,
                "properties": {
                  "code": "ECU",
                  "name": "Ecuador",
                  "location": {
                    "x": -77.5,
                    "y": -2,
                    "z": 0
                  },
                  "tld": "EC",
                  "label": "Country"
                },
                "color": "#2196F3",
                "styles": {},
                "label": "Ecuador",
                "scale_factor": 1,
                "type": "#2196F3",
                "size": [
                  55,
                  55
                ],
                "position": [
                  0,
                  0
                ]
              },
              {
                "id": 6856,
                "properties": {
                  "name": "Banco Pichincha",
                  "location": {
                    "x": -77.5,
                    "y": -2,
                    "z": 0
                  },
                  "id": "banco-pichincha-ecuador-ecu",
                  "label": "Entity"
                },
                "color": "#4CAF50",
                "styles": {},
                "label": "Banco Pichincha",
                "scale_factor": 1,
                "type": "#4CAF50",
                "size": [
                  55,
                  55
                ],
                "position": [
                  0,
                  0
                ]
              },
              {
                "id": 6376,
                "properties": {
                  "name": "Banco De La Produccion S.A. Produbanco",
                  "location": {
                    "x": -77.5,
                    "y": -2,
                    "z": 0
                  },
                  "id": "banco-de-la-produccion-sa-produbanco-guayaquil-ecuador-ecu",
                  "label": "Entity"
                },
                "color": "#4CAF50",
                "styles": {},
                "label": "Banco De La Produccion S.A. Produbanco",
                "scale_factor": 1,
                "type": "#4CAF50",
                "size": [
                  55,
                  55
                ],
                "position": [
                  0,
                  0
                ]
              },
              {
                "id": 6377,
                "properties": {
                  "name": "Bancodel Pichincha",
                  "location": {
                    "x": -77.5,
                    "y": -2,
                    "z": 0
                  },
                  "id": "bancodel-pichincha-quito-ecuador-ecu",
                  "label": "Entity"
                },
                "color": "#4CAF50",
                "styles": {},
                "label": "Bancodel Pichincha",
                "scale_factor": 1,
                "type": "#4CAF50",
                "size": [
                  55,
                  55
                ],
                "position": [
                  0,
                  0
                ]
              },
              {
                "id": 6372,
                "properties": {
                  "name": "Banco Internacionals.A.",
                  "location": {
                    "x": -77.5,
                    "y": -2,
                    "z": 0
                  },
                  "id": "banco-internacionalsa-quito-ecuador-ecu",
                  "label": "Entity"
                },
                "color": "#4CAF50",
                "styles": {},
                "label": "Banco Internacionals.A.",
                "scale_factor": 1,
                "type": "#4CAF50",
                "size": [
                  55,
                  55
                ],
                "position": [
                  0,
                  0
                ]
              },
              {
                "id": 6855,
                "properties": {
                  "name": "Banco Internacional",
                  "location": {
                    "x": -77.5,
                    "y": -2,
                    "z": 0
                  },
                  "id": "banco-internacional-ecuador-ecu",
                  "label": "Entity"
                },
                "color": "#4CAF50",
                "styles": {},
                "label": "Banco Internacional",
                "scale_factor": 1,
                "type": "#4CAF50",
                "size": [
                  55,
                  55
                ],
                "position": [
                  0,
                  0
                ]
              },
              {
                "id": 368,
                "properties": {
                  "code": "FRA",
                  "name": "France",
                  "location": {
                    "x": 2,
                    "y": 46,
                    "z": 0
                  },
                  "tld": "FR",
                  "label": "Country"
                },
                "color": "#2196F3",
                "styles": {},
                "label": "France",
                "scale_factor": 1,
                "type": "#2196F3",
                "size": [
                  55,
                  55
                ],
                "position": [
                  0,
                  0
                ]
              },
              {
                "id": 7556,
                "properties": {
                  "name": "Bank of China Paris Branch",
                  "location": {
                    "x": 2,
                    "y": 46,
                    "z": 0
                  },
                  "id": "bank-of-china-paris-branch",
                  "label": "Entity"
                },
                "color": "#4CAF50",
                "styles": {},
                "label": "Bank of China Paris Branch",
                "scale_factor": 1,
                "type": "#4CAF50",
                "size": [
                  55,
                  55
                ],
                "position": [
                  0,
                  0
                ]
              },
              {
                "id": 6331,
                "properties": {
                  "name": "Societe Generale",
                  "location": {
                    "x": 2,
                    "y": 46,
                    "z": 0
                  },
                  "id": "societe-generale-paris-france-fra",
                  "label": "Entity"
                },
                "color": "#4CAF50",
                "styles": {},
                "label": "Societe Generale",
                "scale_factor": 1,
                "type": "#4CAF50",
                "size": [
                  55,
                  55
                ],
                "position": [
                  0,
                  0
                ]
              },
              {
                "id": 7520,
                "properties": {
                  "name": "Societe Generale",
                  "location": {
                    "x": 2,
                    "y": 46,
                    "z": 0
                  },
                  "id": "societe-generale",
                  "label": "Entity"
                },
                "color": "#4CAF50",
                "styles": {},
                "label": "Societe Generale",
                "scale_factor": 1,
                "type": "#4CAF50",
                "size": [
                  55,
                  55
                ],
                "position": [
                  0,
                  0
                ]
              },
              {
                "id": 6155,
                "properties": {
                  "name": "Bnp Paribas SA Formerly Banque Nationale De Paris S A",
                  "location": {
                    "x": 2,
                    "y": 46,
                    "z": 0
                  },
                  "id": "bnp-paribas-sa-formerly-banque-nationale-de-paris-s-a-paris-france-fra",
                  "label": "Entity"
                },
                "color": "#4CAF50",
                "styles": {},
                "label": "Bnp Paribas SA Formerly Banque Nationale De Paris S A",
                "scale_factor": 1,
                "type": "#4CAF50",
                "size": [
                  55,
                  55
                ],
                "position": [
                  0,
                  0
                ]
              },
              {
                "id": 6174,
                "properties": {
                  "name": "Barclays Bank Plc",
                  "location": {
                    "x": 2,
                    "y": 46,
                    "z": 0
                  },
                  "id": "barclays-bank-plc-france-fra",
                  "label": "Entity"
                },
                "color": "#4CAF50",
                "styles": {},
                "label": "Barclays Bank Plc",
                "scale_factor": 1,
                "type": "#4CAF50",
                "size": [
                  55,
                  55
                ],
                "position": [
                  0,
                  0
                ]
              },
              {
                "id": 375,
                "properties": {
                  "code": "DEU",
                  "name": "Germany",
                  "location": {
                    "x": 9,
                    "y": 51,
                    "z": 0
                  },
                  "tld": "DE",
                  "label": "Country"
                },
                "color": "#2196F3",
                "styles": {},
                "label": "Germany",
                "scale_factor": 1,
                "type": "#2196F3",
                "size": [
                  55,
                  55
                ],
                "position": [
                  0,
                  0
                ]
              },
              {
                "id": 6744,
                "properties": {
                  "name": "Commerzbank A.G.",
                  "location": {
                    "x": 9,
                    "y": 51,
                    "z": 0
                  },
                  "id": "commerzbank-ag-frankfurt-am-main-germany-deu",
                  "label": "Entity"
                },
                "color": "#4CAF50",
                "styles": {},
                "label": "Commerzbank A.G.",
                "scale_factor": 1,
                "type": "#4CAF50",
                "size": [
                  55,
                  55
                ],
                "position": [
                  0,
                  0
                ]
              },
              {
                "id": 6169,
                "properties": {
                  "name": "HSBC Trinkaus Burkhardt AG",
                  "location": {
                    "x": 9,
                    "y": 51,
                    "z": 0
                  },
                  "id": "hsbc-trinkaus-burkhardt-ag-frankfurt-germany-deu",
                  "label": "Entity"
                },
                "color": "#4CAF50",
                "styles": {},
                "label": "HSBC Trinkaus Burkhardt AG",
                "scale_factor": 1,
                "type": "#4CAF50",
                "size": [
                  55,
                  55
                ],
                "position": [
                  0,
                  0
                ]
              },
              {
                "id": 7113,
                "properties": {
                  "name": "Bhf Bank Aktiengesellschaft",
                  "location": {
                    "x": 9,
                    "y": 51,
                    "z": 0
                  },
                  "id": "bhf-bank-aktiengesellschaft",
                  "label": "Entity"
                },
                "color": "#4CAF50",
                "styles": {},
                "label": "Bhf Bank Aktiengesellschaft",
                "scale_factor": 1,
                "type": "#4CAF50",
                "size": [
                  55,
                  55
                ],
                "position": [
                  0,
                  0
                ]
              },
              {
                "id": 6441,
                "properties": {
                  "name": "HSBC Trinkaus Und Burkhardt AG",
                  "location": {
                    "x": 9,
                    "y": 51,
                    "z": 0
                  },
                  "id": "hsbc-trinkaus-und-burkhardt-ag-duesseldorf-germany-deu",
                  "label": "Entity"
                },
                "color": "#4CAF50",
                "styles": {},
                "label": "HSBC Trinkaus Und Burkhardt AG",
                "scale_factor": 1,
                "type": "#4CAF50",
                "size": [
                  55,
                  55
                ],
                "position": [
                  0,
                  0
                ]
              },
              {
                "id": 7249,
                "properties": {
                  "name": "Volksbank Kamen Werne Eg",
                  "location": {
                    "x": 9,
                    "y": 51,
                    "z": 0
                  },
                  "id": "volksbank-kamen-werne-eg",
                  "label": "Entity"
                },
                "color": "#4CAF50",
                "styles": {},
                "label": "Volksbank Kamen Werne Eg",
                "scale_factor": 1,
                "type": "#4CAF50",
                "size": [
                  55,
                  55
                ],
                "position": [
                  0,
                  0
                ]
              }
            ],
            "_overview": {
              "enabled": null,
              "overview_set": false
            },
            "_selected_graph": [
              [],
              []
            ],
            "_sidebar": {
              "enabled": true,
              "start_with": "About"
            },
            "_view_count": null,
            "_view_module": "yfiles-jupyter-graphs",
            "_view_module_version": "^1.8.1",
            "_view_name": "GraphView",
            "layout": "IPY_MODEL_775963d706314d808ddb787f1269f3b8",
            "tabbable": null,
            "tooltip": null
          }
        },
        "775963d706314d808ddb787f1269f3b8": {
          "model_module": "@jupyter-widgets/base",
          "model_name": "LayoutModel",
          "model_module_version": "2.0.0",
          "state": {
            "_model_module": "@jupyter-widgets/base",
            "_model_module_version": "2.0.0",
            "_model_name": "LayoutModel",
            "_view_count": null,
            "_view_module": "@jupyter-widgets/base",
            "_view_module_version": "2.0.0",
            "_view_name": "LayoutView",
            "align_content": null,
            "align_items": null,
            "align_self": null,
            "border_bottom": null,
            "border_left": null,
            "border_right": null,
            "border_top": null,
            "bottom": null,
            "display": null,
            "flex": null,
            "flex_flow": null,
            "grid_area": null,
            "grid_auto_columns": null,
            "grid_auto_flow": null,
            "grid_auto_rows": null,
            "grid_column": null,
            "grid_gap": null,
            "grid_row": null,
            "grid_template_areas": null,
            "grid_template_columns": null,
            "grid_template_rows": null,
            "height": "800px",
            "justify_content": null,
            "justify_items": null,
            "left": null,
            "margin": null,
            "max_height": null,
            "max_width": null,
            "min_height": null,
            "min_width": null,
            "object_fit": null,
            "object_position": null,
            "order": null,
            "overflow": null,
            "padding": null,
            "right": null,
            "top": null,
            "visibility": null,
            "width": "100%"
          }
        },
        "a8472bba06944a98ac03b36a992c8b9d": {
          "model_module": "yfiles-jupyter-graphs",
          "model_name": "GraphModel",
          "model_module_version": "^1.8.1",
          "state": {
            "_context_pane_mapping": [
              {
                "id": "Neighborhood",
                "title": "Neighborhood"
              },
              {
                "id": "Data",
                "title": "Data"
              },
              {
                "id": "Search",
                "title": "Search"
              },
              {
                "id": "About",
                "title": "About"
              }
            ],
            "_data_importer": "neo4j",
            "_directed": true,
            "_dom_classes": [],
            "_edges": [],
            "_graph_layout": {},
            "_highlight": [],
            "_license": {},
            "_model_module": "yfiles-jupyter-graphs",
            "_model_module_version": "^1.8.1",
            "_model_name": "GraphModel",
            "_neighborhood": {},
            "_nodes": [
              {
                "id": 338,
                "properties": {
                  "code": "CHN",
                  "name": "China",
                  "location": {
                    "x": 105,
                    "y": 35,
                    "z": 0
                  },
                  "tld": "CN",
                  "label": "Country"
                },
                "color": "#2196F3",
                "styles": {},
                "label": "CHN",
                "scale_factor": 1,
                "type": "#2196F3",
                "size": [
                  55,
                  55
                ],
                "position": [
                  0,
                  0
                ]
              },
              {
                "id": 6784,
                "properties": {
                  "name": "China Minsheng Banking Corporation Ltd",
                  "location": {
                    "x": 105,
                    "y": 35,
                    "z": 0
                  },
                  "id": "china-minsheng-banking-corporation-ltd-hengshui-china-chn",
                  "label": "Entity"
                },
                "color": "#4CAF50",
                "styles": {},
                "label": "China Minsheng Banking Corporation Ltd",
                "scale_factor": 1,
                "type": "#4CAF50",
                "size": [
                  55,
                  55
                ],
                "position": [
                  0,
                  0
                ],
                "parentId": 338
              },
              {
                "id": 7513,
                "properties": {
                  "name": "China Development Bank",
                  "location": {
                    "x": 105,
                    "y": 35,
                    "z": 0
                  },
                  "id": "china-development-bank",
                  "label": "Entity"
                },
                "color": "#4CAF50",
                "styles": {},
                "label": "China Development Bank",
                "scale_factor": 1,
                "type": "#4CAF50",
                "size": [
                  55,
                  55
                ],
                "position": [
                  0,
                  0
                ],
                "parentId": 338
              },
              {
                "id": 7351,
                "properties": {
                  "name": "Hang Seng Bank",
                  "location": {
                    "x": 105,
                    "y": 35,
                    "z": 0
                  },
                  "id": "hang-seng-bank",
                  "label": "Entity"
                },
                "color": "#4CAF50",
                "styles": {},
                "label": "Hang Seng Bank",
                "scale_factor": 1,
                "type": "#4CAF50",
                "size": [
                  55,
                  55
                ],
                "position": [
                  0,
                  0
                ],
                "parentId": 338
              },
              {
                "id": 7587,
                "properties": {
                  "name": "Bank of China Sichuan Branch",
                  "location": {
                    "x": 105,
                    "y": 35,
                    "z": 0
                  },
                  "id": "bank-of-china-sichuan-branch",
                  "label": "Entity"
                },
                "color": "#4CAF50",
                "styles": {},
                "label": "Bank of China Sichuan Branch",
                "scale_factor": 1,
                "type": "#4CAF50",
                "size": [
                  55,
                  55
                ],
                "position": [
                  0,
                  0
                ],
                "parentId": 338
              },
              {
                "id": 6069,
                "properties": {
                  "name": "Industrial And Comm'L Bank of China",
                  "location": {
                    "x": 105,
                    "y": 35,
                    "z": 0
                  },
                  "id": "industrial-and-comml-bank-of-china-fuzhou-china-chn",
                  "label": "Entity"
                },
                "color": "#4CAF50",
                "styles": {},
                "label": "Industrial And Comm'L Bank of China",
                "scale_factor": 1,
                "type": "#4CAF50",
                "size": [
                  55,
                  55
                ],
                "position": [
                  0,
                  0
                ],
                "parentId": 338
              },
              {
                "id": 353,
                "properties": {
                  "code": "DNK",
                  "name": "Denmark",
                  "location": {
                    "x": 10,
                    "y": 56,
                    "z": 0
                  },
                  "tld": "DK",
                  "label": "Country"
                },
                "color": "#2196F3",
                "styles": {},
                "label": "DNK",
                "scale_factor": 1,
                "type": "#2196F3",
                "size": [
                  55,
                  55
                ],
                "position": [
                  0,
                  0
                ]
              },
              {
                "id": 6439,
                "properties": {
                  "name": "Arbejdernes Landsbank A/S",
                  "location": {
                    "x": 10,
                    "y": 56,
                    "z": 0
                  },
                  "id": "arbejdernes-landsbank-as-copenhagen-denmark-dnk",
                  "label": "Entity"
                },
                "color": "#4CAF50",
                "styles": {},
                "label": "Arbejdernes Landsbank A/S",
                "scale_factor": 1,
                "type": "#4CAF50",
                "size": [
                  55,
                  55
                ],
                "position": [
                  0,
                  0
                ],
                "parentId": 353
              },
              {
                "id": 7066,
                "properties": {
                  "name": "Danske Bank A S",
                  "location": {
                    "x": 10,
                    "y": 56,
                    "z": 0
                  },
                  "id": "danske-bank-a-s",
                  "label": "Entity"
                },
                "color": "#4CAF50",
                "styles": {},
                "label": "Danske Bank A S",
                "scale_factor": 1,
                "type": "#4CAF50",
                "size": [
                  55,
                  55
                ],
                "position": [
                  0,
                  0
                ],
                "parentId": 353
              },
              {
                "id": 7230,
                "properties": {
                  "name": "Saxo Bank AS",
                  "location": {
                    "x": 10,
                    "y": 56,
                    "z": 0
                  },
                  "id": "saxo-bank-as",
                  "label": "Entity"
                },
                "color": "#4CAF50",
                "styles": {},
                "label": "Saxo Bank AS",
                "scale_factor": 1,
                "type": "#4CAF50",
                "size": [
                  55,
                  55
                ],
                "position": [
                  0,
                  0
                ],
                "parentId": 353
              },
              {
                "id": 7552,
                "properties": {
                  "name": "A-S Jyske Bank",
                  "location": {
                    "x": 10,
                    "y": 56,
                    "z": 0
                  },
                  "id": "a-s-jyske-bank",
                  "label": "Entity"
                },
                "color": "#4CAF50",
                "styles": {},
                "label": "A-S Jyske Bank",
                "scale_factor": 1,
                "type": "#4CAF50",
                "size": [
                  55,
                  55
                ],
                "position": [
                  0,
                  0
                ],
                "parentId": 353
              },
              {
                "id": 7170,
                "properties": {
                  "name": "Danske Bank A/S",
                  "location": {
                    "x": 10,
                    "y": 56,
                    "z": 0
                  },
                  "id": "danske-bank-as",
                  "label": "Entity"
                },
                "color": "#4CAF50",
                "styles": {},
                "label": "Danske Bank A/S",
                "scale_factor": 1,
                "type": "#4CAF50",
                "size": [
                  55,
                  55
                ],
                "position": [
                  0,
                  0
                ],
                "parentId": 353
              },
              {
                "id": 357,
                "properties": {
                  "code": "ECU",
                  "name": "Ecuador",
                  "location": {
                    "x": -77.5,
                    "y": -2,
                    "z": 0
                  },
                  "tld": "EC",
                  "label": "Country"
                },
                "color": "#2196F3",
                "styles": {},
                "label": "ECU",
                "scale_factor": 1,
                "type": "#2196F3",
                "size": [
                  55,
                  55
                ],
                "position": [
                  0,
                  0
                ]
              },
              {
                "id": 6856,
                "properties": {
                  "name": "Banco Pichincha",
                  "location": {
                    "x": -77.5,
                    "y": -2,
                    "z": 0
                  },
                  "id": "banco-pichincha-ecuador-ecu",
                  "label": "Entity"
                },
                "color": "#4CAF50",
                "styles": {},
                "label": "Banco Pichincha",
                "scale_factor": 1,
                "type": "#4CAF50",
                "size": [
                  55,
                  55
                ],
                "position": [
                  0,
                  0
                ],
                "parentId": 357
              },
              {
                "id": 6376,
                "properties": {
                  "name": "Banco De La Produccion S.A. Produbanco",
                  "location": {
                    "x": -77.5,
                    "y": -2,
                    "z": 0
                  },
                  "id": "banco-de-la-produccion-sa-produbanco-guayaquil-ecuador-ecu",
                  "label": "Entity"
                },
                "color": "#4CAF50",
                "styles": {},
                "label": "Banco De La Produccion S.A. Produbanco",
                "scale_factor": 1,
                "type": "#4CAF50",
                "size": [
                  55,
                  55
                ],
                "position": [
                  0,
                  0
                ],
                "parentId": 357
              },
              {
                "id": 6377,
                "properties": {
                  "name": "Bancodel Pichincha",
                  "location": {
                    "x": -77.5,
                    "y": -2,
                    "z": 0
                  },
                  "id": "bancodel-pichincha-quito-ecuador-ecu",
                  "label": "Entity"
                },
                "color": "#4CAF50",
                "styles": {},
                "label": "Bancodel Pichincha",
                "scale_factor": 1,
                "type": "#4CAF50",
                "size": [
                  55,
                  55
                ],
                "position": [
                  0,
                  0
                ],
                "parentId": 357
              },
              {
                "id": 6372,
                "properties": {
                  "name": "Banco Internacionals.A.",
                  "location": {
                    "x": -77.5,
                    "y": -2,
                    "z": 0
                  },
                  "id": "banco-internacionalsa-quito-ecuador-ecu",
                  "label": "Entity"
                },
                "color": "#4CAF50",
                "styles": {},
                "label": "Banco Internacionals.A.",
                "scale_factor": 1,
                "type": "#4CAF50",
                "size": [
                  55,
                  55
                ],
                "position": [
                  0,
                  0
                ],
                "parentId": 357
              },
              {
                "id": 6855,
                "properties": {
                  "name": "Banco Internacional",
                  "location": {
                    "x": -77.5,
                    "y": -2,
                    "z": 0
                  },
                  "id": "banco-internacional-ecuador-ecu",
                  "label": "Entity"
                },
                "color": "#4CAF50",
                "styles": {},
                "label": "Banco Internacional",
                "scale_factor": 1,
                "type": "#4CAF50",
                "size": [
                  55,
                  55
                ],
                "position": [
                  0,
                  0
                ],
                "parentId": 357
              },
              {
                "id": 368,
                "properties": {
                  "code": "FRA",
                  "name": "France",
                  "location": {
                    "x": 2,
                    "y": 46,
                    "z": 0
                  },
                  "tld": "FR",
                  "label": "Country"
                },
                "color": "#2196F3",
                "styles": {},
                "label": "FRA",
                "scale_factor": 1,
                "type": "#2196F3",
                "size": [
                  55,
                  55
                ],
                "position": [
                  0,
                  0
                ]
              },
              {
                "id": 7556,
                "properties": {
                  "name": "Bank of China Paris Branch",
                  "location": {
                    "x": 2,
                    "y": 46,
                    "z": 0
                  },
                  "id": "bank-of-china-paris-branch",
                  "label": "Entity"
                },
                "color": "#4CAF50",
                "styles": {},
                "label": "Bank of China Paris Branch",
                "scale_factor": 1,
                "type": "#4CAF50",
                "size": [
                  55,
                  55
                ],
                "position": [
                  0,
                  0
                ],
                "parentId": 368
              },
              {
                "id": 6331,
                "properties": {
                  "name": "Societe Generale",
                  "location": {
                    "x": 2,
                    "y": 46,
                    "z": 0
                  },
                  "id": "societe-generale-paris-france-fra",
                  "label": "Entity"
                },
                "color": "#4CAF50",
                "styles": {},
                "label": "Societe Generale",
                "scale_factor": 1,
                "type": "#4CAF50",
                "size": [
                  55,
                  55
                ],
                "position": [
                  0,
                  0
                ],
                "parentId": 368
              },
              {
                "id": 7520,
                "properties": {
                  "name": "Societe Generale",
                  "location": {
                    "x": 2,
                    "y": 46,
                    "z": 0
                  },
                  "id": "societe-generale",
                  "label": "Entity"
                },
                "color": "#4CAF50",
                "styles": {},
                "label": "Societe Generale",
                "scale_factor": 1,
                "type": "#4CAF50",
                "size": [
                  55,
                  55
                ],
                "position": [
                  0,
                  0
                ],
                "parentId": 368
              },
              {
                "id": 6155,
                "properties": {
                  "name": "Bnp Paribas SA Formerly Banque Nationale De Paris S A",
                  "location": {
                    "x": 2,
                    "y": 46,
                    "z": 0
                  },
                  "id": "bnp-paribas-sa-formerly-banque-nationale-de-paris-s-a-paris-france-fra",
                  "label": "Entity"
                },
                "color": "#4CAF50",
                "styles": {},
                "label": "Bnp Paribas SA Formerly Banque Nationale De Paris S A",
                "scale_factor": 1,
                "type": "#4CAF50",
                "size": [
                  55,
                  55
                ],
                "position": [
                  0,
                  0
                ],
                "parentId": 368
              },
              {
                "id": 6174,
                "properties": {
                  "name": "Barclays Bank Plc",
                  "location": {
                    "x": 2,
                    "y": 46,
                    "z": 0
                  },
                  "id": "barclays-bank-plc-france-fra",
                  "label": "Entity"
                },
                "color": "#4CAF50",
                "styles": {},
                "label": "Barclays Bank Plc",
                "scale_factor": 1,
                "type": "#4CAF50",
                "size": [
                  55,
                  55
                ],
                "position": [
                  0,
                  0
                ],
                "parentId": 368
              },
              {
                "id": 375,
                "properties": {
                  "code": "DEU",
                  "name": "Germany",
                  "location": {
                    "x": 9,
                    "y": 51,
                    "z": 0
                  },
                  "tld": "DE",
                  "label": "Country"
                },
                "color": "#2196F3",
                "styles": {},
                "label": "DEU",
                "scale_factor": 1,
                "type": "#2196F3",
                "size": [
                  55,
                  55
                ],
                "position": [
                  0,
                  0
                ]
              },
              {
                "id": 6744,
                "properties": {
                  "name": "Commerzbank A.G.",
                  "location": {
                    "x": 9,
                    "y": 51,
                    "z": 0
                  },
                  "id": "commerzbank-ag-frankfurt-am-main-germany-deu",
                  "label": "Entity"
                },
                "color": "#4CAF50",
                "styles": {},
                "label": "Commerzbank A.G.",
                "scale_factor": 1,
                "type": "#4CAF50",
                "size": [
                  55,
                  55
                ],
                "position": [
                  0,
                  0
                ],
                "parentId": 375
              },
              {
                "id": 6169,
                "properties": {
                  "name": "HSBC Trinkaus Burkhardt AG",
                  "location": {
                    "x": 9,
                    "y": 51,
                    "z": 0
                  },
                  "id": "hsbc-trinkaus-burkhardt-ag-frankfurt-germany-deu",
                  "label": "Entity"
                },
                "color": "#4CAF50",
                "styles": {},
                "label": "HSBC Trinkaus Burkhardt AG",
                "scale_factor": 1,
                "type": "#4CAF50",
                "size": [
                  55,
                  55
                ],
                "position": [
                  0,
                  0
                ],
                "parentId": 375
              },
              {
                "id": 7113,
                "properties": {
                  "name": "Bhf Bank Aktiengesellschaft",
                  "location": {
                    "x": 9,
                    "y": 51,
                    "z": 0
                  },
                  "id": "bhf-bank-aktiengesellschaft",
                  "label": "Entity"
                },
                "color": "#4CAF50",
                "styles": {},
                "label": "Bhf Bank Aktiengesellschaft",
                "scale_factor": 1,
                "type": "#4CAF50",
                "size": [
                  55,
                  55
                ],
                "position": [
                  0,
                  0
                ],
                "parentId": 375
              },
              {
                "id": 6441,
                "properties": {
                  "name": "HSBC Trinkaus Und Burkhardt AG",
                  "location": {
                    "x": 9,
                    "y": 51,
                    "z": 0
                  },
                  "id": "hsbc-trinkaus-und-burkhardt-ag-duesseldorf-germany-deu",
                  "label": "Entity"
                },
                "color": "#4CAF50",
                "styles": {},
                "label": "HSBC Trinkaus Und Burkhardt AG",
                "scale_factor": 1,
                "type": "#4CAF50",
                "size": [
                  55,
                  55
                ],
                "position": [
                  0,
                  0
                ],
                "parentId": 375
              },
              {
                "id": 7249,
                "properties": {
                  "name": "Volksbank Kamen Werne Eg",
                  "location": {
                    "x": 9,
                    "y": 51,
                    "z": 0
                  },
                  "id": "volksbank-kamen-werne-eg",
                  "label": "Entity"
                },
                "color": "#4CAF50",
                "styles": {},
                "label": "Volksbank Kamen Werne Eg",
                "scale_factor": 1,
                "type": "#4CAF50",
                "size": [
                  55,
                  55
                ],
                "position": [
                  0,
                  0
                ],
                "parentId": 375
              }
            ],
            "_overview": {
              "enabled": null,
              "overview_set": false
            },
            "_selected_graph": [
              [],
              []
            ],
            "_sidebar": {
              "enabled": true,
              "start_with": "About"
            },
            "_view_count": null,
            "_view_module": "yfiles-jupyter-graphs",
            "_view_module_version": "^1.8.1",
            "_view_name": "GraphView",
            "layout": "IPY_MODEL_3bb82b0cdc1144158f34348b50c74195",
            "tabbable": null,
            "tooltip": null
          }
        },
        "3bb82b0cdc1144158f34348b50c74195": {
          "model_module": "@jupyter-widgets/base",
          "model_name": "LayoutModel",
          "model_module_version": "2.0.0",
          "state": {
            "_model_module": "@jupyter-widgets/base",
            "_model_module_version": "2.0.0",
            "_model_name": "LayoutModel",
            "_view_count": null,
            "_view_module": "@jupyter-widgets/base",
            "_view_module_version": "2.0.0",
            "_view_name": "LayoutView",
            "align_content": null,
            "align_items": null,
            "align_self": null,
            "border_bottom": null,
            "border_left": null,
            "border_right": null,
            "border_top": null,
            "bottom": null,
            "display": null,
            "flex": null,
            "flex_flow": null,
            "grid_area": null,
            "grid_auto_columns": null,
            "grid_auto_flow": null,
            "grid_auto_rows": null,
            "grid_column": null,
            "grid_gap": null,
            "grid_row": null,
            "grid_template_areas": null,
            "grid_template_columns": null,
            "grid_template_rows": null,
            "height": "800px",
            "justify_content": null,
            "justify_items": null,
            "left": null,
            "margin": null,
            "max_height": null,
            "max_width": null,
            "min_height": null,
            "min_width": null,
            "object_fit": null,
            "object_position": null,
            "order": null,
            "overflow": null,
            "padding": null,
            "right": null,
            "top": null,
            "visibility": null,
            "width": "100%"
          }
        },
        "5d1a8c7a68f9479fa5cba9ab8fb0f17d": {
          "model_module": "yfiles-jupyter-graphs",
          "model_name": "GraphModel",
          "model_module_version": "^1.8.1",
          "state": {
            "_context_pane_mapping": [
              {
                "id": "Neighborhood",
                "title": "Neighborhood"
              },
              {
                "id": "Data",
                "title": "Data"
              },
              {
                "id": "Search",
                "title": "Search"
              },
              {
                "id": "About",
                "title": "About"
              }
            ],
            "_data_importer": "neo4j",
            "_directed": true,
            "_dom_classes": [],
            "_edges": [
              {
                "id": 30220,
                "start": 6784,
                "end": 338,
                "properties": {
                  "label": "COUNTRY"
                },
                "label": "COUNTRY",
                "color": "#607D8B",
                "thickness_factor": 1,
                "directed": true
              },
              {
                "id": 38133,
                "start": 7513,
                "end": 338,
                "properties": {
                  "label": "COUNTRY"
                },
                "label": "COUNTRY",
                "color": "#607D8B",
                "thickness_factor": 1,
                "directed": true
              },
              {
                "id": 37005,
                "start": 7351,
                "end": 338,
                "properties": {
                  "label": "COUNTRY"
                },
                "label": "COUNTRY",
                "color": "#607D8B",
                "thickness_factor": 1,
                "directed": true
              },
              {
                "id": 38557,
                "start": 7587,
                "end": 338,
                "properties": {
                  "label": "COUNTRY"
                },
                "label": "COUNTRY",
                "color": "#607D8B",
                "thickness_factor": 1,
                "directed": true
              },
              {
                "id": 29505,
                "start": 6069,
                "end": 338,
                "properties": {
                  "label": "COUNTRY"
                },
                "label": "COUNTRY",
                "color": "#607D8B",
                "thickness_factor": 1,
                "directed": true
              },
              {
                "id": 29875,
                "start": 6439,
                "end": 353,
                "properties": {
                  "label": "COUNTRY"
                },
                "label": "COUNTRY",
                "color": "#607D8B",
                "thickness_factor": 1,
                "directed": true
              },
              {
                "id": 35483,
                "start": 7066,
                "end": 353,
                "properties": {
                  "label": "COUNTRY"
                },
                "label": "COUNTRY",
                "color": "#607D8B",
                "thickness_factor": 1,
                "directed": true
              },
              {
                "id": 36219,
                "start": 7230,
                "end": 353,
                "properties": {
                  "label": "COUNTRY"
                },
                "label": "COUNTRY",
                "color": "#607D8B",
                "thickness_factor": 1,
                "directed": true
              },
              {
                "id": 38336,
                "start": 7552,
                "end": 353,
                "properties": {
                  "label": "COUNTRY"
                },
                "label": "COUNTRY",
                "color": "#607D8B",
                "thickness_factor": 1,
                "directed": true
              },
              {
                "id": 35891,
                "start": 7170,
                "end": 353,
                "properties": {
                  "label": "COUNTRY"
                },
                "label": "COUNTRY",
                "color": "#607D8B",
                "thickness_factor": 1,
                "directed": true
              },
              {
                "id": 30292,
                "start": 6856,
                "end": 357,
                "properties": {
                  "label": "COUNTRY"
                },
                "label": "COUNTRY",
                "color": "#607D8B",
                "thickness_factor": 1,
                "directed": true
              },
              {
                "id": 29812,
                "start": 6376,
                "end": 357,
                "properties": {
                  "label": "COUNTRY"
                },
                "label": "COUNTRY",
                "color": "#607D8B",
                "thickness_factor": 1,
                "directed": true
              },
              {
                "id": 29813,
                "start": 6377,
                "end": 357,
                "properties": {
                  "label": "COUNTRY"
                },
                "label": "COUNTRY",
                "color": "#607D8B",
                "thickness_factor": 1,
                "directed": true
              },
              {
                "id": 29808,
                "start": 6372,
                "end": 357,
                "properties": {
                  "label": "COUNTRY"
                },
                "label": "COUNTRY",
                "color": "#607D8B",
                "thickness_factor": 1,
                "directed": true
              },
              {
                "id": 30291,
                "start": 6855,
                "end": 357,
                "properties": {
                  "label": "COUNTRY"
                },
                "label": "COUNTRY",
                "color": "#607D8B",
                "thickness_factor": 1,
                "directed": true
              },
              {
                "id": 38374,
                "start": 7556,
                "end": 368,
                "properties": {
                  "label": "COUNTRY"
                },
                "label": "COUNTRY",
                "color": "#607D8B",
                "thickness_factor": 1,
                "directed": true
              },
              {
                "id": 29767,
                "start": 6331,
                "end": 368,
                "properties": {
                  "label": "COUNTRY"
                },
                "label": "COUNTRY",
                "color": "#607D8B",
                "thickness_factor": 1,
                "directed": true
              },
              {
                "id": 38152,
                "start": 7520,
                "end": 368,
                "properties": {
                  "label": "COUNTRY"
                },
                "label": "COUNTRY",
                "color": "#607D8B",
                "thickness_factor": 1,
                "directed": true
              },
              {
                "id": 29591,
                "start": 6155,
                "end": 368,
                "properties": {
                  "label": "COUNTRY"
                },
                "label": "COUNTRY",
                "color": "#607D8B",
                "thickness_factor": 1,
                "directed": true
              },
              {
                "id": 29610,
                "start": 6174,
                "end": 368,
                "properties": {
                  "label": "COUNTRY"
                },
                "label": "COUNTRY",
                "color": "#607D8B",
                "thickness_factor": 1,
                "directed": true
              },
              {
                "id": 30180,
                "start": 6744,
                "end": 375,
                "properties": {
                  "label": "COUNTRY"
                },
                "label": "COUNTRY",
                "color": "#607D8B",
                "thickness_factor": 1,
                "directed": true
              },
              {
                "id": 29605,
                "start": 6169,
                "end": 375,
                "properties": {
                  "label": "COUNTRY"
                },
                "label": "COUNTRY",
                "color": "#607D8B",
                "thickness_factor": 1,
                "directed": true
              },
              {
                "id": 35654,
                "start": 7113,
                "end": 375,
                "properties": {
                  "label": "COUNTRY"
                },
                "label": "COUNTRY",
                "color": "#607D8B",
                "thickness_factor": 1,
                "directed": true
              },
              {
                "id": 29877,
                "start": 6441,
                "end": 375,
                "properties": {
                  "label": "COUNTRY"
                },
                "label": "COUNTRY",
                "color": "#607D8B",
                "thickness_factor": 1,
                "directed": true
              },
              {
                "id": 36339,
                "start": 7249,
                "end": 375,
                "properties": {
                  "label": "COUNTRY"
                },
                "label": "COUNTRY",
                "color": "#607D8B",
                "thickness_factor": 1,
                "directed": true
              }
            ],
            "_graph_layout": {},
            "_highlight": [],
            "_license": {},
            "_model_module": "yfiles-jupyter-graphs",
            "_model_module_version": "^1.8.1",
            "_model_name": "GraphModel",
            "_neighborhood": {},
            "_nodes": [
              {
                "id": 338,
                "properties": {
                  "code": "CHN",
                  "name": "China",
                  "location": {
                    "x": 105,
                    "y": 35,
                    "z": 0
                  },
                  "tld": "CN",
                  "label": "Country"
                },
                "color": "#2196F3",
                "styles": {},
                "label": "China",
                "scale_factor": 1,
                "type": "#2196F3",
                "size": [
                  55,
                  55
                ],
                "position": [
                  0,
                  0
                ],
                "parentId": "GroupNodeCountries"
              },
              {
                "id": 6784,
                "properties": {
                  "name": "China Minsheng Banking Corporation Ltd",
                  "location": {
                    "x": 105,
                    "y": 35,
                    "z": 0
                  },
                  "id": "china-minsheng-banking-corporation-ltd-hengshui-china-chn",
                  "label": "Entity"
                },
                "color": "#4CAF50",
                "styles": {},
                "label": "China Minsheng Banking Corporation Ltd",
                "scale_factor": 1,
                "type": "#4CAF50",
                "size": [
                  55,
                  55
                ],
                "position": [
                  0,
                  0
                ],
                "parentId": "GroupNodeEntities"
              },
              {
                "id": 7513,
                "properties": {
                  "name": "China Development Bank",
                  "location": {
                    "x": 105,
                    "y": 35,
                    "z": 0
                  },
                  "id": "china-development-bank",
                  "label": "Entity"
                },
                "color": "#4CAF50",
                "styles": {},
                "label": "China Development Bank",
                "scale_factor": 1,
                "type": "#4CAF50",
                "size": [
                  55,
                  55
                ],
                "position": [
                  0,
                  0
                ],
                "parentId": "GroupNodeEntities"
              },
              {
                "id": 7351,
                "properties": {
                  "name": "Hang Seng Bank",
                  "location": {
                    "x": 105,
                    "y": 35,
                    "z": 0
                  },
                  "id": "hang-seng-bank",
                  "label": "Entity"
                },
                "color": "#4CAF50",
                "styles": {},
                "label": "Hang Seng Bank",
                "scale_factor": 1,
                "type": "#4CAF50",
                "size": [
                  55,
                  55
                ],
                "position": [
                  0,
                  0
                ],
                "parentId": "GroupNodeEntities"
              },
              {
                "id": 7587,
                "properties": {
                  "name": "Bank of China Sichuan Branch",
                  "location": {
                    "x": 105,
                    "y": 35,
                    "z": 0
                  },
                  "id": "bank-of-china-sichuan-branch",
                  "label": "Entity"
                },
                "color": "#4CAF50",
                "styles": {},
                "label": "Bank of China Sichuan Branch",
                "scale_factor": 1,
                "type": "#4CAF50",
                "size": [
                  55,
                  55
                ],
                "position": [
                  0,
                  0
                ],
                "parentId": "GroupNodeEntities"
              },
              {
                "id": 6069,
                "properties": {
                  "name": "Industrial And Comm'L Bank of China",
                  "location": {
                    "x": 105,
                    "y": 35,
                    "z": 0
                  },
                  "id": "industrial-and-comml-bank-of-china-fuzhou-china-chn",
                  "label": "Entity"
                },
                "color": "#4CAF50",
                "styles": {},
                "label": "Industrial And Comm'L Bank of China",
                "scale_factor": 1,
                "type": "#4CAF50",
                "size": [
                  55,
                  55
                ],
                "position": [
                  0,
                  0
                ],
                "parentId": "GroupNodeEntities"
              },
              {
                "id": 353,
                "properties": {
                  "code": "DNK",
                  "name": "Denmark",
                  "location": {
                    "x": 10,
                    "y": 56,
                    "z": 0
                  },
                  "tld": "DK",
                  "label": "Country"
                },
                "color": "#2196F3",
                "styles": {},
                "label": "Denmark",
                "scale_factor": 1,
                "type": "#2196F3",
                "size": [
                  55,
                  55
                ],
                "position": [
                  0,
                  0
                ],
                "parentId": "GroupNodeCountries"
              },
              {
                "id": 6439,
                "properties": {
                  "name": "Arbejdernes Landsbank A/S",
                  "location": {
                    "x": 10,
                    "y": 56,
                    "z": 0
                  },
                  "id": "arbejdernes-landsbank-as-copenhagen-denmark-dnk",
                  "label": "Entity"
                },
                "color": "#4CAF50",
                "styles": {},
                "label": "Arbejdernes Landsbank A/S",
                "scale_factor": 1,
                "type": "#4CAF50",
                "size": [
                  55,
                  55
                ],
                "position": [
                  0,
                  0
                ],
                "parentId": "GroupNodeEntities"
              },
              {
                "id": 7066,
                "properties": {
                  "name": "Danske Bank A S",
                  "location": {
                    "x": 10,
                    "y": 56,
                    "z": 0
                  },
                  "id": "danske-bank-a-s",
                  "label": "Entity"
                },
                "color": "#4CAF50",
                "styles": {},
                "label": "Danske Bank A S",
                "scale_factor": 1,
                "type": "#4CAF50",
                "size": [
                  55,
                  55
                ],
                "position": [
                  0,
                  0
                ],
                "parentId": "GroupNodeEntities"
              },
              {
                "id": 7230,
                "properties": {
                  "name": "Saxo Bank AS",
                  "location": {
                    "x": 10,
                    "y": 56,
                    "z": 0
                  },
                  "id": "saxo-bank-as",
                  "label": "Entity"
                },
                "color": "#4CAF50",
                "styles": {},
                "label": "Saxo Bank AS",
                "scale_factor": 1,
                "type": "#4CAF50",
                "size": [
                  55,
                  55
                ],
                "position": [
                  0,
                  0
                ],
                "parentId": "GroupNodeEntities"
              },
              {
                "id": 7552,
                "properties": {
                  "name": "A-S Jyske Bank",
                  "location": {
                    "x": 10,
                    "y": 56,
                    "z": 0
                  },
                  "id": "a-s-jyske-bank",
                  "label": "Entity"
                },
                "color": "#4CAF50",
                "styles": {},
                "label": "A-S Jyske Bank",
                "scale_factor": 1,
                "type": "#4CAF50",
                "size": [
                  55,
                  55
                ],
                "position": [
                  0,
                  0
                ],
                "parentId": "GroupNodeEntities"
              },
              {
                "id": 7170,
                "properties": {
                  "name": "Danske Bank A/S",
                  "location": {
                    "x": 10,
                    "y": 56,
                    "z": 0
                  },
                  "id": "danske-bank-as",
                  "label": "Entity"
                },
                "color": "#4CAF50",
                "styles": {},
                "label": "Danske Bank A/S",
                "scale_factor": 1,
                "type": "#4CAF50",
                "size": [
                  55,
                  55
                ],
                "position": [
                  0,
                  0
                ],
                "parentId": "GroupNodeEntities"
              },
              {
                "id": 357,
                "properties": {
                  "code": "ECU",
                  "name": "Ecuador",
                  "location": {
                    "x": -77.5,
                    "y": -2,
                    "z": 0
                  },
                  "tld": "EC",
                  "label": "Country"
                },
                "color": "#2196F3",
                "styles": {},
                "label": "Ecuador",
                "scale_factor": 1,
                "type": "#2196F3",
                "size": [
                  55,
                  55
                ],
                "position": [
                  0,
                  0
                ],
                "parentId": "GroupNodeCountries"
              },
              {
                "id": 6856,
                "properties": {
                  "name": "Banco Pichincha",
                  "location": {
                    "x": -77.5,
                    "y": -2,
                    "z": 0
                  },
                  "id": "banco-pichincha-ecuador-ecu",
                  "label": "Entity"
                },
                "color": "#4CAF50",
                "styles": {},
                "label": "Banco Pichincha",
                "scale_factor": 1,
                "type": "#4CAF50",
                "size": [
                  55,
                  55
                ],
                "position": [
                  0,
                  0
                ],
                "parentId": "GroupNodeEntities"
              },
              {
                "id": 6376,
                "properties": {
                  "name": "Banco De La Produccion S.A. Produbanco",
                  "location": {
                    "x": -77.5,
                    "y": -2,
                    "z": 0
                  },
                  "id": "banco-de-la-produccion-sa-produbanco-guayaquil-ecuador-ecu",
                  "label": "Entity"
                },
                "color": "#4CAF50",
                "styles": {},
                "label": "Banco De La Produccion S.A. Produbanco",
                "scale_factor": 1,
                "type": "#4CAF50",
                "size": [
                  55,
                  55
                ],
                "position": [
                  0,
                  0
                ],
                "parentId": "GroupNodeEntities"
              },
              {
                "id": 6377,
                "properties": {
                  "name": "Bancodel Pichincha",
                  "location": {
                    "x": -77.5,
                    "y": -2,
                    "z": 0
                  },
                  "id": "bancodel-pichincha-quito-ecuador-ecu",
                  "label": "Entity"
                },
                "color": "#4CAF50",
                "styles": {},
                "label": "Bancodel Pichincha",
                "scale_factor": 1,
                "type": "#4CAF50",
                "size": [
                  55,
                  55
                ],
                "position": [
                  0,
                  0
                ],
                "parentId": "GroupNodeEntities"
              },
              {
                "id": 6372,
                "properties": {
                  "name": "Banco Internacionals.A.",
                  "location": {
                    "x": -77.5,
                    "y": -2,
                    "z": 0
                  },
                  "id": "banco-internacionalsa-quito-ecuador-ecu",
                  "label": "Entity"
                },
                "color": "#4CAF50",
                "styles": {},
                "label": "Banco Internacionals.A.",
                "scale_factor": 1,
                "type": "#4CAF50",
                "size": [
                  55,
                  55
                ],
                "position": [
                  0,
                  0
                ],
                "parentId": "GroupNodeEntities"
              },
              {
                "id": 6855,
                "properties": {
                  "name": "Banco Internacional",
                  "location": {
                    "x": -77.5,
                    "y": -2,
                    "z": 0
                  },
                  "id": "banco-internacional-ecuador-ecu",
                  "label": "Entity"
                },
                "color": "#4CAF50",
                "styles": {},
                "label": "Banco Internacional",
                "scale_factor": 1,
                "type": "#4CAF50",
                "size": [
                  55,
                  55
                ],
                "position": [
                  0,
                  0
                ],
                "parentId": "GroupNodeEntities"
              },
              {
                "id": 368,
                "properties": {
                  "code": "FRA",
                  "name": "France",
                  "location": {
                    "x": 2,
                    "y": 46,
                    "z": 0
                  },
                  "tld": "FR",
                  "label": "Country"
                },
                "color": "#2196F3",
                "styles": {},
                "label": "France",
                "scale_factor": 1,
                "type": "#2196F3",
                "size": [
                  55,
                  55
                ],
                "position": [
                  0,
                  0
                ],
                "parentId": "GroupNodeCountries"
              },
              {
                "id": 7556,
                "properties": {
                  "name": "Bank of China Paris Branch",
                  "location": {
                    "x": 2,
                    "y": 46,
                    "z": 0
                  },
                  "id": "bank-of-china-paris-branch",
                  "label": "Entity"
                },
                "color": "#4CAF50",
                "styles": {},
                "label": "Bank of China Paris Branch",
                "scale_factor": 1,
                "type": "#4CAF50",
                "size": [
                  55,
                  55
                ],
                "position": [
                  0,
                  0
                ],
                "parentId": "GroupNodeEntities"
              },
              {
                "id": 6331,
                "properties": {
                  "name": "Societe Generale",
                  "location": {
                    "x": 2,
                    "y": 46,
                    "z": 0
                  },
                  "id": "societe-generale-paris-france-fra",
                  "label": "Entity"
                },
                "color": "#4CAF50",
                "styles": {},
                "label": "Societe Generale",
                "scale_factor": 1,
                "type": "#4CAF50",
                "size": [
                  55,
                  55
                ],
                "position": [
                  0,
                  0
                ],
                "parentId": "GroupNodeEntities"
              },
              {
                "id": 7520,
                "properties": {
                  "name": "Societe Generale",
                  "location": {
                    "x": 2,
                    "y": 46,
                    "z": 0
                  },
                  "id": "societe-generale",
                  "label": "Entity"
                },
                "color": "#4CAF50",
                "styles": {},
                "label": "Societe Generale",
                "scale_factor": 1,
                "type": "#4CAF50",
                "size": [
                  55,
                  55
                ],
                "position": [
                  0,
                  0
                ],
                "parentId": "GroupNodeEntities"
              },
              {
                "id": 6155,
                "properties": {
                  "name": "Bnp Paribas SA Formerly Banque Nationale De Paris S A",
                  "location": {
                    "x": 2,
                    "y": 46,
                    "z": 0
                  },
                  "id": "bnp-paribas-sa-formerly-banque-nationale-de-paris-s-a-paris-france-fra",
                  "label": "Entity"
                },
                "color": "#4CAF50",
                "styles": {},
                "label": "Bnp Paribas SA Formerly Banque Nationale De Paris S A",
                "scale_factor": 1,
                "type": "#4CAF50",
                "size": [
                  55,
                  55
                ],
                "position": [
                  0,
                  0
                ],
                "parentId": "GroupNodeEntities"
              },
              {
                "id": 6174,
                "properties": {
                  "name": "Barclays Bank Plc",
                  "location": {
                    "x": 2,
                    "y": 46,
                    "z": 0
                  },
                  "id": "barclays-bank-plc-france-fra",
                  "label": "Entity"
                },
                "color": "#4CAF50",
                "styles": {},
                "label": "Barclays Bank Plc",
                "scale_factor": 1,
                "type": "#4CAF50",
                "size": [
                  55,
                  55
                ],
                "position": [
                  0,
                  0
                ],
                "parentId": "GroupNodeEntities"
              },
              {
                "id": 375,
                "properties": {
                  "code": "DEU",
                  "name": "Germany",
                  "location": {
                    "x": 9,
                    "y": 51,
                    "z": 0
                  },
                  "tld": "DE",
                  "label": "Country"
                },
                "color": "#2196F3",
                "styles": {},
                "label": "Germany",
                "scale_factor": 1,
                "type": "#2196F3",
                "size": [
                  55,
                  55
                ],
                "position": [
                  0,
                  0
                ],
                "parentId": "GroupNodeCountries"
              },
              {
                "id": 6744,
                "properties": {
                  "name": "Commerzbank A.G.",
                  "location": {
                    "x": 9,
                    "y": 51,
                    "z": 0
                  },
                  "id": "commerzbank-ag-frankfurt-am-main-germany-deu",
                  "label": "Entity"
                },
                "color": "#4CAF50",
                "styles": {},
                "label": "Commerzbank A.G.",
                "scale_factor": 1,
                "type": "#4CAF50",
                "size": [
                  55,
                  55
                ],
                "position": [
                  0,
                  0
                ],
                "parentId": "GroupNodeEntities"
              },
              {
                "id": 6169,
                "properties": {
                  "name": "HSBC Trinkaus Burkhardt AG",
                  "location": {
                    "x": 9,
                    "y": 51,
                    "z": 0
                  },
                  "id": "hsbc-trinkaus-burkhardt-ag-frankfurt-germany-deu",
                  "label": "Entity"
                },
                "color": "#4CAF50",
                "styles": {},
                "label": "HSBC Trinkaus Burkhardt AG",
                "scale_factor": 1,
                "type": "#4CAF50",
                "size": [
                  55,
                  55
                ],
                "position": [
                  0,
                  0
                ],
                "parentId": "GroupNodeEntities"
              },
              {
                "id": 7113,
                "properties": {
                  "name": "Bhf Bank Aktiengesellschaft",
                  "location": {
                    "x": 9,
                    "y": 51,
                    "z": 0
                  },
                  "id": "bhf-bank-aktiengesellschaft",
                  "label": "Entity"
                },
                "color": "#4CAF50",
                "styles": {},
                "label": "Bhf Bank Aktiengesellschaft",
                "scale_factor": 1,
                "type": "#4CAF50",
                "size": [
                  55,
                  55
                ],
                "position": [
                  0,
                  0
                ],
                "parentId": "GroupNodeEntities"
              },
              {
                "id": 6441,
                "properties": {
                  "name": "HSBC Trinkaus Und Burkhardt AG",
                  "location": {
                    "x": 9,
                    "y": 51,
                    "z": 0
                  },
                  "id": "hsbc-trinkaus-und-burkhardt-ag-duesseldorf-germany-deu",
                  "label": "Entity"
                },
                "color": "#4CAF50",
                "styles": {},
                "label": "HSBC Trinkaus Und Burkhardt AG",
                "scale_factor": 1,
                "type": "#4CAF50",
                "size": [
                  55,
                  55
                ],
                "position": [
                  0,
                  0
                ],
                "parentId": "GroupNodeEntities"
              },
              {
                "id": 7249,
                "properties": {
                  "name": "Volksbank Kamen Werne Eg",
                  "location": {
                    "x": 9,
                    "y": 51,
                    "z": 0
                  },
                  "id": "volksbank-kamen-werne-eg",
                  "label": "Entity"
                },
                "color": "#4CAF50",
                "styles": {},
                "label": "Volksbank Kamen Werne Eg",
                "scale_factor": 1,
                "type": "#4CAF50",
                "size": [
                  55,
                  55
                ],
                "position": [
                  0,
                  0
                ],
                "parentId": "GroupNodeEntities"
              },
              {
                "id": "GroupNodeCountries",
                "properties": {
                  "label": "Countries"
                },
                "color": "#2196F3",
                "styles": {},
                "label": "Countries",
                "scale_factor": 1,
                "type": "#2196F3",
                "size": [
                  55,
                  55
                ],
                "position": [
                  0,
                  0
                ]
              },
              {
                "id": "GroupNodeEntities",
                "properties": {
                  "label": "Entities"
                },
                "color": "#F44336",
                "styles": {},
                "label": "Entities",
                "scale_factor": 1,
                "type": "#F44336",
                "size": [
                  55,
                  55
                ],
                "position": [
                  0,
                  0
                ]
              }
            ],
            "_overview": {
              "enabled": null,
              "overview_set": false
            },
            "_selected_graph": [
              [],
              []
            ],
            "_sidebar": {
              "enabled": true,
              "start_with": "About"
            },
            "_view_count": null,
            "_view_module": "yfiles-jupyter-graphs",
            "_view_module_version": "^1.8.1",
            "_view_name": "GraphView",
            "layout": "IPY_MODEL_872fabff06e54b5880b89faf8584a049",
            "tabbable": null,
            "tooltip": null
          }
        },
        "872fabff06e54b5880b89faf8584a049": {
          "model_module": "@jupyter-widgets/base",
          "model_name": "LayoutModel",
          "model_module_version": "2.0.0",
          "state": {
            "_model_module": "@jupyter-widgets/base",
            "_model_module_version": "2.0.0",
            "_model_name": "LayoutModel",
            "_view_count": null,
            "_view_module": "@jupyter-widgets/base",
            "_view_module_version": "2.0.0",
            "_view_name": "LayoutView",
            "align_content": null,
            "align_items": null,
            "align_self": null,
            "border_bottom": null,
            "border_left": null,
            "border_right": null,
            "border_top": null,
            "bottom": null,
            "display": null,
            "flex": null,
            "flex_flow": null,
            "grid_area": null,
            "grid_auto_columns": null,
            "grid_auto_flow": null,
            "grid_auto_rows": null,
            "grid_column": null,
            "grid_gap": null,
            "grid_row": null,
            "grid_template_areas": null,
            "grid_template_columns": null,
            "grid_template_rows": null,
            "height": "800px",
            "justify_content": null,
            "justify_items": null,
            "left": null,
            "margin": null,
            "max_height": null,
            "max_width": null,
            "min_height": null,
            "min_width": null,
            "object_fit": null,
            "object_position": null,
            "order": null,
            "overflow": null,
            "padding": null,
            "right": null,
            "top": null,
            "visibility": null,
            "width": "100%"
          }
        },
        "7fe8e3200e7f4d64af88e88da55bc089": {
          "model_module": "yfiles-jupyter-graphs",
          "model_name": "GraphModel",
          "model_module_version": "^1.8.1",
          "state": {
            "_context_pane_mapping": [
              {
                "id": "Neighborhood",
                "title": "Neighborhood"
              },
              {
                "id": "Data",
                "title": "Data"
              },
              {
                "id": "Search",
                "title": "Search"
              },
              {
                "id": "About",
                "title": "About"
              }
            ],
            "_data_importer": "neo4j",
            "_directed": true,
            "_dom_classes": [],
            "_edges": [
              {
                "id": 26728,
                "start": 4048,
                "end": 5985,
                "properties": {
                  "label": "CONCERNS"
                },
                "label": "CONCERNS",
                "color": "#607D8B",
                "thickness_factor": 1,
                "directed": true
              },
              {
                "id": 26726,
                "start": 5985,
                "end": 307,
                "properties": {
                  "label": "COUNTRY"
                },
                "label": "COUNTRY",
                "color": "#673AB7",
                "thickness_factor": 1,
                "directed": true
              }
            ],
            "_graph_layout": {},
            "_highlight": [],
            "_license": {},
            "_model_module": "yfiles-jupyter-graphs",
            "_model_module_version": "^1.8.1",
            "_model_name": "GraphModel",
            "_neighborhood": {},
            "_nodes": [
              {
                "id": 4048,
                "properties": {
                  "end_date": "Aug 10, 2016",
                  "amount": 55797598,
                  "beneficiary_iso": "SGP",
                  "beneficiary_lng": "103.8",
                  "begin_date": "Mar 9, 2016",
                  "originator_bank": "Macquarie Bank Ltd",
                  "beneficiary_lat": "1.3667",
                  "begin_date_format": "2016-03-09T00:00:00Z",
                  "beneficiary_bank_id": "citibank-na-singapore-sgp",
                  "end_date_format": "2016-08-10T00:00:00Z",
                  "originator_iso": "AUS",
                  "origin_lat": "-27",
                  "number": 9,
                  "filer_org_name": "The Bank of New York Mellon Corp.",
                  "originator_bank_country": "Australia",
                  "beneficiary_bank_country": "Singapore",
                  "filer_org_name_id": "the-bank-of-new-york-mellon-corp",
                  "beneficiary_bank": "Citibank, N.A.",
                  "end": "2016-08-10T00:00:00.000000",
                  "origin_lng": "133",
                  "originator_bank_id": "macquarie-bank-ltd",
                  "id": "238709",
                  "begin": "2016-03-09T00:00:00.000000",
                  "sar_id": "3342",
                  "label": "Filing"
                },
                "color": "#2196F3",
                "styles": {},
                "label": "Filing",
                "scale_factor": 1,
                "type": "#2196F3",
                "size": [
                  55,
                  55
                ],
                "position": [
                  0,
                  0
                ]
              },
              {
                "id": 5985,
                "properties": {
                  "country": "AUS",
                  "name": "Macquarie Bank Ltd",
                  "location": {
                    "x": 133,
                    "y": -27,
                    "z": 0
                  },
                  "id": "macquarie-bank-ltd-sydney-australia-aus",
                  "label": "Entity"
                },
                "color": "#4CAF50",
                "styles": {},
                "label": "Macquarie Bank Ltd",
                "scale_factor": 1,
                "type": "#4CAF50",
                "size": [
                  55,
                  55
                ],
                "position": [
                  0,
                  0
                ]
              },
              {
                "id": 307,
                "properties": {
                  "code": "AUS",
                  "name": "Australia",
                  "location": {
                    "x": 133,
                    "y": -27,
                    "z": 0
                  },
                  "tld": "AU",
                  "label": "Country"
                },
                "color": "#F44336",
                "styles": {},
                "label": "Australia",
                "scale_factor": 1,
                "type": "#F44336",
                "size": [
                  55,
                  55
                ],
                "position": [
                  0,
                  0
                ]
              }
            ],
            "_overview": {
              "enabled": null,
              "overview_set": false
            },
            "_selected_graph": [
              [],
              []
            ],
            "_sidebar": {
              "enabled": true,
              "start_with": "About"
            },
            "_view_count": null,
            "_view_module": "yfiles-jupyter-graphs",
            "_view_module_version": "^1.8.1",
            "_view_name": "GraphView",
            "layout": "IPY_MODEL_6c99db6bcc1b4ce4955c4ec85967b793",
            "tabbable": null,
            "tooltip": null
          }
        },
        "6c99db6bcc1b4ce4955c4ec85967b793": {
          "model_module": "@jupyter-widgets/base",
          "model_name": "LayoutModel",
          "model_module_version": "2.0.0",
          "state": {
            "_model_module": "@jupyter-widgets/base",
            "_model_module_version": "2.0.0",
            "_model_name": "LayoutModel",
            "_view_count": null,
            "_view_module": "@jupyter-widgets/base",
            "_view_module_version": "2.0.0",
            "_view_name": "LayoutView",
            "align_content": null,
            "align_items": null,
            "align_self": null,
            "border_bottom": null,
            "border_left": null,
            "border_right": null,
            "border_top": null,
            "bottom": null,
            "display": null,
            "flex": null,
            "flex_flow": null,
            "grid_area": null,
            "grid_auto_columns": null,
            "grid_auto_flow": null,
            "grid_auto_rows": null,
            "grid_column": null,
            "grid_gap": null,
            "grid_row": null,
            "grid_template_areas": null,
            "grid_template_columns": null,
            "grid_template_rows": null,
            "height": "500px",
            "justify_content": null,
            "justify_items": null,
            "left": null,
            "margin": null,
            "max_height": null,
            "max_width": null,
            "min_height": null,
            "min_width": null,
            "object_fit": null,
            "object_position": null,
            "order": null,
            "overflow": null,
            "padding": null,
            "right": null,
            "top": null,
            "visibility": null,
            "width": "100%"
          }
        },
        "a9a409db8dc54d339c0c38c961896642": {
          "model_module": "@jupyter-widgets/base",
          "model_name": "LayoutModel",
          "model_module_version": "2.0.0",
          "state": {
            "_model_module": "@jupyter-widgets/base",
            "_model_module_version": "2.0.0",
            "_model_name": "LayoutModel",
            "_view_count": null,
            "_view_module": "@jupyter-widgets/base",
            "_view_module_version": "2.0.0",
            "_view_name": "LayoutView",
            "align_content": null,
            "align_items": null,
            "align_self": null,
            "border_bottom": null,
            "border_left": null,
            "border_right": null,
            "border_top": null,
            "bottom": null,
            "display": null,
            "flex": null,
            "flex_flow": null,
            "grid_area": null,
            "grid_auto_columns": null,
            "grid_auto_flow": null,
            "grid_auto_rows": null,
            "grid_column": null,
            "grid_gap": null,
            "grid_row": null,
            "grid_template_areas": null,
            "grid_template_columns": null,
            "grid_template_rows": null,
            "height": "500px",
            "justify_content": null,
            "justify_items": null,
            "left": null,
            "margin": null,
            "max_height": null,
            "max_width": null,
            "min_height": null,
            "min_width": null,
            "object_fit": null,
            "object_position": null,
            "order": null,
            "overflow": null,
            "padding": null,
            "right": null,
            "top": null,
            "visibility": null,
            "width": "100%"
          }
        },
        "c9de6254ec6941708f64f1793afb550e": {
          "model_module": "yfiles-jupyter-graphs",
          "model_name": "GraphModel",
          "model_module_version": "^1.8.1",
          "state": {
            "_context_pane_mapping": [
              {
                "id": "Neighborhood",
                "title": "Neighborhood"
              },
              {
                "id": "Data",
                "title": "Data"
              },
              {
                "id": "Search",
                "title": "Search"
              },
              {
                "id": "About",
                "title": "About"
              }
            ],
            "_data_importer": "neo4j",
            "_directed": true,
            "_dom_classes": [],
            "_edges": [],
            "_graph_layout": {},
            "_highlight": [],
            "_license": {},
            "_model_module": "yfiles-jupyter-graphs",
            "_model_module_version": "^1.8.1",
            "_model_name": "GraphModel",
            "_neighborhood": {},
            "_nodes": [
              {
                "id": 4048,
                "properties": {
                  "end_date": "Aug 10, 2016",
                  "amount": 55797598,
                  "beneficiary_iso": "SGP",
                  "beneficiary_lng": "103.8",
                  "begin_date": "Mar 9, 2016",
                  "originator_bank": "Macquarie Bank Ltd",
                  "beneficiary_lat": "1.3667",
                  "begin_date_format": "2016-03-09T00:00:00Z",
                  "beneficiary_bank_id": "citibank-na-singapore-sgp",
                  "end_date_format": "2016-08-10T00:00:00Z",
                  "originator_iso": "AUS",
                  "origin_lat": "-27",
                  "number": 9,
                  "filer_org_name": "The Bank of New York Mellon Corp.",
                  "originator_bank_country": "Australia",
                  "beneficiary_bank_country": "Singapore",
                  "filer_org_name_id": "the-bank-of-new-york-mellon-corp",
                  "beneficiary_bank": "Citibank, N.A.",
                  "end": "2016-08-10T00:00:00.000000",
                  "origin_lng": "133",
                  "originator_bank_id": "macquarie-bank-ltd",
                  "id": "238709",
                  "begin": "2016-03-09T00:00:00.000000",
                  "sar_id": "3342",
                  "label": "Filing"
                },
                "color": "#2196F3",
                "styles": {},
                "label": "Filing",
                "scale_factor": 1,
                "type": "#2196F3",
                "size": [
                  55,
                  55
                ],
                "position": [
                  0,
                  0
                ],
                "parentId": 5985
              },
              {
                "id": 5985,
                "properties": {
                  "country": "AUS",
                  "name": "Macquarie Bank Ltd",
                  "location": {
                    "x": 133,
                    "y": -27,
                    "z": 0
                  },
                  "id": "macquarie-bank-ltd-sydney-australia-aus",
                  "label": "Entity"
                },
                "color": "#4CAF50",
                "styles": {},
                "label": "Macquarie Bank Ltd",
                "scale_factor": 1,
                "type": "#4CAF50",
                "size": [
                  55,
                  55
                ],
                "position": [
                  0,
                  0
                ],
                "parentId": 307
              },
              {
                "id": 307,
                "properties": {
                  "code": "AUS",
                  "name": "Australia",
                  "location": {
                    "x": 133,
                    "y": -27,
                    "z": 0
                  },
                  "tld": "AU",
                  "label": "Country"
                },
                "color": "#F44336",
                "styles": {},
                "label": "Australia",
                "scale_factor": 1,
                "type": "#F44336",
                "size": [
                  55,
                  55
                ],
                "position": [
                  0,
                  0
                ]
              }
            ],
            "_overview": {
              "enabled": null,
              "overview_set": false
            },
            "_selected_graph": [
              [],
              []
            ],
            "_sidebar": {
              "enabled": true,
              "start_with": "About"
            },
            "_view_count": null,
            "_view_module": "yfiles-jupyter-graphs",
            "_view_module_version": "^1.8.1",
            "_view_name": "GraphView",
            "layout": "IPY_MODEL_20603d61ed7041f894937f7ae8c8b944",
            "tabbable": null,
            "tooltip": null
          }
        },
        "20603d61ed7041f894937f7ae8c8b944": {
          "model_module": "@jupyter-widgets/base",
          "model_name": "LayoutModel",
          "model_module_version": "2.0.0",
          "state": {
            "_model_module": "@jupyter-widgets/base",
            "_model_module_version": "2.0.0",
            "_model_name": "LayoutModel",
            "_view_count": null,
            "_view_module": "@jupyter-widgets/base",
            "_view_module_version": "2.0.0",
            "_view_name": "LayoutView",
            "align_content": null,
            "align_items": null,
            "align_self": null,
            "border_bottom": null,
            "border_left": null,
            "border_right": null,
            "border_top": null,
            "bottom": null,
            "display": null,
            "flex": null,
            "flex_flow": null,
            "grid_area": null,
            "grid_auto_columns": null,
            "grid_auto_flow": null,
            "grid_auto_rows": null,
            "grid_column": null,
            "grid_gap": null,
            "grid_row": null,
            "grid_template_areas": null,
            "grid_template_columns": null,
            "grid_template_rows": null,
            "height": "500px",
            "justify_content": null,
            "justify_items": null,
            "left": null,
            "margin": null,
            "max_height": null,
            "max_width": null,
            "min_height": null,
            "min_width": null,
            "object_fit": null,
            "object_position": null,
            "order": null,
            "overflow": null,
            "padding": null,
            "right": null,
            "top": null,
            "visibility": null,
            "width": "100%"
          }
        },
        "954d7d2a5eb9446fa062b39f5dbf9b72": {
          "model_module": "yfiles-jupyter-graphs",
          "model_name": "GraphModel",
          "model_module_version": "^1.8.1",
          "state": {
            "_context_pane_mapping": [
              {
                "id": "Neighborhood",
                "title": "Neighborhood"
              },
              {
                "id": "Data",
                "title": "Data"
              },
              {
                "id": "Search",
                "title": "Search"
              },
              {
                "id": "About",
                "title": "About"
              }
            ],
            "_data_importer": "neo4j",
            "_directed": true,
            "_dom_classes": [],
            "_edges": [
              {
                "id": 26728,
                "start": 4048,
                "end": 5985,
                "properties": {
                  "label": "CONCERNS"
                },
                "label": "CONCERNS",
                "color": "#607D8B",
                "thickness_factor": 1,
                "directed": true
              },
              {
                "id": 26726,
                "start": 5985,
                "end": 307,
                "properties": {
                  "label": "COUNTRY"
                },
                "label": "COUNTRY",
                "color": "#673AB7",
                "thickness_factor": 1,
                "directed": true
              }
            ],
            "_graph_layout": {},
            "_highlight": [],
            "_license": {},
            "_model_module": "yfiles-jupyter-graphs",
            "_model_module_version": "^1.8.1",
            "_model_name": "GraphModel",
            "_neighborhood": {},
            "_nodes": [
              {
                "id": 4048,
                "properties": {
                  "end_date": "Aug 10, 2016",
                  "amount": 55797598,
                  "beneficiary_iso": "SGP",
                  "beneficiary_lng": "103.8",
                  "begin_date": "Mar 9, 2016",
                  "originator_bank": "Macquarie Bank Ltd",
                  "beneficiary_lat": "1.3667",
                  "begin_date_format": "2016-03-09T00:00:00Z",
                  "beneficiary_bank_id": "citibank-na-singapore-sgp",
                  "end_date_format": "2016-08-10T00:00:00Z",
                  "originator_iso": "AUS",
                  "origin_lat": "-27",
                  "number": 9,
                  "filer_org_name": "The Bank of New York Mellon Corp.",
                  "originator_bank_country": "Australia",
                  "beneficiary_bank_country": "Singapore",
                  "filer_org_name_id": "the-bank-of-new-york-mellon-corp",
                  "beneficiary_bank": "Citibank, N.A.",
                  "end": "2016-08-10T00:00:00.000000",
                  "origin_lng": "133",
                  "originator_bank_id": "macquarie-bank-ltd",
                  "id": "238709",
                  "begin": "2016-03-09T00:00:00.000000",
                  "sar_id": "3342",
                  "label": "Filing"
                },
                "color": "#2196F3",
                "styles": {},
                "label": "Filing",
                "scale_factor": 1,
                "type": "#2196F3",
                "size": [
                  55,
                  55
                ],
                "position": [
                  0,
                  0
                ]
              },
              {
                "id": 5985,
                "properties": {
                  "country": "AUS",
                  "name": "Macquarie Bank Ltd",
                  "location": {
                    "x": 133,
                    "y": -27,
                    "z": 0
                  },
                  "id": "macquarie-bank-ltd-sydney-australia-aus",
                  "label": "Entity"
                },
                "color": "#4CAF50",
                "styles": {},
                "label": "Macquarie Bank Ltd",
                "scale_factor": 1,
                "type": "#4CAF50",
                "size": [
                  55,
                  55
                ],
                "position": [
                  0,
                  0
                ]
              },
              {
                "id": 307,
                "properties": {
                  "code": "AUS",
                  "name": "Australia",
                  "location": {
                    "x": 133,
                    "y": -27,
                    "z": 0
                  },
                  "tld": "AU",
                  "label": "Country"
                },
                "color": "#F44336",
                "styles": {},
                "label": "Australia",
                "scale_factor": 1,
                "type": "#F44336",
                "size": [
                  55,
                  55
                ],
                "position": [
                  0,
                  0
                ]
              }
            ],
            "_overview": {
              "enabled": null,
              "overview_set": false
            },
            "_selected_graph": [
              [],
              []
            ],
            "_sidebar": {
              "enabled": true,
              "start_with": "About"
            },
            "_view_count": null,
            "_view_module": "yfiles-jupyter-graphs",
            "_view_module_version": "^1.8.1",
            "_view_name": "GraphView",
            "layout": "IPY_MODEL_9f478dde72824e04b102be3a18e8deb7",
            "tabbable": null,
            "tooltip": null
          }
        },
        "9f478dde72824e04b102be3a18e8deb7": {
          "model_module": "@jupyter-widgets/base",
          "model_name": "LayoutModel",
          "model_module_version": "2.0.0",
          "state": {
            "_model_module": "@jupyter-widgets/base",
            "_model_module_version": "2.0.0",
            "_model_name": "LayoutModel",
            "_view_count": null,
            "_view_module": "@jupyter-widgets/base",
            "_view_module_version": "2.0.0",
            "_view_name": "LayoutView",
            "align_content": null,
            "align_items": null,
            "align_self": null,
            "border_bottom": null,
            "border_left": null,
            "border_right": null,
            "border_top": null,
            "bottom": null,
            "display": null,
            "flex": null,
            "flex_flow": null,
            "grid_area": null,
            "grid_auto_columns": null,
            "grid_auto_flow": null,
            "grid_auto_rows": null,
            "grid_column": null,
            "grid_gap": null,
            "grid_row": null,
            "grid_template_areas": null,
            "grid_template_columns": null,
            "grid_template_rows": null,
            "height": "500px",
            "justify_content": null,
            "justify_items": null,
            "left": null,
            "margin": null,
            "max_height": null,
            "max_width": null,
            "min_height": null,
            "min_width": null,
            "object_fit": null,
            "object_position": null,
            "order": null,
            "overflow": null,
            "padding": null,
            "right": null,
            "top": null,
            "visibility": null,
            "width": "100%"
          }
        }
      }
    }
  },
  "nbformat": 4,
  "nbformat_minor": 5
}